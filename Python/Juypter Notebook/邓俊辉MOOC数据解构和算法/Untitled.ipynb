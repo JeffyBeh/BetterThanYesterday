{
 "cells": [
  {
   "cell_type": "markdown",
   "metadata": {},
   "source": [
    "## 01-Days"
   ]
  },
  {
   "cell_type": "markdown",
   "metadata": {},
   "source": [
    "## 1. Hailstone sequence\n",
    " > $$ hailstone\\left(n\\right) = \\begin{cases} 1 \\quad\\text{, if n equals 1} \\\\3n+1 \\quad\\text{, if n is even} \\\\ n\\,/\\, 2 \\quad\\text{, if n is odd}\\end{cases}$$"
   ]
  },
  {
   "cell_type": "code",
   "execution_count": 16,
   "metadata": {},
   "outputs": [
    {
     "name": "stdout",
     "output_type": "stream",
     "text": [
      "27  82  41  124  62  31  94  47  142  71  214  107  322  161  484  242  121  364  182  91  274  137  412  206  103  310  155  466  233  700  350  175  526  263  790  395  1186  593  1780  890  445  1336  668  334  167  502  251  754  377  1132  566  283  850  425  1276  638  319  958  479  1438  719  2158  1079  3238  1619  4858  2429  7288  3644  1822  911  2734  1367  4102  2051  6154  3077  9232  4616  2308  1154  577  1732  866  433  1300  650  325  976  488  244  122  61  184  92  46  23  70  35  106  53  160  80  40  20  10  5  16  8  4  2  1\n"
     ]
    }
   ],
   "source": [
    "def hailstone(n):\n",
    "    if n == 1:\n",
    "        return 1\n",
    "    print(n, end=\"  \")\n",
    "    return hailstone(3 * n + 1) if n % 2 else hailstone(int(n / 2))\n",
    "\n",
    "\n",
    "def main():\n",
    "    print(hailstone(27))\n",
    "\n",
    "if __name__ == \"__main__\":\n",
    "    main()"
   ]
  },
  {
   "cell_type": "markdown",
   "metadata": {},
   "source": [
    "## 1.2 封底估算\n",
    "- 1天 = 24r * 60min * 60sec = 25 * 4000 = $10^5$sec\n",
    "- 一生 = 1世纪 = 100yr * 365 = 3 * $10^4$day = 3 * $10^9$sec\n",
    "- 300yr = $10^{10}$sec"
   ]
  },
  {
   "cell_type": "markdown",
   "metadata": {},
   "source": [
    "## 2. 分治法\n",
    "迭代乃人工，递归方神通<br>\n",
    "To iterate is human,  to recurse, devine.<br>\n",
    "\n",
    "凡治众如治寡，分数是也<br>\n",
    "The contorl of a large force is the same principle as the control a few men:<br>\n",
    "it is merely a question of dividing up their numbers."
   ]
  },
  {
   "cell_type": "code",
   "execution_count": 47,
   "metadata": {},
   "outputs": [
    {
     "name": "stdout",
     "output_type": "stream",
     "text": [
      "(23434, 565)\n",
      "13\n"
     ]
    }
   ],
   "source": [
    "\"\"\"\n",
    "    求解数列中最大及次大值\n",
    "        使用分治法（二分法）\n",
    "        分析比较次数\n",
    "\"\"\"\n",
    "count = 0\n",
    "\n",
    "\n",
    "def max2_value(origin_item, comp=lambda x,y:x>y):\n",
    "    items = origin_item[:]\n",
    "    max1, max2 = _max2_value(items, 0, len(items)-1, comp)\n",
    "    return max1, max2\n",
    "\n",
    "\n",
    "def _max2_value(items, lo, hi, comp):\n",
    "    global count\n",
    "    count += 1\n",
    "    if lo + 2 == hi:\n",
    "        x1 = items[lo]\n",
    "        x2 = items[lo+1]\n",
    "        return (x1, x2) if x1 > x2 else (x2, x1)\n",
    "    if lo + 3 == hi:\n",
    "        x1 = items[lo]\n",
    "        x2 = items[lo+1]\n",
    "        x3 = items[lo+2]\n",
    "        if comp(x1, x2):\n",
    "            return (x1, x2) if x2 > x3 else (x1, x3)\n",
    "        else:\n",
    "            return (x1, x2) if x1 > x3 else (x2, x3)\n",
    "    mi = (lo + hi) // 2\n",
    "    lx1, lx2 = _max2_value(items, lo, mi, comp)\n",
    "    rx1, rx2 = _max2_value(items, mi, hi, comp)\n",
    "    if comp(lx1, rx1):\n",
    "        return (lx1, lx2) if lx2 > rx1 else (lx1, rx1)\n",
    "    else:\n",
    "        return (rx1, rx2) if rx2 > lx1 else (rx1, lx1)\n",
    "    \n",
    "\n",
    "def main():\n",
    "    origin_item = [2, 3, 4, 45, 34, 122, 46, 2, 565, 23434, 3, 5, 16, 42, 77, 100]\n",
    "    print(max2_value(origin_item))\n",
    "    print(count)\n",
    "    \n",
    "    \n",
    "if __name__ == \"__main__\":\n",
    "    main()\n"
   ]
  },
  {
   "cell_type": "markdown",
   "metadata": {},
   "source": [
    "### 2.1动态规划法\n",
    "- Mike it work, make it right, make it fast\n",
    " -- Kent Beck\n",
    "#### 2.1.1 斐波那契数列\n",
    "$$ f(n+1) = O(\\Phi^n)\\bigg( \\Phi = \\frac{1+\\sqrt{5}} {2} = 1.61803\\dots\\bigg)$$\n",
    "\n",
    "$$ \\Phi^{36} = 2^{25}, \\Phi^{43} = 2^{25} = 10^9flo = 1 sec $$"
   ]
  },
  {
   "cell_type": "code",
   "execution_count": 13,
   "metadata": {},
   "outputs": [
    {
     "name": "stdout",
     "output_type": "stream",
     "text": [
      "0 1 1 2 3 5 8 13 21 34 55 89 144 233 377 610 987 1597 2584 4181 6765 10946 17711 28657 46368 75025 121393 196418 317811 514229 832040 1346269 2178309 3524578 5702887 9227465 14930352 \n",
      "共花费时间: 35.51057457923889\n"
     ]
    }
   ],
   "source": [
    "import time\n",
    "\"\"\"\n",
    "    该递归方法存在大量重复底层计算，从而消耗更多的时间\n",
    "\"\"\"\n",
    "def fibonacci(n):\n",
    "    return n if 2 > n else fibonacci(n-1) + fibonacci(n-2)\n",
    "start = time.time()\n",
    "for i in range(37):\n",
    "    print(fibonacci(i), end=\" \")\n",
    "end = time.time()\n",
    "print()\n",
    "print(\"共花费时间:\", end-start)"
   ]
  },
  {
   "cell_type": "code",
   "execution_count": 18,
   "metadata": {},
   "outputs": [
    {
     "name": "stdout",
     "output_type": "stream",
     "text": [
      "\n",
      "1 2 3 5 8 13 21 34 55 89 144 233 377 610 987 1597 2584 4181 6765 10946 17711 28657 46368 75025 121393 196418 317811 514229 832040 1346269 2178309 3524578 5702887 9227465 14930352 24157817 39088169 共花费时间： 0.0010001659393310547\n"
     ]
    }
   ],
   "source": [
    "\"\"\"\n",
    "    利用动态规划法优化\n",
    "\"\"\"\n",
    "import time\n",
    "def fib(n):\n",
    "    f, g = 0, 1\n",
    "    while 0 < n:\n",
    "        g = g + f\n",
    "        f = g - f\n",
    "        n -= 1\n",
    "        print(g, end=\" \")\n",
    "        \n",
    "print()\n",
    "start = time.time()\n",
    "fib(37)\n",
    "end = time.time()\n",
    "print(\"共花费时间：\", end-start)"
   ]
  },
  {
   "cell_type": "markdown",
   "metadata": {},
   "source": [
    "#### 2.1.2 LCS问题\n",
    "- Longest Common Sequence：最长公共子序列（顺序不变）\n",
    "> 例：education 和 advantage 的最大公共子序列为（data和dana）"
   ]
  },
  {
   "cell_type": "code",
   "execution_count": 48,
   "metadata": {},
   "outputs": [
    {
     "name": "stdout",
     "output_type": "stream",
     "text": [
      "data\n",
      "data\n",
      "data\n",
      "data\n",
      "data\n",
      "data\n",
      "data\n",
      "data\n",
      "data\n",
      "data\n",
      "data\n",
      "data\n",
      "data\n",
      "data\n",
      "data\n",
      "data\n",
      "data\n",
      "data\n",
      "data\n",
      "data\n",
      "data\n",
      "data\n",
      "data\n",
      "data\n",
      "data\n",
      "data\n",
      "data\n",
      "data\n",
      "data\n",
      "data\n",
      "data\n",
      "data\n",
      "data\n",
      "data\n",
      "data\n",
      "data\n",
      "data\n",
      "data\n",
      "data\n",
      "data\n",
      "data\n",
      "data\n",
      "data\n",
      "data\n",
      "data\n",
      "data\n",
      "data\n",
      "data\n",
      "data\n",
      "data\n",
      "data\n",
      "data\n",
      "data\n",
      "data\n",
      "data\n",
      "data\n",
      "data\n",
      "data\n",
      "data\n",
      "data\n"
     ]
    }
   ],
   "source": [
    "\"\"\"\n",
    "    递归求解LCS:\n",
    "    1. 如果两组序列末尾相同，同时去除末尾字母继续求解\n",
    "    2. 如果两组序列末尾不同，去除a序列末尾继续求解/去除b序列末尾继续求解\n",
    "\"\"\"\n",
    "\n",
    "def lcs(a, b, common=\"\"):\n",
    "    if len(a) > 0 and len(b) > 0:\n",
    "        if a[-1] == b[-1]:\n",
    "            common = a[-1] + common\n",
    "            lcs(a[:-1], b[:-1], common)\n",
    "        if a[-1] != b[-1]:\n",
    "            lcs(a[:-1], b, common)\n",
    "            lcs(a, b[:-1], common)\n",
    "    if len(common) > 3:\n",
    "        print(common)\n",
    "\n",
    "lcs(\"didactical\", \"advantage\")\n"
   ]
  },
  {
   "cell_type": "code",
   "execution_count": 29,
   "metadata": {},
   "outputs": [
    {
     "name": "stdout",
     "output_type": "stream",
     "text": [
      "1234klsdj\n"
     ]
    }
   ],
   "source": []
  },
  {
   "cell_type": "code",
   "execution_count": null,
   "metadata": {},
   "outputs": [],
   "source": []
  },
  {
   "cell_type": "code",
   "execution_count": null,
   "metadata": {},
   "outputs": [],
   "source": []
  }
 ],
 "metadata": {
  "kernelspec": {
   "display_name": "Python [conda env:py100d37]",
   "language": "python",
   "name": "conda-env-py100d37-py"
  },
  "language_info": {
   "codemirror_mode": {
    "name": "ipython",
    "version": 3
   },
   "file_extension": ".py",
   "mimetype": "text/x-python",
   "name": "python",
   "nbconvert_exporter": "python",
   "pygments_lexer": "ipython3",
   "version": "3.7.5"
  }
 },
 "nbformat": 4,
 "nbformat_minor": 2
}
