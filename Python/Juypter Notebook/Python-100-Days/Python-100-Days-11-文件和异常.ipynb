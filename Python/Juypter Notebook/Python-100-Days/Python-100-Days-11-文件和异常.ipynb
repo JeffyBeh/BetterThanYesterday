{
 "cells": [
  {
   "cell_type": "markdown",
   "metadata": {},
   "source": [
    "### 文件和异常\n",
    "\n",
    "| 操作模式 | 具体含义 |\n",
    "| :------: | ------- |\n",
    "| `'r'` | 读取（默认）|\n",
    "| `'w'` | 写入（会先截断之前的内容）|\n",
    "| `'x'` | 写入，如果文件已经存在会产生异常 |\n",
    "| `'a'` | 追加，将内容写入已有文件末尾 |\n",
    "| `'b'` | 二进制模式 |\n",
    "| `'t'` | 文本模式（默认）|\n",
    "| `'+'` | 更新（既可以读也可以写） |"
   ]
  },
  {
   "cell_type": "code",
   "execution_count": 4,
   "metadata": {},
   "outputs": [
    {
     "name": "stdout",
     "output_type": "stream",
     "text": [
      "1\n",
      "23\n",
      "456\n",
      "78910\n"
     ]
    }
   ],
   "source": [
    "def main():\n",
    "    ''' 无法捕获异常，如文件不存在/编码错误/解码错误等'''\n",
    "    f = open('test.txt', 'r', encoding='utf-8')\n",
    "    print(f.read())\n",
    "    f.close\n",
    "    \n",
    "\n",
    "if __name__ == '__main__':\n",
    "    main()"
   ]
  },
  {
   "cell_type": "code",
   "execution_count": 8,
   "metadata": {},
   "outputs": [
    {
     "name": "stdout",
     "output_type": "stream",
     "text": [
      "指定了未知编码！\n"
     ]
    }
   ],
   "source": [
    " def main():\n",
    "    f = None\n",
    "    ''' 捕获异常 '''\n",
    "    try:\n",
    "        f = open('test.txt', 'r', encoding='ut-8')\n",
    "        print(f.read())\n",
    "    except FileNotFoundError:\n",
    "        print('无法打开指定文件！')\n",
    "    except LookupError:\n",
    "        print('指定了未知编码！')\n",
    "    except UnicodeDecodeError:\n",
    "        print('读取文件时解码错误！')\n",
    "    finally:\n",
    "        if f:\n",
    "            f.close\n",
    "            \n",
    "    \n",
    "if __name__ == '__main__':\n",
    "    main()"
   ]
  },
  {
   "cell_type": "code",
   "execution_count": 9,
   "metadata": {},
   "outputs": [
    {
     "name": "stdout",
     "output_type": "stream",
     "text": [
      "1\n",
      "23\n",
      "456\n",
      "78910\n"
     ]
    }
   ],
   "source": [
    "'''\n",
    "    使用上下文语法，通过with关键字指定文件对象的上下文环境并在离开上下文环境时自动释放文件资源\n",
    "'''\n",
    "def main():\n",
    "    try:\n",
    "        with open('test.txt', 'r', encoding='utf-8') as f:\n",
    "            print(f.read())\n",
    "    except FileNotFoundError:\n",
    "        print('未找到指定文件')\n",
    "    except LookupError:\n",
    "        print('指定了未知编码！')\n",
    "    except UnicodeDecodeError:\n",
    "        print('读取文件时编码错误！')\n",
    "    \n",
    "    \n",
    "if __name__ == '__main__':\n",
    "    main()"
   ]
  },
  {
   "cell_type": "code",
   "execution_count": 12,
   "metadata": {},
   "outputs": [
    {
     "name": "stdout",
     "output_type": "stream",
     "text": [
      "1\n",
      "23\n",
      "456\n",
      "78910\n",
      "1\n",
      "23\n",
      "456\n",
      "78910\n",
      "['1\\n', '23\\n', '456\\n', '78910']\n"
     ]
    }
   ],
   "source": [
    "'''\n",
    "    使用for-in循环逐行读取\n",
    "    使用readlines方法将文件按行读取到一个列表中\n",
    "'''\n",
    "import time\n",
    "\n",
    "\n",
    "def main():\n",
    "    # 一次性读取文件内容\n",
    "    with open('test.txt', 'r', encoding='utf-8') as f:\n",
    "        print(f.read())\n",
    "    \n",
    "    # 通过for-in循环逐行读取\n",
    "    with open('test.txt', mode='r') as f:\n",
    "        for line in f:\n",
    "            print(line, end='')\n",
    "            time.sleep(0.5)\n",
    "    print()\n",
    "    \n",
    "    # 读取文件按行读取到列表中\n",
    "    with open('test.txt') as f:\n",
    "        lines = f.readlines()\n",
    "    print(lines)\n",
    "    \n",
    "\n",
    "if __name__ == '__main__':\n",
    "    main()"
   ]
  },
  {
   "cell_type": "markdown",
   "metadata": {},
   "source": [
    "### 写入\n",
    "- 'w' 覆写\n",
    "- 'a' 追加\n",
    "- 写入的文件如果不存在则自动创建而不会引发异常\n",
    "> 将1-9999之间的素数分别写入三个文件中（1-99之间的素数保存在a.txt中，100-999之间的素数保存在b.txt中，1000-9999之间的素数保存在c.txt中）"
   ]
  },
  {
   "cell_type": "code",
   "execution_count": 15,
   "metadata": {},
   "outputs": [
    {
     "name": "stdout",
     "output_type": "stream",
     "text": [
      "操作完成！\n"
     ]
    }
   ],
   "source": [
    "from math import sqrt\n",
    "\n",
    "\n",
    "def is_prime(n):\n",
    "    for i in range(2, int(sqrt(n) + 1)):\n",
    "        if n % i == 0:\n",
    "            return False\n",
    "    return True if n != 1 else False\n",
    "\n",
    "\n",
    "def main():\n",
    "    filenames = ('a.txt', 'b.txt', 'c.txt')\n",
    "    fs_list = []\n",
    "    try:\n",
    "        for filename in filenames:\n",
    "            fs_list.append(open(filename, 'w', encoding='utf-8'))\n",
    "        for number in range(1, 10000):\n",
    "            if is_prime(number):\n",
    "                if number < 100:\n",
    "                    fs_list[0].write(str(number) + '\\n')\n",
    "                elif number < 1000:\n",
    "                    fs_list[1].write(str(number) + '\\n')\n",
    "                else:\n",
    "                    fs_list[2].write(str(number) + '\\n')\n",
    "    except IOError as ex:\n",
    "        print(ex)\n",
    "        print('写文件错误！')\n",
    "    finally:\n",
    "        for fs in fs_list:\n",
    "            fs.close()\n",
    "    print('操作完成！')\n",
    "    \n",
    "    \n",
    "if __name__ == '__main__':\n",
    "    main()      "
   ]
  },
  {
   "cell_type": "markdown",
   "metadata": {},
   "source": [
    "### 读写二进制文件"
   ]
  },
  {
   "cell_type": "code",
   "execution_count": null,
   "metadata": {},
   "outputs": [],
   "source": []
  },
  {
   "cell_type": "code",
   "execution_count": 42,
   "metadata": {},
   "outputs": [
    {
     "name": "stdout",
     "output_type": "stream",
     "text": [
      "<class 'bytes'>\n",
      "程序执行结束.\n"
     ]
    }
   ],
   "source": [
    "def main():\n",
    "    try:\n",
    "        with open('./res/guido.jpg', 'rb') as fs1:\n",
    "            data = fs1.read()\n",
    "            print(type(data))\n",
    "        with open('./res/吉多.jpg', 'wb') as fs2:\n",
    "            fs2.write(data)\n",
    "    except FileNotFoundError as e:\n",
    "        print(e)\n",
    "        print('File not found!')\n",
    "    except IOError:\n",
    "        print(e)\n",
    "        print('write error!')\n",
    "    print('程序执行结束.')\n",
    "    \n",
    "\n",
    "if __name__ == '__main__':\n",
    "    main()"
   ]
  },
  {
   "cell_type": "markdown",
   "metadata": {},
   "source": [
    "### 读写JSON(JavaScript Object Notation)文件\n",
    "\n",
    "| JSON | Python |\n",
    "| ---- | ------ |\n",
    "| object | dict|\n",
    "| array | list |\n",
    "| string | str |\n",
    "| number(int/real) | int/float |\n",
    "| true/fase | True/Fasel |\n",
    "| null | None |\n",
    "\n",
    "&nbsp;\n",
    "\n",
    "| Python | JSON |\n",
    "| ------ | ---- |\n",
    "| dict | object |\n",
    "| list | array |\n",
    "| str | string |\n",
    "| int,float,int-&float-derived Enums | number |\n",
    "| True/False | true/flase |\n",
    "| None | null |\n",
    "\n",
    "&nbsp;\n",
    "\n",
    "- dump -将Python对象按照JSON格式序列化到文件中\n",
    "- dumps -将Python对象处理成JSON格式的字符串\n",
    "- load -将文件中的JSON数据反序列化成对象\n",
    "- loads -将字符串的内容反序列化成Python对象\n",
    "> 序列化（serialization）在计算机科学的数据处理中，是指将数据结构或对象状态转换为可以存储或传输的形式，这样在需要的时候能够恢复到原先的状态，而且通过序列化的数据重新获取字节时，可以利用这些字节来产生原始对象的副本（拷贝）。与这个过程相反的动作，即从一系列字节中提取数据结构的操作，就是反序列化（deserialization）"
   ]
  },
  {
   "cell_type": "code",
   "execution_count": 32,
   "metadata": {},
   "outputs": [
    {
     "name": "stdout",
     "output_type": "stream",
     "text": [
      "保存数据完成！\n"
     ]
    }
   ],
   "source": [
    "import json\n",
    "\n",
    "\n",
    "def main():\n",
    "    mydict = {\n",
    "        'name': '王二',\n",
    "        'age': 22,\n",
    "        'qq': 10000,\n",
    "        'friends':['小xx', '孙贼'],\n",
    "        'cars':[\n",
    "            {'brand': 'Bugatti Veyron', 'max_speed': 500},\n",
    "            {'brand': 'Aston Martin', 'max_speed': 500},\n",
    "            {'brand': 'Koenigsegg', 'max_speed': 500}\n",
    "        ]\n",
    "    }\n",
    "    try:\n",
    "        with open('./res/data.json', 'w', encoding='utf-8') as fs:\n",
    "            json.dump(mydict, fs)\n",
    "    except IOError as e:\n",
    "        print(e)\n",
    "    print('保存数据完成！')\n",
    "    \n",
    "    \n",
    "if __name__ == '__main__':\n",
    "    main()"
   ]
  },
  {
   "cell_type": "code",
   "execution_count": null,
   "metadata": {},
   "outputs": [],
   "source": []
  },
  {
   "cell_type": "code",
   "execution_count": 46,
   "metadata": {},
   "outputs": [],
   "source": [
    "import requests\n",
    "import json\n",
    "\n",
    "\n",
    "def main():\n",
    "    resp = requests.get('http://api.tianapi.com/guonei/?key=APIKey&num=10')\n",
    "    data_model = json.loads(resp.txt)\n",
    "    for news in data_model['newlist']:\n",
    "        print(news['title'])\n",
    "        \n",
    "        \n",
    "if __name__ == '__main':\n",
    "    main()"
   ]
  },
  {
   "cell_type": "code",
   "execution_count": null,
   "metadata": {},
   "outputs": [],
   "source": []
  }
 ],
 "metadata": {
  "kernelspec": {
   "display_name": "Python [conda env:py100d37]",
   "language": "python",
   "name": "conda-env-py100d37-py"
  },
  "language_info": {
   "codemirror_mode": {
    "name": "ipython",
    "version": 3
   },
   "file_extension": ".py",
   "mimetype": "text/x-python",
   "name": "python",
   "nbconvert_exporter": "python",
   "pygments_lexer": "ipython3",
   "version": "3.7.5"
  }
 },
 "nbformat": 4,
 "nbformat_minor": 2
}
