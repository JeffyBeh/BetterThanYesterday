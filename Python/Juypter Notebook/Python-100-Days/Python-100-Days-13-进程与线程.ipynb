{
 "cells": [
  {
   "cell_type": "markdown",
   "metadata": {},
   "source": [
    "### 进程和线程\n",
    "> 多进程在jupyter notebook中执行无结果，在pycharm中可以实现"
   ]
  },
  {
   "cell_type": "markdown",
   "metadata": {},
   "source": [
    "#### Python中的多进程"
   ]
  },
  {
   "cell_type": "code",
   "execution_count": 1,
   "metadata": {},
   "outputs": [
    {
     "name": "stdout",
     "output_type": "stream",
     "text": [
      "开始下载Python从入门到住院.pdf...\n",
      "Python从入门到住院.pdf下载完成！耗时5秒\n",
      "开始下载Peking Hot.avi...\n",
      "Peking Hot.avi下载完成！耗时6秒\n",
      "总共耗时11.00秒\n"
     ]
    }
   ],
   "source": [
    "'''\n",
    "    顺序执行（单进程 单线程）\n",
    "'''\n",
    "from random import randint\n",
    "from time import time, sleep\n",
    "\n",
    "\n",
    "def download_task(filename):\n",
    "    print('开始下载%s...' % filename)\n",
    "    time_to_download = randint(5, 10)\n",
    "    sleep(time_to_download)\n",
    "    print('%s下载完成！耗时%d秒' % (filename, time_to_download))\n",
    "    \n",
    "    \n",
    "def main():\n",
    "    start = time()\n",
    "    download_task('Python从入门到住院.pdf')\n",
    "    download_task('Peking Hot.avi')\n",
    "    end = time()\n",
    "    print('总共耗时%.2f秒' % (end - start))\n",
    "    \n",
    "    \n",
    "if __name__ == '__main__':\n",
    "    main()"
   ]
  },
  {
   "cell_type": "code",
   "execution_count": null,
   "metadata": {},
   "outputs": [],
   "source": [
    "from multiprocessint import Process\n",
    "from os import getpid\n",
    "from random import randint\n",
    "from time import time, sleep\n",
    "\n",
    "def download_task(filename):\n",
    "    print('启动下载进程，进程号[%d]' % getpid())\n",
    "    print('下载文件 %s' % filename)\n",
    "    time_to_download = randint(5, 10)\n",
    "    sleep(time_to_download)\n",
    "    print('%s下载完成，共用%d秒' % (filename, time_to_download))\n",
    "    \n",
    "    "
   ]
  },
  {
   "cell_type": "code",
   "execution_count": 46,
   "metadata": {},
   "outputs": [
    {
     "name": "stdout",
     "output_type": "stream",
     "text": [
      "总共耗费了0.14秒\n"
     ]
    }
   ],
   "source": [
    "'''\n",
    "    多进程\n",
    "    程序执行有问题，在pycharm中执行正常\n",
    "'''\n",
    "from multiprocessing import Process\n",
    "from os import getpid\n",
    "from random import randint\n",
    "from time import time, sleep\n",
    "\n",
    "\n",
    "def download_task(filename):\n",
    "    print('启动下载进程，进程号[%d]' % getpid())\n",
    "    print('开始下载%s...' % filename)\n",
    "    time_to_download = randint(5, 10)\n",
    "    sleep(time_to_download)\n",
    "    print('%s下载完成！耗时%d秒' % (filename, time_to_download))\n",
    "    \n",
    "    \n",
    "def main():\n",
    "    start = time()\n",
    "    p1 = Process(target=download_task, args=('Python从入门到住院.pdf',))\n",
    "    p1.start()\n",
    "    p2 = Process(target=download_task, args=('Peking Hot.avi',))\n",
    "    p2.start()\n",
    "    p1.join()\n",
    "    p2.join()\n",
    "    end = time()\n",
    "    print('总共耗费了%.2f秒' % (end - start))\n",
    "    \n",
    "    \n",
    "if __name__ == '__main__':\n",
    "    main()"
   ]
  },
  {
   "cell_type": "markdown",
   "metadata": {},
   "source": [
    "在上面的代码中，我们通过Process类创建了进程对象，通过target参数我们传入一个函数来表示进程启动后要执行的代码，后面的args是一个元组，它代表了传递给函数的参数。Process对象的start方法用来启动进程，而join方法表示等待进程执行结束"
   ]
  },
  {
   "cell_type": "code",
   "execution_count": 31,
   "metadata": {},
   "outputs": [],
   "source": [
    "'''\n",
    "    启动两个进程，一个输出Ping，一个输出Pong，两个进程输出的Ping和Pong加起来一共10个\n",
    "'''\n",
    "from multiprocessing import Process\n",
    "from time import sleep\n",
    "\n",
    "counter = 0\n",
    "\n",
    "\n",
    "def sub_task(string):\n",
    "    global counter\n",
    "    while counter < 10:\n",
    "        print(string, end='', flush=True)\n",
    "        counter += 1\n",
    "        sleep(0.01)\n",
    "        \n",
    "        \n",
    "def main():\n",
    "    Process(target=sub_task, args=('Ping', )).start()\n",
    "    Process(target=sub_task, args=('Pong', )).start()\n",
    "    \n",
    "    \n",
    "if __name__ == '__main__':\n",
    "    main()"
   ]
  },
  {
   "cell_type": "markdown",
   "metadata": {},
   "source": [
    "看起来没毛病，但是最后的结果是Ping和Pong各输出了10个，Why？当我们在程序中创建进程的时候，子进程复制了父进程及其所有的数据结构，每个子进程有自己独立的内存空间，这也就意味着两个子进程中各有一个counter变量，所以结果也就可想而知了。要解决这个问题比较简单的办法是使用multiprocessing模块中的Queue类，它是可以被多个进程共享的队列，底层是通过管道和信号量（semaphore）机制来实现的，有兴趣的读者可以自己尝试一下。"
   ]
  },
  {
   "cell_type": "code",
   "execution_count": 45,
   "metadata": {},
   "outputs": [],
   "source": [
    "'''\n",
    "    利用queue队列控制输出\n",
    "'''\n",
    "from multiprocessing import Process, Queue\n",
    "from time import sleep\n",
    "\n",
    "\n",
    "def sub_task(string, q):\n",
    "\n",
    "    while not q.full():\n",
    "        print(string, end='', flush=True)\n",
    "        q.put(string)\n",
    "        sleep(0.2)\n",
    "\n",
    "\n",
    "def main():\n",
    "\n",
    "    q = Queue(maxsize=10)\n",
    "    Process(target=sub_task, args=('Ping', q)).start()\n",
    "    Process(target=sub_task, args=('Pong', q)).start()\n",
    "\n",
    "\n",
    "if __name__ == '__main__':\n",
    "    main()"
   ]
  },
  {
   "cell_type": "markdown",
   "metadata": {},
   "source": [
    "#### Python中的多线程\n",
    "- 使用threading模块"
   ]
  },
  {
   "cell_type": "code",
   "execution_count": 47,
   "metadata": {},
   "outputs": [
    {
     "name": "stdout",
     "output_type": "stream",
     "text": [
      "Start to download Python从入门到住院.pdf...\n",
      "Start to download Peking Hot.avi...\n",
      "Peking Hot.avi downloaded, takes 5 sec.\n",
      "Python从入门到住院.pdf downloaded, takes 9 sec.\n",
      "It takes 9.012 sce totally.\n"
     ]
    }
   ],
   "source": [
    "from random import randint\n",
    "from threading import Thread\n",
    "from time import time, sleep\n",
    "\n",
    "\n",
    "def download(filename):\n",
    "    print('Start to download %s...' % filename)\n",
    "    time_to_download = randint(5, 10)\n",
    "    sleep(time_to_download)\n",
    "    print('%s downloaded, takes %s sec.' % (filename, time_to_download))\n",
    "\n",
    "\n",
    "def main():\n",
    "    start = time()\n",
    "    t1 = Thread(target=download, args=('Python从入门到住院.pdf', ))\n",
    "    t1.start()\n",
    "    t2 = Thread(target=download, args=('Peking Hot.avi', ))\n",
    "    t2.start()\n",
    "    t1.join()\n",
    "    t2.join()\n",
    "    end = time()\n",
    "    print('It takes %.3f sce totally.' % (end - start))\n",
    "\n",
    "\n",
    "if __name__ == '__main__':\n",
    "    main()"
   ]
  },
  {
   "cell_type": "markdown",
   "metadata": {},
   "source": [
    "\n",
    "&nbsp; \n",
    "\n",
    "通过继承Thread类来创建自定义线程类，然后在创建线程对象并启动线程\n",
    "\n",
    "&nbsp;\n"
   ]
  },
  {
   "cell_type": "code",
   "execution_count": 48,
   "metadata": {},
   "outputs": [
    {
     "name": "stdout",
     "output_type": "stream",
     "text": [
      "Start to download Python从入门到住院.pdf...\n",
      "Start to download Peking Hot.avi...\n",
      "Python从入门到住院.pdf downloaded, takes 5 sec.\n",
      "Peking Hot.avi downloaded, takes 8 sec.\n",
      "It takes 8.016 sec totally.\n"
     ]
    }
   ],
   "source": [
    "from random import randint\n",
    "from threading import Thread\n",
    "from time import time, sleep\n",
    "\n",
    "\n",
    "class DownloadTask(Thread):\n",
    "\n",
    "    def __init__(self, filename):\n",
    "        super().__init__()\n",
    "        self._filename = filename\n",
    "\n",
    "    def run(self):\n",
    "        print('Start to download %s...' % self._filename)\n",
    "        time_to_download = randint(5, 10)\n",
    "        sleep(time_to_download)\n",
    "        print('%s downloaded, takes %d sec.' % (self._filename, time_to_download))\n",
    "\n",
    "\n",
    "def main():\n",
    "    start = time()\n",
    "    t1 = DownloadTask('Python从入门到住院.pdf')\n",
    "    t1.start()\n",
    "    t2 = DownloadTask('Peking Hot.avi')\n",
    "    t2.start()\n",
    "    t1.join()\n",
    "    t2.join()\n",
    "    end = time()\n",
    "    print('It takes %.3f sec totally.' % (end - start))\n",
    "\n",
    "\n",
    "if __name__ == '__main__':\n",
    "    main()\n"
   ]
  },
  {
   "cell_type": "markdown",
   "metadata": {},
   "source": [
    "&nbsp;\n",
    "\n",
    "因为多个线程可以共享进程的内存空间，因此要实现多个线程间的通信相对简单，大家能想到的最直接的办法就是设置一个全局变量，多个线程共享这个全局变量即可。但是当多个线程共享同一个变量（我们通常称之为“资源”）的时候，很有可能产生不可控的结果从而导致程序失效甚至崩溃。如果一个资源被多个线程竞争使用，那么我们通常称之为“临界资源”，对“临界资源”的访问需要加上保护，否则资源会处于“混乱”的状态。下面的例子演示了100个线程向同一个银行账户转账（转入1元钱）的场景，在这个例子中，银行账户就是一个临界资源，在没有保护的情况下我们很有可能会得到错误的结果。\n",
    "\n",
    "&nbsp;\n"
   ]
  },
  {
   "cell_type": "code",
   "execution_count": 49,
   "metadata": {},
   "outputs": [
    {
     "name": "stdout",
     "output_type": "stream",
     "text": [
      "账户余额为: ￥3元\n"
     ]
    }
   ],
   "source": [
    "from time import sleep\n",
    "from threading import Thread\n",
    "\n",
    "\n",
    "class Account(object):\n",
    "\n",
    "    def __init__(self):\n",
    "        self._balance = 0\n",
    "\n",
    "    def deposit(self, money):\n",
    "        # 计算存款后的余额\n",
    "        new_balance = self._balance + money\n",
    "        # 模拟受理存款业务需要0.01秒的时间\n",
    "        sleep(0.01)\n",
    "        # 修改账户余额\n",
    "        self._balance = new_balance\n",
    "\n",
    "    @property\n",
    "    def balance(self):\n",
    "        return self._balance\n",
    "\n",
    "\n",
    "class AddMoneyThread(Thread):\n",
    "\n",
    "    def __init__(self, account, money):\n",
    "        super().__init__()\n",
    "        self._account = account\n",
    "        self._money = money\n",
    "\n",
    "    def run(self):\n",
    "        self._account.deposit(self._money)\n",
    "\n",
    "\n",
    "def main():\n",
    "    account = Account()\n",
    "    threads = []\n",
    "    # 创建100个存款的线程向同一个账户中存钱\n",
    "    for _ in range(100):\n",
    "        t = AddMoneyThread(account, 1)\n",
    "        threads.append(t)\n",
    "        t.start()\n",
    "    # 等所有存款的线程都执行完毕\n",
    "    for t in threads:\n",
    "        t.join()\n",
    "    print('账户余额为: ￥%d元' % account.balance)\n",
    "\n",
    "\n",
    "if __name__ == '__main__':\n",
    "    main()"
   ]
  },
  {
   "cell_type": "markdown",
   "metadata": {},
   "source": [
    "运行上面的程序，结果让人大跌眼镜，100个线程分别向账户中转入1元钱，结果居然远远小于100元。之所以出现这种情况是因为我们没有对银行账户这个“临界资源”加以保护，多个线程同时向账户中存钱时，会一起执行到new_balance = self._balance + money这行代码，多个线程得到的账户余额都是初始状态下的0，所以都是0上面做了+1的操作，因此得到了错误的结果。在这种情况下，“锁”就可以派上用场了。我们可以通过“锁”来保护“临界资源”，只有获得“锁”的线程才能访问“临界资源”，而其他没有得到“锁”的线程只能被阻塞起来，直到获得“锁”的线程释放了“锁”，其他线程才有机会获得“锁”，进而访问被保护的“临界资源”。下面的代码演示了如何使用“锁”来保护对银行账户的操作，从而获得正确的结果。"
   ]
  },
  {
   "cell_type": "code",
   "execution_count": 50,
   "metadata": {},
   "outputs": [
    {
     "name": "stdout",
     "output_type": "stream",
     "text": [
      "账户余额为: ￥100元\n"
     ]
    }
   ],
   "source": [
    "from time import sleep\n",
    "from threading import Thread, Lock\n",
    "\n",
    "\n",
    "class Account(object):\n",
    "\n",
    "    def __init__(self):\n",
    "        self._balance = 0\n",
    "        self._lock = Lock()\n",
    "\n",
    "    def deposit(self, money):\n",
    "        # 先获取锁才能执行后续的代码\n",
    "        self._lock.acquire()\n",
    "        try:\n",
    "            new_balance = self._balance + money\n",
    "            sleep(0.01)\n",
    "            self._balance = new_balance\n",
    "        finally:\n",
    "            # 在finally中执行释放锁的操作保证正常异常锁都能释放\n",
    "            self._lock.release()\n",
    "\n",
    "    @property\n",
    "    def balance(self):\n",
    "        return self._balance\n",
    "\n",
    "\n",
    "class AddMoneyThread(Thread):\n",
    "\n",
    "    def __init__(self, account, money):\n",
    "        super().__init__()\n",
    "        self._account = account\n",
    "        self._money = money\n",
    "\n",
    "    def run(self):\n",
    "        self._account.deposit(self._money)\n",
    "\n",
    "\n",
    "def main():\n",
    "    account = Account()\n",
    "    threads = []\n",
    "    for _ in range(100):\n",
    "        t = AddMoneyThread(account, 1)\n",
    "        threads.append(t)\n",
    "        t.start()\n",
    "    for t in threads:\n",
    "        t.join()\n",
    "    print('账户余额为: ￥%d元' % account.balance)\n",
    "\n",
    "\n",
    "if __name__ == '__main__':\n",
    "    main()"
   ]
  },
  {
   "cell_type": "markdown",
   "metadata": {},
   "source": [
    "### 多线程 or 多进程"
   ]
  },
  {
   "cell_type": "markdown",
   "metadata": {},
   "source": [
    "### 线程 + 异步I/O\n",
    "现代操作系统对I/O操作的改进中最为重要的就是支持异步I/O。如果充分利用操作系统提供的异步I/O支持，就可以用单进程单线程模型来执行多任务，这种全新的模型称为事件驱动模型。Nginx就是支持异步I/O的Web服务器，它在单核CPU上采用单进程模型就可以高效地支持多任务。在多核CPU上，可以运行多个进程（数量与CPU核心数相同），充分利用多核CPU。用Node.js开发的服务器端程序也使用了这种工作模式，这也是当下实现多任务编程的一种趋势。\n",
    "\n",
    "在Python语言中，单线程+异步I/O的编程模型称为协程，有了协程的支持，就可以基于事件驱动编写高效的多任务程序。协程最大的优势就是极高的执行效率，因为子程序切换不是线程切换，而是由程序自身控制，因此，没有线程切换的开销。协程的第二个优势就是不需要多线程的锁机制，因为只有一个线程，也不存在同时写变量冲突，在协程中控制共享资源不用加锁，只需要判断状态就好了，所以执行效率比多线程高很多。如果想要充分利用CPU的多核特性，最简单的方法是多进程+协程，既充分利用多核，又充分发挥协程的高效率，可获得极高的性能。关于这方面的内容，我稍后会做一个专题来进行讲解。"
   ]
  },
  {
   "cell_type": "markdown",
   "metadata": {},
   "source": [
    "### 应用案例\n",
    "#### 例子1：将时间的任务放在线程中以获得更好的用户体验\n",
    "如下所示的界面中，有“下载”和“关于”两个按钮，用休眠的方式模拟点击“下载”按钮会联网下载文件需要耗费10秒的时间，如果不使用“多线程”，我们会发现，当点击“下载”按钮后整个程序的其他部分都被这个耗时间的任务阻塞而无法执行了，这显然是非常糟糕的用户体验，代码如下所示。"
   ]
  },
  {
   "cell_type": "code",
   "execution_count": null,
   "metadata": {},
   "outputs": [],
   "source": []
  },
  {
   "cell_type": "code",
   "execution_count": 1,
   "metadata": {},
   "outputs": [
    {
     "ename": "BrokenPipeError",
     "evalue": "[Errno 32] Broken pipe",
     "output_type": "error",
     "traceback": [
      "\u001b[1;31m---------------------------------------------------------------------------\u001b[0m",
      "\u001b[1;31mBrokenPipeError\u001b[0m                           Traceback (most recent call last)",
      "\u001b[1;32m<ipython-input-1-1e522f763c9e>\u001b[0m in \u001b[0;36m<module>\u001b[1;34m\u001b[0m\n\u001b[0;32m     34\u001b[0m \u001b[1;33m\u001b[0m\u001b[0m\n\u001b[0;32m     35\u001b[0m \u001b[1;32mif\u001b[0m \u001b[0m__name__\u001b[0m \u001b[1;33m==\u001b[0m \u001b[1;34m'__main__'\u001b[0m\u001b[1;33m:\u001b[0m\u001b[1;33m\u001b[0m\u001b[1;33m\u001b[0m\u001b[0m\n\u001b[1;32m---> 36\u001b[1;33m     \u001b[0mmain\u001b[0m\u001b[1;33m(\u001b[0m\u001b[1;33m)\u001b[0m\u001b[1;33m\u001b[0m\u001b[1;33m\u001b[0m\u001b[0m\n\u001b[0m",
      "\u001b[1;32m<ipython-input-1-1e522f763c9e>\u001b[0m in \u001b[0;36mmain\u001b[1;34m()\u001b[0m\n\u001b[0;32m     21\u001b[0m         \u001b[0mindex\u001b[0m \u001b[1;33m+=\u001b[0m \u001b[1;36m12500000\u001b[0m\u001b[1;33m\u001b[0m\u001b[1;33m\u001b[0m\u001b[0m\n\u001b[0;32m     22\u001b[0m         \u001b[0mprocesses\u001b[0m\u001b[1;33m.\u001b[0m\u001b[0mappend\u001b[0m\u001b[1;33m(\u001b[0m\u001b[0mp\u001b[0m\u001b[1;33m)\u001b[0m\u001b[1;33m\u001b[0m\u001b[1;33m\u001b[0m\u001b[0m\n\u001b[1;32m---> 23\u001b[1;33m         \u001b[0mp\u001b[0m\u001b[1;33m.\u001b[0m\u001b[0mstart\u001b[0m\u001b[1;33m(\u001b[0m\u001b[1;33m)\u001b[0m\u001b[1;33m\u001b[0m\u001b[1;33m\u001b[0m\u001b[0m\n\u001b[0m\u001b[0;32m     24\u001b[0m     \u001b[0mstart\u001b[0m \u001b[1;33m=\u001b[0m \u001b[0mtime\u001b[0m\u001b[1;33m(\u001b[0m\u001b[1;33m)\u001b[0m\u001b[1;33m\u001b[0m\u001b[1;33m\u001b[0m\u001b[0m\n\u001b[0;32m     25\u001b[0m     \u001b[1;32mfor\u001b[0m \u001b[0mp\u001b[0m \u001b[1;32min\u001b[0m \u001b[0mprocesses\u001b[0m\u001b[1;33m:\u001b[0m\u001b[1;33m\u001b[0m\u001b[1;33m\u001b[0m\u001b[0m\n",
      "\u001b[1;32mC:\\ProgramData\\Anaconda3\\envs\\py100d37\\lib\\multiprocessing\\process.py\u001b[0m in \u001b[0;36mstart\u001b[1;34m(self)\u001b[0m\n\u001b[0;32m    110\u001b[0m                \u001b[1;34m'daemonic processes are not allowed to have children'\u001b[0m\u001b[1;33m\u001b[0m\u001b[1;33m\u001b[0m\u001b[0m\n\u001b[0;32m    111\u001b[0m         \u001b[0m_cleanup\u001b[0m\u001b[1;33m(\u001b[0m\u001b[1;33m)\u001b[0m\u001b[1;33m\u001b[0m\u001b[1;33m\u001b[0m\u001b[0m\n\u001b[1;32m--> 112\u001b[1;33m         \u001b[0mself\u001b[0m\u001b[1;33m.\u001b[0m\u001b[0m_popen\u001b[0m \u001b[1;33m=\u001b[0m \u001b[0mself\u001b[0m\u001b[1;33m.\u001b[0m\u001b[0m_Popen\u001b[0m\u001b[1;33m(\u001b[0m\u001b[0mself\u001b[0m\u001b[1;33m)\u001b[0m\u001b[1;33m\u001b[0m\u001b[1;33m\u001b[0m\u001b[0m\n\u001b[0m\u001b[0;32m    113\u001b[0m         \u001b[0mself\u001b[0m\u001b[1;33m.\u001b[0m\u001b[0m_sentinel\u001b[0m \u001b[1;33m=\u001b[0m \u001b[0mself\u001b[0m\u001b[1;33m.\u001b[0m\u001b[0m_popen\u001b[0m\u001b[1;33m.\u001b[0m\u001b[0msentinel\u001b[0m\u001b[1;33m\u001b[0m\u001b[1;33m\u001b[0m\u001b[0m\n\u001b[0;32m    114\u001b[0m         \u001b[1;31m# Avoid a refcycle if the target function holds an indirect\u001b[0m\u001b[1;33m\u001b[0m\u001b[1;33m\u001b[0m\u001b[1;33m\u001b[0m\u001b[0m\n",
      "\u001b[1;32mC:\\ProgramData\\Anaconda3\\envs\\py100d37\\lib\\multiprocessing\\context.py\u001b[0m in \u001b[0;36m_Popen\u001b[1;34m(process_obj)\u001b[0m\n\u001b[0;32m    221\u001b[0m     \u001b[1;33m@\u001b[0m\u001b[0mstaticmethod\u001b[0m\u001b[1;33m\u001b[0m\u001b[1;33m\u001b[0m\u001b[0m\n\u001b[0;32m    222\u001b[0m     \u001b[1;32mdef\u001b[0m \u001b[0m_Popen\u001b[0m\u001b[1;33m(\u001b[0m\u001b[0mprocess_obj\u001b[0m\u001b[1;33m)\u001b[0m\u001b[1;33m:\u001b[0m\u001b[1;33m\u001b[0m\u001b[1;33m\u001b[0m\u001b[0m\n\u001b[1;32m--> 223\u001b[1;33m         \u001b[1;32mreturn\u001b[0m \u001b[0m_default_context\u001b[0m\u001b[1;33m.\u001b[0m\u001b[0mget_context\u001b[0m\u001b[1;33m(\u001b[0m\u001b[1;33m)\u001b[0m\u001b[1;33m.\u001b[0m\u001b[0mProcess\u001b[0m\u001b[1;33m.\u001b[0m\u001b[0m_Popen\u001b[0m\u001b[1;33m(\u001b[0m\u001b[0mprocess_obj\u001b[0m\u001b[1;33m)\u001b[0m\u001b[1;33m\u001b[0m\u001b[1;33m\u001b[0m\u001b[0m\n\u001b[0m\u001b[0;32m    224\u001b[0m \u001b[1;33m\u001b[0m\u001b[0m\n\u001b[0;32m    225\u001b[0m \u001b[1;32mclass\u001b[0m \u001b[0mDefaultContext\u001b[0m\u001b[1;33m(\u001b[0m\u001b[0mBaseContext\u001b[0m\u001b[1;33m)\u001b[0m\u001b[1;33m:\u001b[0m\u001b[1;33m\u001b[0m\u001b[1;33m\u001b[0m\u001b[0m\n",
      "\u001b[1;32mC:\\ProgramData\\Anaconda3\\envs\\py100d37\\lib\\multiprocessing\\context.py\u001b[0m in \u001b[0;36m_Popen\u001b[1;34m(process_obj)\u001b[0m\n\u001b[0;32m    320\u001b[0m         \u001b[1;32mdef\u001b[0m \u001b[0m_Popen\u001b[0m\u001b[1;33m(\u001b[0m\u001b[0mprocess_obj\u001b[0m\u001b[1;33m)\u001b[0m\u001b[1;33m:\u001b[0m\u001b[1;33m\u001b[0m\u001b[1;33m\u001b[0m\u001b[0m\n\u001b[0;32m    321\u001b[0m             \u001b[1;32mfrom\u001b[0m \u001b[1;33m.\u001b[0m\u001b[0mpopen_spawn_win32\u001b[0m \u001b[1;32mimport\u001b[0m \u001b[0mPopen\u001b[0m\u001b[1;33m\u001b[0m\u001b[1;33m\u001b[0m\u001b[0m\n\u001b[1;32m--> 322\u001b[1;33m             \u001b[1;32mreturn\u001b[0m \u001b[0mPopen\u001b[0m\u001b[1;33m(\u001b[0m\u001b[0mprocess_obj\u001b[0m\u001b[1;33m)\u001b[0m\u001b[1;33m\u001b[0m\u001b[1;33m\u001b[0m\u001b[0m\n\u001b[0m\u001b[0;32m    323\u001b[0m \u001b[1;33m\u001b[0m\u001b[0m\n\u001b[0;32m    324\u001b[0m     \u001b[1;32mclass\u001b[0m \u001b[0mSpawnContext\u001b[0m\u001b[1;33m(\u001b[0m\u001b[0mBaseContext\u001b[0m\u001b[1;33m)\u001b[0m\u001b[1;33m:\u001b[0m\u001b[1;33m\u001b[0m\u001b[1;33m\u001b[0m\u001b[0m\n",
      "\u001b[1;32mC:\\ProgramData\\Anaconda3\\envs\\py100d37\\lib\\multiprocessing\\popen_spawn_win32.py\u001b[0m in \u001b[0;36m__init__\u001b[1;34m(self, process_obj)\u001b[0m\n\u001b[0;32m     87\u001b[0m             \u001b[1;32mtry\u001b[0m\u001b[1;33m:\u001b[0m\u001b[1;33m\u001b[0m\u001b[1;33m\u001b[0m\u001b[0m\n\u001b[0;32m     88\u001b[0m                 \u001b[0mreduction\u001b[0m\u001b[1;33m.\u001b[0m\u001b[0mdump\u001b[0m\u001b[1;33m(\u001b[0m\u001b[0mprep_data\u001b[0m\u001b[1;33m,\u001b[0m \u001b[0mto_child\u001b[0m\u001b[1;33m)\u001b[0m\u001b[1;33m\u001b[0m\u001b[1;33m\u001b[0m\u001b[0m\n\u001b[1;32m---> 89\u001b[1;33m                 \u001b[0mreduction\u001b[0m\u001b[1;33m.\u001b[0m\u001b[0mdump\u001b[0m\u001b[1;33m(\u001b[0m\u001b[0mprocess_obj\u001b[0m\u001b[1;33m,\u001b[0m \u001b[0mto_child\u001b[0m\u001b[1;33m)\u001b[0m\u001b[1;33m\u001b[0m\u001b[1;33m\u001b[0m\u001b[0m\n\u001b[0m\u001b[0;32m     90\u001b[0m             \u001b[1;32mfinally\u001b[0m\u001b[1;33m:\u001b[0m\u001b[1;33m\u001b[0m\u001b[1;33m\u001b[0m\u001b[0m\n\u001b[0;32m     91\u001b[0m                 \u001b[0mset_spawning_popen\u001b[0m\u001b[1;33m(\u001b[0m\u001b[1;32mNone\u001b[0m\u001b[1;33m)\u001b[0m\u001b[1;33m\u001b[0m\u001b[1;33m\u001b[0m\u001b[0m\n",
      "\u001b[1;32mC:\\ProgramData\\Anaconda3\\envs\\py100d37\\lib\\multiprocessing\\reduction.py\u001b[0m in \u001b[0;36mdump\u001b[1;34m(obj, file, protocol)\u001b[0m\n\u001b[0;32m     58\u001b[0m \u001b[1;32mdef\u001b[0m \u001b[0mdump\u001b[0m\u001b[1;33m(\u001b[0m\u001b[0mobj\u001b[0m\u001b[1;33m,\u001b[0m \u001b[0mfile\u001b[0m\u001b[1;33m,\u001b[0m \u001b[0mprotocol\u001b[0m\u001b[1;33m=\u001b[0m\u001b[1;32mNone\u001b[0m\u001b[1;33m)\u001b[0m\u001b[1;33m:\u001b[0m\u001b[1;33m\u001b[0m\u001b[1;33m\u001b[0m\u001b[0m\n\u001b[0;32m     59\u001b[0m     \u001b[1;34m'''Replacement for pickle.dump() using ForkingPickler.'''\u001b[0m\u001b[1;33m\u001b[0m\u001b[1;33m\u001b[0m\u001b[0m\n\u001b[1;32m---> 60\u001b[1;33m     \u001b[0mForkingPickler\u001b[0m\u001b[1;33m(\u001b[0m\u001b[0mfile\u001b[0m\u001b[1;33m,\u001b[0m \u001b[0mprotocol\u001b[0m\u001b[1;33m)\u001b[0m\u001b[1;33m.\u001b[0m\u001b[0mdump\u001b[0m\u001b[1;33m(\u001b[0m\u001b[0mobj\u001b[0m\u001b[1;33m)\u001b[0m\u001b[1;33m\u001b[0m\u001b[1;33m\u001b[0m\u001b[0m\n\u001b[0m\u001b[0;32m     61\u001b[0m \u001b[1;33m\u001b[0m\u001b[0m\n\u001b[0;32m     62\u001b[0m \u001b[1;31m#\u001b[0m\u001b[1;33m\u001b[0m\u001b[1;33m\u001b[0m\u001b[1;33m\u001b[0m\u001b[0m\n",
      "\u001b[1;31mBrokenPipeError\u001b[0m: [Errno 32] Broken pipe"
     ]
    }
   ],
   "source": [
    "from multiprocessing import Process, Queue\n",
    "from time import time\n",
    "\n",
    "\n",
    "def task_handler(curr_list, result_queue):\n",
    "    total = 0\n",
    "    for number in curr_list:\n",
    "        total += number\n",
    "    result_queue.put(total)\n",
    "\n",
    "\n",
    "def main():\n",
    "    processes = []\n",
    "    number_list = [x for x in range(1, 100000001)]\n",
    "    result_queue = Queue()\n",
    "    index = 0\n",
    "\n",
    "    for _ in range(8):\n",
    "        p = Process(target=task_handler,\n",
    "                    args=(number_list[index:index + 12500000], result_queue))\n",
    "        index += 12500000\n",
    "        processes.append(p)\n",
    "        p.start()\n",
    "    start = time()\n",
    "    for p in processes:\n",
    "        p.join()\n",
    "    total = 0\n",
    "    while not result_queue.empty():\n",
    "        total += result_queue.get()\n",
    "    print(total)\n",
    "    end = time()\n",
    "    print('Execution time: ', (end-start), 's', sep='')\n",
    "\n",
    "\n",
    "if __name__ == '__main__':\n",
    "    main()"
   ]
  },
  {
   "cell_type": "code",
   "execution_count": 2,
   "metadata": {},
   "outputs": [
    {
     "name": "stdout",
     "output_type": "stream",
     "text": [
      "5000000050000000\n",
      "Execution time: 23.898s\n"
     ]
    }
   ],
   "source": [
    "from time import time\n",
    "\n",
    "\n",
    "def main():\n",
    "    total = 0\n",
    "    number_list = [x for x in range(1, 100000001)]\n",
    "    start = time()\n",
    "    for number in number_list:\n",
    "        total += number\n",
    "    print(total)\n",
    "    end = time()\n",
    "    print('Execution time: %.3fs' % (end - start))\n",
    "\n",
    "\n",
    "if __name__ == '__main__':\n",
    "    main()"
   ]
  },
  {
   "cell_type": "code",
   "execution_count": null,
   "metadata": {},
   "outputs": [],
   "source": []
  },
  {
   "cell_type": "code",
   "execution_count": null,
   "metadata": {},
   "outputs": [],
   "source": []
  },
  {
   "cell_type": "code",
   "execution_count": null,
   "metadata": {},
   "outputs": [],
   "source": []
  },
  {
   "cell_type": "code",
   "execution_count": null,
   "metadata": {},
   "outputs": [],
   "source": []
  },
  {
   "cell_type": "code",
   "execution_count": null,
   "metadata": {},
   "outputs": [],
   "source": []
  },
  {
   "cell_type": "code",
   "execution_count": null,
   "metadata": {},
   "outputs": [],
   "source": []
  },
  {
   "cell_type": "code",
   "execution_count": null,
   "metadata": {},
   "outputs": [],
   "source": []
  },
  {
   "cell_type": "code",
   "execution_count": null,
   "metadata": {},
   "outputs": [],
   "source": []
  },
  {
   "cell_type": "code",
   "execution_count": null,
   "metadata": {},
   "outputs": [],
   "source": []
  },
  {
   "cell_type": "code",
   "execution_count": null,
   "metadata": {},
   "outputs": [],
   "source": []
  },
  {
   "cell_type": "code",
   "execution_count": null,
   "metadata": {},
   "outputs": [],
   "source": []
  },
  {
   "cell_type": "code",
   "execution_count": null,
   "metadata": {},
   "outputs": [],
   "source": []
  },
  {
   "cell_type": "code",
   "execution_count": null,
   "metadata": {},
   "outputs": [],
   "source": []
  },
  {
   "cell_type": "code",
   "execution_count": null,
   "metadata": {},
   "outputs": [],
   "source": []
  }
 ],
 "metadata": {
  "kernelspec": {
   "display_name": "Python [conda env:py100d37]",
   "language": "python",
   "name": "conda-env-py100d37-py"
  },
  "language_info": {
   "codemirror_mode": {
    "name": "ipython",
    "version": 3
   },
   "file_extension": ".py",
   "mimetype": "text/x-python",
   "name": "python",
   "nbconvert_exporter": "python",
   "pygments_lexer": "ipython3",
   "version": "3.7.5"
  }
 },
 "nbformat": 4,
 "nbformat_minor": 2
}
