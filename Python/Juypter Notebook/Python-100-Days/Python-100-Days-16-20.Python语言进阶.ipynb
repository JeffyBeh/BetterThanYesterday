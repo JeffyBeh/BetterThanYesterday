{
 "cells": [
  {
   "cell_type": "code",
   "execution_count": 3,
   "metadata": {},
   "outputs": [
    {
     "name": "stdout",
     "output_type": "stream",
     "text": [
      "{'APPL': 191.88, 'GOOG': 1185.96, 'IBM': 149.34, 'ORCL': 166.89, 'ACN': 208.09}\n"
     ]
    }
   ],
   "source": [
    "\"\"\"\n",
    "    生成式（推导式）语法\n",
    "    可用用来生成列表、集合和字典\n",
    "\"\"\"\n",
    "prices = {\n",
    "    'APPL': 191.88,\n",
    "    'GOOG': 1185.96,\n",
    "    'IBM': 149.34,\n",
    "    'ORCL': 166.89,\n",
    "    'ACN': 208.09,\n",
    "    'FB': 48.44,\n",
    "    'SYMC': 21.29\n",
    "}\n",
    "prices2 = {key: value for key, value in prices.items() if value > 100}\n",
    "print(prices2)"
   ]
  },
  {
   "cell_type": "code",
   "execution_count": 9,
   "metadata": {},
   "outputs": [
    {
     "name": "stdout",
     "output_type": "stream",
     "text": [
      "[[None, 10, 30], [None, 10, 30], [None, 10, 30], [None, 10, 30], [None, 10, 30]]\n",
      "[[None, None, None], [None, 10, None], [None, None, None], [None, None, None], [None, None, None]]\n"
     ]
    }
   ],
   "source": [
    "\"\"\"\n",
    "    嵌套的列表（二维数组）\n",
    "\"\"\"\n",
    "\n",
    "names = ['GuanYu', 'ZhangFei', 'ZhaoYun', 'MaChao', 'HuangZhong']\n",
    "cources = ['Chinese', 'Math', 'English']\n",
    "# 录入五名学生的3门成绩\n",
    "# - 错误\n",
    "scores = [[None] * len(cources)] * len(names)\n",
    "# - 正确\n",
    "scores_1 = [[None] * len(cources) for _ in range(len(names))]\n",
    "scores[1][1] = 10\n",
    "scores[3][2] = 30\n",
    "print(scores)\n",
    "scores_1[1][1] = 10\n",
    "print(scores_1)"
   ]
  },
  {
   "cell_type": "code",
   "execution_count": 17,
   "metadata": {},
   "outputs": [
    {
     "name": "stdout",
     "output_type": "stream",
     "text": [
      "请输入GuanYu的Chinese成绩：1\n",
      "[[1.0, None, None], [None, None, None], [None, None, None], [None, None, None], [None, None, None]]\n",
      "请输入GuanYu的Math成绩：2\n",
      "[[1.0, 2.0, None], [None, None, None], [None, None, None], [None, None, None], [None, None, None]]\n",
      "请输入GuanYu的English成绩：3\n",
      "[[1.0, 2.0, 3.0], [None, None, None], [None, None, None], [None, None, None], [None, None, None]]\n",
      "请输入ZhangFei的Chinese成绩：4\n",
      "[[1.0, 2.0, 3.0], [4.0, None, None], [None, None, None], [None, None, None], [None, None, None]]\n",
      "请输入ZhangFei的Math成绩：6\n",
      "[[1.0, 2.0, 3.0], [4.0, 6.0, None], [None, None, None], [None, None, None], [None, None, None]]\n",
      "请输入ZhangFei的English成绩：4\n",
      "[[1.0, 2.0, 3.0], [4.0, 6.0, 4.0], [None, None, None], [None, None, None], [None, None, None]]\n",
      "请输入ZhaoYun的Chinese成绩：2\n",
      "[[1.0, 2.0, 3.0], [4.0, 6.0, 4.0], [2.0, None, None], [None, None, None], [None, None, None]]\n",
      "请输入ZhaoYun的Math成绩：34\n",
      "[[1.0, 2.0, 3.0], [4.0, 6.0, 4.0], [2.0, 34.0, None], [None, None, None], [None, None, None]]\n",
      "请输入ZhaoYun的English成绩：54\n",
      "[[1.0, 2.0, 3.0], [4.0, 6.0, 4.0], [2.0, 34.0, 54.0], [None, None, None], [None, None, None]]\n",
      "请输入MaChao的Chinese成绩：6\n",
      "[[1.0, 2.0, 3.0], [4.0, 6.0, 4.0], [2.0, 34.0, 54.0], [6.0, None, None], [None, None, None]]\n",
      "请输入MaChao的Math成绩：3\n",
      "[[1.0, 2.0, 3.0], [4.0, 6.0, 4.0], [2.0, 34.0, 54.0], [6.0, 3.0, None], [None, None, None]]\n",
      "请输入MaChao的English成绩：2\n",
      "[[1.0, 2.0, 3.0], [4.0, 6.0, 4.0], [2.0, 34.0, 54.0], [6.0, 3.0, 2.0], [None, None, None]]\n",
      "请输入HuangZhong的Chinese成绩：43\n",
      "[[1.0, 2.0, 3.0], [4.0, 6.0, 4.0], [2.0, 34.0, 54.0], [6.0, 3.0, 2.0], [43.0, None, None]]\n",
      "请输入HuangZhong的Math成绩：5\n",
      "[[1.0, 2.0, 3.0], [4.0, 6.0, 4.0], [2.0, 34.0, 54.0], [6.0, 3.0, 2.0], [43.0, 5.0, None]]\n",
      "请输入HuangZhong的English成绩：23\n",
      "[[1.0, 2.0, 3.0], [4.0, 6.0, 4.0], [2.0, 34.0, 54.0], [6.0, 3.0, 2.0], [43.0, 5.0, 23.0]]\n"
     ]
    }
   ],
   "source": [
    "names = ['GuanYu', 'ZhangFei', 'ZhaoYun', 'MaChao', 'HuangZhong']\n",
    "cources = ['Chinese', 'Math', 'English']\n",
    "\n",
    "scores = [[None] * len(cources) for _ in range(len(names))]\n",
    "for row, name in enumerate(names):\n",
    "    for col, cource in enumerate(cources):\n",
    "        scores[row][col] = float(input(f'请输入{name}的{cource}成绩：'))\n",
    "        print(scores)"
   ]
  },
  {
   "cell_type": "code",
   "execution_count": 25,
   "metadata": {},
   "outputs": [
    {
     "name": "stdout",
     "output_type": "stream",
     "text": [
      "[99, 92, 88]\n",
      "[12, 25, 34, 58]\n",
      "[{'name': 'APPL', 'shares': 50, 'price': 543.22}, {'name': 'ACME', 'shares': 75, 'price': 115.65}]\n",
      "[{'name': 'HPQ', 'shares': 35, 'price': 31.75}, {'name': 'YHOO', 'shares': 45, 'price': 16.35}]\n"
     ]
    }
   ],
   "source": [
    "\"\"\"\n",
    "    heapq、itertools等的用法\n",
    "    从列表中找出最大的或做小的N个元素\n",
    "    堆结构（大顶堆/小顶堆）\n",
    "\"\"\"\n",
    "import heapq\n",
    "\n",
    "\n",
    "list1 = [34, 25, 12, 99, 87, 63, 58, 78, 88, 92]\n",
    "list2 = [\n",
    "    {'name': 'IBM', 'shares': 100, 'price': 91.1},\n",
    "    {'name': 'APPL', 'shares': 50, 'price': 543.22},\n",
    "    {'name': 'FB', 'shares': 200, 'price': 21.09},\n",
    "    {'name': 'HPQ', 'shares': 35, 'price': 31.75},\n",
    "    {'name': 'YHOO', 'shares': 45, 'price': 16.35},\n",
    "    {'name': 'ACME', 'shares': 75, 'price': 115.65}\n",
    "]\n",
    "\n",
    "print(heapq.nlargest(3, list1))\n",
    "print(heapq.nsmallest(4, list1))\n",
    "print(heapq.nlargest(2, list2, key=lambda x: x['price']))\n",
    "print(heapq.nsmallest(2, list2, key=lambda x: x['shares']))"
   ]
  },
  {
   "cell_type": "code",
   "execution_count": 42,
   "metadata": {},
   "outputs": [
    {
     "name": "stdout",
     "output_type": "stream",
     "text": [
      "ABCD\n",
      "ABCDE\n"
     ]
    },
    {
     "data": {
      "text/plain": [
       "<itertools.product at 0x2a176b10cc8>"
      ]
     },
     "execution_count": 42,
     "metadata": {},
     "output_type": "execute_result"
    }
   ],
   "source": [
    "\"\"\"\n",
    "    迭代工具 - 排列 / 组合 / 笛卡尔积\n",
    "\"\"\"\n",
    "import itertools\n",
    "\n",
    "a = 'ABCD'\n",
    "b = 'ABCDE'\n",
    "c = '123'\n",
    "itertools.permutations(a)\n",
    "print(a)\n",
    "itertools.combinations(b, 3)\n",
    "print(b)\n",
    "itertools.product(a, b)\n"
   ]
  },
  {
   "cell_type": "markdown",
   "metadata": {},
   "source": [
    "- collections 模块下的工具类"
   ]
  },
  {
   "cell_type": "code",
   "execution_count": 45,
   "metadata": {},
   "outputs": [
    {
     "name": "stdout",
     "output_type": "stream",
     "text": [
      "[('eyes', 8), ('the', 5)]\n"
     ]
    }
   ],
   "source": [
    "\"\"\"\n",
    "    找出序列中出现次数最多的元素\n",
    "\"\"\"\n",
    "from collections import Counter\n",
    "\n",
    "words = [\n",
    "    'look', 'into', 'my', 'eyes', 'look', 'into', 'my', 'eyes',\n",
    "    'the', 'eyes', 'the', 'eyes', 'the', 'eyes', 'not', 'around',\n",
    "    'the', 'eyes', \"don't\", 'look', 'around', 'the', 'eyes',\n",
    "    'look', 'into', 'my', 'eyes', \"you're\", 'under'\n",
    "]\n",
    "counter = Counter(words)\n",
    "print(counter.most_common(2))"
   ]
  },
  {
   "cell_type": "markdown",
   "metadata": {},
   "source": [
    "- 常用算法\n",
    "    - 穷举法 -又称为暴力破解法，对所有可能性就行验证，直到找到正确答案\n",
    "    - 贪婪法 - 在对问题求解是，总是做出当前看来最好的选择，不追求最优解，快速找到满意答案\n",
    "    - 分治法 - 把一个复杂的问题分成两个或更多的相同或相似的子问题，再把子问题分成更小的子问题，知道可以直接求解的程度，最后将子问题的解进行合并得到原问题的解\n",
    "    - 回溯法 - 回溯法又称为试探法，按选优条件先前搜索，当搜索到某一步发现原先这样选择不能达到目标时，就退回到上一步重新选择\n",
    "    - 动态规划法 - 基本思想也是将待求解问题分解成若干个子问题，先求解并保存子问题的解，避免大量重复运算"
   ]
  },
  {
   "cell_type": "markdown",
   "metadata": {},
   "source": [
    "- 穷举法：百钱百鸡和五人分鱼"
   ]
  },
  {
   "cell_type": "code",
   "execution_count": 47,
   "metadata": {},
   "outputs": [
    {
     "name": "stdout",
     "output_type": "stream",
     "text": [
      "0 25 75\n",
      "3 20 77\n",
      "4 18 78\n",
      "7 13 80\n",
      "8 11 81\n",
      "11 6 83\n",
      "12 4 84\n"
     ]
    }
   ],
   "source": [
    "\"\"\"\n",
    "    百鸡百钱\n",
    "    公鸡5元一只，母鸡3元一只，小鸡一元3只\n",
    "    用100元买一百只鸡，问公鸡/母鸡/小鸡各多少只\n",
    "\"\"\"\n",
    "\n",
    "for x in range(20):\n",
    "    for y in range(34):\n",
    "        for z in range(100):\n",
    "            if x + y + z == 100 and x * 5 + y * 3 + z // 3 == 100:\n",
    "                print(x, y, z)"
   ]
  },
  {
   "cell_type": "code",
   "execution_count": 1,
   "metadata": {},
   "outputs": [
    {
     "name": "stdout",
     "output_type": "stream",
     "text": [
      "3121\n",
      "6246\n",
      "9371\n",
      "12496\n",
      "15621\n",
      "18746\n",
      "21871\n",
      "24996\n",
      "28121\n",
      "31246\n",
      "34371\n",
      "37496\n",
      "40621\n",
      "43746\n",
      "46871\n",
      "49996\n",
      "53121\n",
      "56246\n",
      "59371\n",
      "62496\n",
      "65621\n",
      "68746\n",
      "71871\n",
      "74996\n",
      "78121\n",
      "81246\n",
      "84371\n",
      "87496\n",
      "90621\n",
      "93746\n",
      "96871\n",
      "99996\n",
      "103121\n",
      "106246\n",
      "109371\n",
      "112496\n",
      "115621\n",
      "118746\n",
      "121871\n",
      "124996\n",
      "128121\n",
      "131246\n",
      "134371\n",
      "137496\n",
      "140621\n",
      "143746\n",
      "146871\n",
      "149996\n",
      "153121\n",
      "156246\n",
      "159371\n",
      "162496\n",
      "165621\n",
      "168746\n",
      "171871\n",
      "174996\n",
      "178121\n",
      "181246\n",
      "184371\n",
      "187496\n",
      "190621\n",
      "193746\n",
      "196871\n",
      "199996\n",
      "203121\n",
      "206246\n",
      "209371\n",
      "212496\n",
      "215621\n",
      "218746\n",
      "221871\n",
      "224996\n",
      "228121\n",
      "231246\n",
      "234371\n",
      "237496\n",
      "240621\n",
      "243746\n",
      "246871\n",
      "249996\n",
      "253121\n",
      "256246\n",
      "259371\n",
      "262496\n",
      "265621\n",
      "268746\n",
      "271871\n",
      "274996\n",
      "278121\n",
      "281246\n",
      "284371\n",
      "287496\n",
      "290621\n",
      "293746\n",
      "296871\n",
      "299996\n",
      "303121\n",
      "306246\n",
      "309371\n",
      "312496\n",
      "315621\n",
      "318746\n",
      "321871\n",
      "324996\n",
      "328121\n",
      "331246\n",
      "334371\n",
      "337496\n",
      "340621\n",
      "343746\n",
      "346871\n",
      "349996\n",
      "353121\n",
      "356246\n",
      "359371\n",
      "362496\n",
      "365621\n",
      "368746\n",
      "371871\n",
      "374996\n",
      "378121\n",
      "381246\n",
      "384371\n",
      "387496\n",
      "390621\n",
      "393746\n",
      "396871\n",
      "399996\n",
      "403121\n",
      "406246\n",
      "409371\n",
      "412496\n",
      "415621\n",
      "418746\n",
      "421871\n",
      "424996\n",
      "428121\n",
      "431246\n",
      "434371\n",
      "437496\n",
      "440621\n",
      "443746\n",
      "446871\n",
      "449996\n",
      "453121\n",
      "456246\n",
      "459371\n",
      "462496\n",
      "465621\n",
      "468746\n",
      "471871\n",
      "474996\n",
      "478121\n",
      "481246\n",
      "484371\n",
      "487496\n",
      "490621\n",
      "493746\n",
      "496871\n",
      "499996\n",
      "503121\n",
      "506246\n",
      "509371\n",
      "512496\n",
      "515621\n",
      "518746\n",
      "521871\n",
      "524996\n",
      "528121\n",
      "531246\n",
      "534371\n",
      "537496\n",
      "540621\n",
      "543746\n",
      "546871\n",
      "549996\n",
      "553121\n",
      "556246\n",
      "559371\n",
      "562496\n",
      "565621\n",
      "568746\n",
      "571871\n",
      "574996\n",
      "578121\n",
      "581246\n",
      "584371\n",
      "587496\n",
      "590621\n",
      "593746\n",
      "596871\n",
      "599996\n",
      "603121\n",
      "606246\n",
      "609371\n",
      "612496\n",
      "615621\n",
      "618746\n",
      "621871\n",
      "624996\n",
      "628121\n",
      "631246\n",
      "634371\n",
      "637496\n",
      "640621\n",
      "643746\n",
      "646871\n",
      "649996\n",
      "653121\n",
      "656246\n",
      "659371\n",
      "662496\n",
      "665621\n",
      "668746\n",
      "671871\n",
      "674996\n",
      "678121\n",
      "681246\n",
      "684371\n",
      "687496\n",
      "690621\n",
      "693746\n",
      "696871\n",
      "699996\n",
      "703121\n",
      "706246\n",
      "709371\n",
      "712496\n",
      "715621\n",
      "718746\n",
      "721871\n",
      "724996\n",
      "728121\n",
      "731246\n",
      "734371\n",
      "737496\n",
      "740621\n",
      "743746\n",
      "746871\n",
      "749996\n",
      "753121\n",
      "756246\n",
      "759371\n",
      "762496\n",
      "765621\n",
      "768746\n",
      "771871\n",
      "774996\n",
      "778121\n",
      "781246\n",
      "784371\n",
      "787496\n",
      "790621\n",
      "793746\n",
      "796871\n",
      "799996\n",
      "803121\n",
      "806246\n",
      "809371\n",
      "812496\n",
      "815621\n",
      "818746\n",
      "821871\n",
      "824996\n",
      "828121\n",
      "831246\n",
      "834371\n",
      "837496\n",
      "840621\n",
      "843746\n",
      "846871\n",
      "849996\n",
      "853121\n",
      "856246\n",
      "859371\n",
      "862496\n",
      "865621\n",
      "868746\n",
      "871871\n",
      "874996\n",
      "878121\n",
      "881246\n",
      "884371\n",
      "887496\n",
      "890621\n",
      "893746\n",
      "896871\n",
      "899996\n",
      "903121\n",
      "906246\n",
      "909371\n",
      "912496\n",
      "915621\n",
      "918746\n",
      "921871\n",
      "924996\n",
      "928121\n",
      "931246\n",
      "934371\n",
      "937496\n",
      "940621\n",
      "943746\n",
      "946871\n",
      "949996\n",
      "953121\n",
      "956246\n",
      "959371\n",
      "962496\n",
      "965621\n",
      "968746\n",
      "971871\n",
      "974996\n",
      "978121\n",
      "981246\n",
      "984371\n",
      "987496\n",
      "990621\n",
      "993746\n",
      "996871\n",
      "999996\n"
     ]
    }
   ],
   "source": [
    "\"\"\"\n",
    "    A、B、C、D、E五人在某个夜晚合伙去捕鱼，最后疲惫不堪各自去睡觉\n",
    "    第二天A第一个醒来，他将鱼分为五份，把多余的一条扔掉，拿走自己的一份\n",
    "    B第二个醒来，也将鱼分成了5份，把多余的一条扔掉，拿走自己的一份\n",
    "    然后C、D、E依次醒来也按同样的方式分鱼\n",
    "    问：他们至少捕了多少鱼\n",
    "\"\"\"\n",
    "\n",
    "fish = 6\n",
    "while fish < 1000000:\n",
    "    total = fish\n",
    "    enough = True\n",
    "    for _ in range(5):\n",
    "        if (total - 1) % 5 == 0:\n",
    "            total = (total - 1) // 5 * 4\n",
    "        else:\n",
    "            enough = False\n",
    "            break\n",
    "    if enough:\n",
    "        print(fish)\n",
    "    fish += 5\n"
   ]
  },
  {
   "cell_type": "markdown",
   "metadata": {},
   "source": [
    "- 贪婪法\n",
    ">假设小偷有一个背包，最多能装20公斤赃物，他闯入一户人家，发现如下表所示的物品。很显然，他不能把所有物品都装进背包，所以必须确定拿走哪些物品，留下哪些物品。\n",
    "\n",
    "| 名称 | 价格(\\$)| 重量(Kg) |\n",
    "| ---- | ------ | ------- |\n",
    "| 电脑 | 200 | 20 |\n",
    "| 收音机 | 20 | 4 |\n",
    "| 钟 | 175 | 10 |\n",
    "| 花瓶 | 50 | 2 |\n",
    "| 书 | 10 | 1 |\n",
    "| 油画 | 90 | 9 |\n"
   ]
  },
  {
   "cell_type": "code",
   "execution_count": 1,
   "metadata": {},
   "outputs": [
    {
     "name": "stdout",
     "output_type": "stream",
     "text": [
      "20 6\n",
      "20\n"
     ]
    },
    {
     "ename": "ValueError",
     "evalue": "not enough values to unpack (expected 3, got 1)",
     "output_type": "error",
     "traceback": [
      "\u001b[1;31m---------------------------------------------------------------------------\u001b[0m",
      "\u001b[1;31mValueError\u001b[0m                                Traceback (most recent call last)",
      "\u001b[1;32m<ipython-input-1-f1a2fca6a55a>\u001b[0m in \u001b[0;36m<module>\u001b[1;34m\u001b[0m\n\u001b[0;32m     45\u001b[0m \u001b[1;33m\u001b[0m\u001b[0m\n\u001b[0;32m     46\u001b[0m \u001b[1;32mif\u001b[0m \u001b[0m__name__\u001b[0m \u001b[1;33m==\u001b[0m \u001b[1;34m'__main__'\u001b[0m\u001b[1;33m:\u001b[0m\u001b[1;33m\u001b[0m\u001b[1;33m\u001b[0m\u001b[0m\n\u001b[1;32m---> 47\u001b[1;33m       \u001b[0mmain\u001b[0m\u001b[1;33m(\u001b[0m\u001b[1;33m)\u001b[0m\u001b[1;33m\u001b[0m\u001b[1;33m\u001b[0m\u001b[0m\n\u001b[0m",
      "\u001b[1;32m<ipython-input-1-f1a2fca6a55a>\u001b[0m in \u001b[0;36mmain\u001b[1;34m()\u001b[0m\n\u001b[0;32m     32\u001b[0m     \u001b[0mall_things\u001b[0m \u001b[1;33m=\u001b[0m \u001b[1;33m[\u001b[0m\u001b[1;33m]\u001b[0m\u001b[1;33m\u001b[0m\u001b[1;33m\u001b[0m\u001b[0m\n\u001b[0;32m     33\u001b[0m     \u001b[1;32mfor\u001b[0m \u001b[0m_\u001b[0m \u001b[1;32min\u001b[0m \u001b[0mrange\u001b[0m\u001b[1;33m(\u001b[0m\u001b[0mnum_of_things\u001b[0m\u001b[1;33m)\u001b[0m\u001b[1;33m:\u001b[0m\u001b[1;33m\u001b[0m\u001b[1;33m\u001b[0m\u001b[0m\n\u001b[1;32m---> 34\u001b[1;33m         \u001b[0mall_things\u001b[0m\u001b[1;33m.\u001b[0m\u001b[0mappend\u001b[0m\u001b[1;33m(\u001b[0m\u001b[0mThing\u001b[0m\u001b[1;33m(\u001b[0m\u001b[1;33m*\u001b[0m\u001b[0minput_thing\u001b[0m\u001b[1;33m(\u001b[0m\u001b[1;33m)\u001b[0m\u001b[1;33m)\u001b[0m\u001b[1;33m)\u001b[0m\u001b[1;33m\u001b[0m\u001b[1;33m\u001b[0m\u001b[0m\n\u001b[0m\u001b[0;32m     35\u001b[0m     \u001b[0mall_things\u001b[0m\u001b[1;33m.\u001b[0m\u001b[0msort\u001b[0m\u001b[1;33m(\u001b[0m\u001b[0mkey\u001b[0m\u001b[1;33m=\u001b[0m\u001b[1;32mlambda\u001b[0m \u001b[0mx\u001b[0m\u001b[1;33m:\u001b[0m \u001b[0mx\u001b[0m\u001b[1;33m.\u001b[0m\u001b[0mvalue\u001b[0m\u001b[1;33m,\u001b[0m \u001b[0mreverse\u001b[0m\u001b[1;33m=\u001b[0m\u001b[1;32mTrue\u001b[0m\u001b[1;33m)\u001b[0m\u001b[1;33m\u001b[0m\u001b[1;33m\u001b[0m\u001b[0m\n\u001b[0;32m     36\u001b[0m     \u001b[0mtotal_weight\u001b[0m \u001b[1;33m=\u001b[0m \u001b[1;36m0\u001b[0m\u001b[1;33m\u001b[0m\u001b[1;33m\u001b[0m\u001b[0m\n",
      "\u001b[1;32m<ipython-input-1-f1a2fca6a55a>\u001b[0m in \u001b[0;36minput_thing\u001b[1;34m()\u001b[0m\n\u001b[0;32m     24\u001b[0m \u001b[1;33m\u001b[0m\u001b[0m\n\u001b[0;32m     25\u001b[0m \u001b[1;32mdef\u001b[0m \u001b[0minput_thing\u001b[0m\u001b[1;33m(\u001b[0m\u001b[1;33m)\u001b[0m\u001b[1;33m:\u001b[0m\u001b[1;33m\u001b[0m\u001b[1;33m\u001b[0m\u001b[0m\n\u001b[1;32m---> 26\u001b[1;33m     \u001b[0mname_str\u001b[0m\u001b[1;33m,\u001b[0m \u001b[0mweight_str\u001b[0m\u001b[1;33m,\u001b[0m \u001b[0mprice_str\u001b[0m \u001b[1;33m=\u001b[0m \u001b[0minput\u001b[0m\u001b[1;33m(\u001b[0m\u001b[1;33m)\u001b[0m\u001b[1;33m.\u001b[0m\u001b[0msplit\u001b[0m\u001b[1;33m(\u001b[0m\u001b[1;33m)\u001b[0m\u001b[1;33m\u001b[0m\u001b[1;33m\u001b[0m\u001b[0m\n\u001b[0m\u001b[0;32m     27\u001b[0m     \u001b[1;32mreturn\u001b[0m \u001b[0mname_str\u001b[0m\u001b[1;33m,\u001b[0m \u001b[0mint\u001b[0m\u001b[1;33m(\u001b[0m\u001b[0mweight_str\u001b[0m\u001b[1;33m)\u001b[0m\u001b[1;33m,\u001b[0m \u001b[0mint\u001b[0m\u001b[1;33m(\u001b[0m\u001b[0mprice_str\u001b[0m\u001b[1;33m)\u001b[0m\u001b[1;33m\u001b[0m\u001b[1;33m\u001b[0m\u001b[0m\n\u001b[0;32m     28\u001b[0m \u001b[1;33m\u001b[0m\u001b[0m\n",
      "\u001b[1;31mValueError\u001b[0m: not enough values to unpack (expected 3, got 1)"
     ]
    }
   ],
   "source": [
    "\"\"\"\n",
    "    贪婪法：在对问题求解时，总是做出在当前看来做好的选择，不追求最优解，快速找到满意的答案\n",
    "    输入：\n",
    "    20 6\n",
    "    电脑 200 20\n",
    "    收音机 20 4\n",
    "    钟 175 10\n",
    "    花瓶 50 2\n",
    "    书 10 1\n",
    "    油画 90 9\n",
    "\"\"\"\n",
    "# 每次取性价比最高的物品\n",
    "class Thing():\n",
    "    \n",
    "    def __init__(self, name, weight, price):\n",
    "        self.name = name\n",
    "        self.weight = weight\n",
    "        self.price = price\n",
    "    \n",
    "    @property\n",
    "    def value(self):\n",
    "        return self.price / self.weight\n",
    "    \n",
    "    \n",
    "def input_thing():\n",
    "    name_str, weight_str, price_str = input().split()\n",
    "    return name_str, int(weight_str), int(price_str)\n",
    "\n",
    "def main():\n",
    "    max_weight, num_of_things = map(int, input().split())\n",
    "    all_things = []\n",
    "    for _ in range(num_of_things):\n",
    "        all_things.append(Thing(*input_thing()))\n",
    "    all_things.sort(key=lambda x: x.value, reverse=True)\n",
    "    total_weight = 0\n",
    "    total_price = 0\n",
    "    for thing in all_things:\n",
    "        if total_weight + thing.weight <= max_weight:\n",
    "            print(f'小偷拿走了{thing.name}')\n",
    "            total_weight += thing.weight\n",
    "            total_price += thing.price\n",
    "    print(f'总价值:{total_price}美元')\n",
    "          \n",
    "      \n",
    "if __name__ == '__main__':\n",
    "      main()"
   ]
  },
  {
   "cell_type": "code",
   "execution_count": 10,
   "metadata": {},
   "outputs": [
    {
     "name": "stdout",
     "output_type": "stream",
     "text": [
      "小偷背包的承重：35\n",
      "小偷偷走了花瓶,价值50\n",
      "小偷偷走了电脑,价值200\n",
      "小偷偷走了书,价值10\n",
      "小偷偷走了油画,价值90\n",
      "小偷共偷走了价值350的物品\n"
     ]
    }
   ],
   "source": [
    "class Thing():\n",
    "    \n",
    "    def __init__(self, name, price, weight):\n",
    "        self.name = name\n",
    "        self.weight = weight\n",
    "        self.price = price\n",
    "    \n",
    "    @property\n",
    "    def value(self):\n",
    "        return self.price / self.weight\n",
    "    \n",
    "#     def __str__(self):\n",
    "#         return '{' + self.name + ', ' + self.weight + ', ' + self.price + '}'\n",
    "#         return '{%s, %s, %s}' % (self.name, self.weight, self.price)\n",
    "    \n",
    "# def input_thing():\n",
    "#     name_str, weight_str, price_str = input().split()\n",
    "#     return name_str, int(weight_str), int(price_str)\n",
    "\n",
    "\n",
    "def main():\n",
    "    max_weight = int(input('小偷背包的承重：'))\n",
    "#     num_of_thing = int(input('房间内的物品数量：'))\n",
    "    all_things = [\n",
    "        Thing('电脑', 200, 20),\n",
    "        Thing('收音机', 20, 4),\n",
    "        Thing('钟', 175, 40),\n",
    "        Thing('花瓶', 50, 2),\n",
    "        Thing('书', 10, 1),\n",
    "        Thing('油画', 90, 9)\n",
    "    ]\n",
    "#     for thing in range(num_of_thing):\n",
    "#         all_things.append(Thing(*input_thing()))\n",
    "    all_things.sort(key=lambda x:x.value, reverse=True)\n",
    "#     print(all_things)\n",
    "    total_weight = 0\n",
    "    total_price = 0\n",
    "    for thing in all_things:\n",
    "        if total_weight + thing.weight <= max_weight:\n",
    "            total_weight += thing.weight\n",
    "            total_price += thing.price\n",
    "            print(f'小偷偷走了{thing.name},价值{thing.price}')\n",
    "    print('小偷共偷走了价值%d的物品' % total_price)\n",
    "    \n",
    "    \n",
    "if __name__ == '__main__':\n",
    "    main()"
   ]
  },
  {
   "cell_type": "markdown",
   "metadata": {},
   "source": [
    "- 分治法 -- 快速排序"
   ]
  },
  {
   "cell_type": "code",
   "execution_count": 7,
   "metadata": {},
   "outputs": [],
   "source": [
    "\"\"\"\n",
    "    快速排序，选择枢轴对元素进行划分，小的放在左边，大的放在右边\n",
    "\"\"\"\n",
    "\n",
    "def quick_sort(origin_items, comp=lambda x, y: x > y):\n",
    "    items = origin_items[:]\n",
    "    _quick_sort(items, 0, len(items) - 1, comp)\n",
    "    return items\n",
    "\n",
    "\n",
    "def _quick_sort(items, start, end, comp):\n",
    "    if start < end:\n",
    "        pos = _partition(items, start, end, comp)\n",
    "        _quick_sort(items, start, pos - 1, comp)\n",
    "        _quick_sort(items, pos + 1, end, comp)\n",
    "        \n",
    "        \n",
    "def _partition(items, start, end, comp):\n",
    "    pivot = items[end]\n",
    "    i = start - 1\n",
    "    for j in range(start, end):\n",
    "        if comp(items[j], pivot):\n",
    "            i += 1\n",
    "            items[i], items[j] = items[j], items[i]\n",
    "    items[i + 1], items[end] = items[end], items[i + 1]\n",
    "    return i + 1\n",
    "\n",
    "\n"
   ]
  },
  {
   "cell_type": "markdown",
   "metadata": {},
   "source": [
    "- 函数"
   ]
  },
  {
   "cell_type": "code",
   "execution_count": 4,
   "metadata": {},
   "outputs": [
    {
     "name": "stdout",
     "output_type": "stream",
     "text": [
      "[1, 9, 25, 49, 81]\n",
      "[1, 9, 25, 49, 81]\n"
     ]
    }
   ],
   "source": [
    "items = list(map(lambda x:x ** 2, \\\n",
    "        filter(lambda x: x % 2, range(1, 10))))\n",
    "print(items)\n",
    "items1 = [x ** 2 for x in range(1, 10) if x % 2]\n",
    "print(items1)"
   ]
  },
  {
   "cell_type": "code",
   "execution_count": 2,
   "metadata": {},
   "outputs": [
    {
     "ename": "TypeError",
     "evalue": "decorate() takes 1 positional argument but 2 were given",
     "output_type": "error",
     "traceback": [
      "\u001b[1;31m---------------------------------------------------------------------------\u001b[0m",
      "\u001b[1;31mTypeError\u001b[0m                                 Traceback (most recent call last)",
      "\u001b[1;32m<ipython-input-2-6d465d92a10d>\u001b[0m in \u001b[0;36m<module>\u001b[1;34m\u001b[0m\n\u001b[0;32m     26\u001b[0m \u001b[1;33m\u001b[0m\u001b[0m\n\u001b[0;32m     27\u001b[0m \u001b[1;33m\u001b[0m\u001b[0m\n\u001b[1;32m---> 28\u001b[1;33m \u001b[0mcount\u001b[0m \u001b[1;33m=\u001b[0m \u001b[0mcount_num\u001b[0m\u001b[1;33m(\u001b[0m\u001b[1;36m2\u001b[0m\u001b[1;33m,\u001b[0m \u001b[1;36m10000000\u001b[0m\u001b[1;33m)\u001b[0m\u001b[1;33m\u001b[0m\u001b[1;33m\u001b[0m\u001b[0m\n\u001b[0m\u001b[0;32m     29\u001b[0m \u001b[0mprint\u001b[0m\u001b[1;33m(\u001b[0m\u001b[0mcount\u001b[0m\u001b[1;33m)\u001b[0m\u001b[1;33m\u001b[0m\u001b[1;33m\u001b[0m\u001b[0m\n",
      "\u001b[1;31mTypeError\u001b[0m: decorate() takes 1 positional argument but 2 were given"
     ]
    }
   ],
   "source": [
    "\"\"\"\n",
    "    装饰器\n",
    "    计算执行时间装饰器\n",
    "\"\"\"\n",
    "from functools import wraps\n",
    "from time import time\n",
    "\n",
    "def recode_time(output):\n",
    "    def decorate(func):\n",
    "        @wraps(func)\n",
    "        def wrapper(*args, **kwargs):\n",
    "            start = time()\n",
    "            result = func(*args, **kwargs)\n",
    "            end = time()\n",
    "            output(func.__name__, end - start)\n",
    "            return result\n",
    "        return wrapper\n",
    "    return decorate\n",
    "\n",
    "@recode_time\n",
    "def count_num(minnum, maxnum):\n",
    "    count = 0\n",
    "    for _ in range(minnum, maxnum):\n",
    "        count += 1\n",
    "    return count\n",
    "\n",
    "\n",
    "count = count_num(2, 10000000)\n",
    "print(count)"
   ]
  },
  {
   "cell_type": "code",
   "execution_count": 3,
   "metadata": {},
   "outputs": [],
   "source": [
    "from functools import wraps\n",
    "\n",
    "\n",
    "def singleton(cls):\n",
    "    \"\"\"装饰类的装饰器\"\"\"\n",
    "    instances = {}\n",
    "\n",
    "    @wraps(cls)\n",
    "    def wrapper(*args, **kwargs):\n",
    "        if cls not in instances:\n",
    "            instances[cls] = cls(*args, **kwargs)\n",
    "        return instances[cls]\n",
    "\n",
    "    return wrapper\n",
    "\n",
    "\n",
    "@singleton\n",
    "class President():\n",
    "    \"\"\"总统(单例类)\"\"\"\n",
    "    pass"
   ]
  },
  {
   "cell_type": "code",
   "execution_count": 23,
   "metadata": {},
   "outputs": [
    {
     "name": "stdout",
     "output_type": "stream",
     "text": [
      "[1, 2, 3]\n",
      "[1, 6, 3]\n",
      "{3}\n",
      "list2\n"
     ]
    }
   ],
   "source": [
    "list1 = [1, 2, 3]\n",
    "list2 = list1\n",
    "print(list2)\n",
    "list1[1] = 6\n",
    "print(list2)\n",
    "a = 3\n",
    "b = a\n",
    "set1 = {a, b}\n",
    "print(set1)\n",
    "\n",
    "dict1 = {a:'list1', b:'list2'}\n",
    "print(dict1[a])"
   ]
  },
  {
   "cell_type": "code",
   "execution_count": 12,
   "metadata": {},
   "outputs": [
    {
     "name": "stdout",
     "output_type": "stream",
     "text": [
      "{1, 2, 3}\n"
     ]
    }
   ],
   "source": [
    "set1 = {2, 3, 1, 1}\n",
    "print(set1)"
   ]
  },
  {
   "cell_type": "code",
   "execution_count": 22,
   "metadata": {},
   "outputs": [
    {
     "name": "stdout",
     "output_type": "stream",
     "text": [
      "a\n"
     ]
    }
   ],
   "source": [
    "dict1 = {'a':'a', 'b':'b'}\n",
    "print(dict1['a'])"
   ]
  },
  {
   "cell_type": "markdown",
   "metadata": {},
   "source": [
    "- Mixin"
   ]
  },
  {
   "cell_type": "code",
   "execution_count": 39,
   "metadata": {},
   "outputs": [
    {
     "name": "stdout",
     "output_type": "stream",
     "text": [
      "'username is already set'\n",
      "{'username': 'jackfrued'}\n"
     ]
    }
   ],
   "source": [
    "\"\"\"\n",
    "    自定义字典限制只有在指定的key不存在时才嗯在地点中设置键值对\n",
    "\"\"\"\n",
    "class SetOnceMappingMixin:\n",
    "    \"\"\" 自定义混入类 \"\"\"\n",
    "    __slots__ = ()\n",
    "    \n",
    "    def __setitem__(self, key, value):\n",
    "        if key in self:\n",
    "            raise KeyError(str(key) + ' is already set')\n",
    "        return super().__setitem__(key, value)\n",
    "    \n",
    "    \n",
    "class SetOnceDict(SetOnceMappingMixin, dict):\n",
    "    \"\"\" 自定义字典 \"\"\"\n",
    "    pass\n",
    "\n",
    "\n",
    "my_dict = SetOnceDict()\n",
    "try:\n",
    "    my_dict['username'] = 'jackfrued'\n",
    "    my_dict['username'] = 'hellokitty'\n",
    "except KeyError as err:\n",
    "    print(err)\n",
    "print(my_dict)"
   ]
  },
  {
   "cell_type": "code",
   "execution_count": 49,
   "metadata": {},
   "outputs": [
    {
     "name": "stdout",
     "output_type": "stream",
     "text": [
      "{'name': 'name'}\n",
      "hello\n",
      "None\n"
     ]
    }
   ],
   "source": [
    "class C(dict):\n",
    "    \n",
    "    def some_else(self):\n",
    "        print('hello')\n",
    "#     def __setitem__(self, key, value):\n",
    "#         return super().__setitem__(key, value)\n",
    "cc = C()\n",
    "cc['name'] = 'name'\n",
    "print(cc)\n",
    "print(cc.some_else())"
   ]
  },
  {
   "cell_type": "code",
   "execution_count": 53,
   "metadata": {},
   "outputs": [
    {
     "name": "stdout",
     "output_type": "stream",
     "text": [
      "xiaoxx\n",
      "100\n",
      "wanger\n"
     ]
    },
    {
     "ename": "AttributeError",
     "evalue": "'test2' object has no attribute 'score'",
     "output_type": "error",
     "traceback": [
      "\u001b[1;31m---------------------------------------------------------------------------\u001b[0m",
      "\u001b[1;31mAttributeError\u001b[0m                            Traceback (most recent call last)",
      "\u001b[1;32m<ipython-input-53-bdab4db21ec9>\u001b[0m in \u001b[0;36m<module>\u001b[1;34m\u001b[0m\n\u001b[0;32m     15\u001b[0m \u001b[0mt2\u001b[0m \u001b[1;33m=\u001b[0m \u001b[0mtest2\u001b[0m\u001b[1;33m(\u001b[0m\u001b[1;34m'wanger'\u001b[0m\u001b[1;33m)\u001b[0m\u001b[1;33m\u001b[0m\u001b[1;33m\u001b[0m\u001b[0m\n\u001b[0;32m     16\u001b[0m \u001b[0mprint\u001b[0m\u001b[1;33m(\u001b[0m\u001b[0mt2\u001b[0m\u001b[1;33m.\u001b[0m\u001b[0mname\u001b[0m\u001b[1;33m)\u001b[0m\u001b[1;33m\u001b[0m\u001b[1;33m\u001b[0m\u001b[0m\n\u001b[1;32m---> 17\u001b[1;33m \u001b[0mt2\u001b[0m\u001b[1;33m.\u001b[0m\u001b[0mscore\u001b[0m \u001b[1;33m=\u001b[0m \u001b[1;36m100\u001b[0m\u001b[1;33m\u001b[0m\u001b[1;33m\u001b[0m\u001b[0m\n\u001b[0m",
      "\u001b[1;31mAttributeError\u001b[0m: 'test2' object has no attribute 'score'"
     ]
    }
   ],
   "source": [
    "class test1:\n",
    "    def __init__(self, name):\n",
    "        self.name = name\n",
    "        \n",
    "t1 = test1('xiaoxx')\n",
    "print(t1.name)\n",
    "t1.score = 100\n",
    "print(t1.score)\n",
    "class test2:\n",
    "    __slots__ = ('name')\n",
    "    \n",
    "    def __init__(self, name):\n",
    "        self.name = name\n",
    "        \n",
    "t2 = test2('wanger')\n",
    "print(t2.name)\n",
    "t2.score = 100\n"
   ]
  },
  {
   "cell_type": "markdown",
   "metadata": {},
   "source": [
    "- 元编程和元类\n",
    "    - 例：用元类实现单例模式"
   ]
  },
  {
   "cell_type": "code",
   "execution_count": null,
   "metadata": {},
   "outputs": [],
   "source": [
    "import threading\n",
    "\n",
    "\n",
    "class SingletonMeta(type):\n",
    "    \n",
    "    def __init__(cls, *args, **kwargs):\n",
    "        cls.__instance = None\n",
    "        cls.__lock = threading.Lock()\n",
    "        super().__init__(*args, **args)\n",
    "        \n",
    "    def __call__(cls, *args, **kwargs):\n",
    "        if cls.__instance is None:\n",
    "            with cls.__lock:\n",
    "                if cls.__instance is None:\n",
    "                    cls.__instance = super().__call__(*args, **kwargs)\n",
    "        return cls.__instance\n",
    "    \n",
    "    \n",
    "class President(metaclass=SingletonMeta):\n",
    "    pass"
   ]
  },
  {
   "cell_type": "markdown",
   "metadata": {},
   "source": [
    "- 面向对象设计原则\n",
    "    - 单一职责原则（**S**RP） - 一个类制作该做的事情（类的设计要求高内聚）\n",
    "    - 开闭原则（**O**CP） - 软件实体应该对扩展开放，对修改关闭\n",
    "    - 依赖倒转原则（DIP） - 面向抽象编程（在弱类型语言中已经被弱化）\n",
    "    - 里氏替换原则（**L**SP） - 任何时候可以用子类对象替掉父类对象\n",
    "    - 接口隔离原则（**I**SP） - 接口要小而专，不要大而全（Python中没有接口的概念）\n",
    "    - 最少知识原则（迪米特法则，Lo**D**） - 不要给没有必然联系的对象发消息\n",
    "    > 说明：以上加粗的字符放在一起称为面向对象的**SOLID**原则"
   ]
  },
  {
   "cell_type": "markdown",
   "metadata": {},
   "source": [
    "- GoF设计模式\n",
    "    - 创建型模式：单例、工厂、创造者、原型\n",
    "    - 结构型模式：适配器、门面（外观）、代理\n",
    "    - 行为型模式：迭代器、观察者、状态、策略"
   ]
  },
  {
   "cell_type": "code",
   "execution_count": 57,
   "metadata": {},
   "outputs": [
    {
     "ename": "FileNotFoundError",
     "evalue": "[Errno 2] No such file or directory: 'Python-3.7.1.tgz'",
     "output_type": "error",
     "traceback": [
      "\u001b[1;31m---------------------------------------------------------------------------\u001b[0m",
      "\u001b[1;31mFileNotFoundError\u001b[0m                         Traceback (most recent call last)",
      "\u001b[1;32m<ipython-input-57-503e5426cfb9>\u001b[0m in \u001b[0;36m<module>\u001b[1;34m\u001b[0m\n\u001b[0;32m     32\u001b[0m \u001b[1;33m\u001b[0m\u001b[0m\n\u001b[0;32m     33\u001b[0m \u001b[1;32mif\u001b[0m \u001b[0m__name__\u001b[0m \u001b[1;33m==\u001b[0m \u001b[1;34m'__main__'\u001b[0m\u001b[1;33m:\u001b[0m\u001b[1;33m\u001b[0m\u001b[1;33m\u001b[0m\u001b[0m\n\u001b[1;32m---> 34\u001b[1;33m     \u001b[0mmain\u001b[0m\u001b[1;33m(\u001b[0m\u001b[1;33m)\u001b[0m\u001b[1;33m\u001b[0m\u001b[1;33m\u001b[0m\u001b[0m\n\u001b[0m",
      "\u001b[1;32m<ipython-input-57-503e5426cfb9>\u001b[0m in \u001b[0;36mmain\u001b[1;34m()\u001b[0m\n\u001b[0;32m     24\u001b[0m     \u001b[1;34m\"\"\"主函数\"\"\"\u001b[0m\u001b[1;33m\u001b[0m\u001b[1;33m\u001b[0m\u001b[0m\n\u001b[0;32m     25\u001b[0m     \u001b[0mhasher1\u001b[0m \u001b[1;33m=\u001b[0m \u001b[0mStreamHasher\u001b[0m\u001b[1;33m(\u001b[0m\u001b[1;33m)\u001b[0m\u001b[1;33m\u001b[0m\u001b[1;33m\u001b[0m\u001b[0m\n\u001b[1;32m---> 26\u001b[1;33m     \u001b[1;32mwith\u001b[0m \u001b[0mopen\u001b[0m\u001b[1;33m(\u001b[0m\u001b[1;34m'Python-3.7.1.tgz'\u001b[0m\u001b[1;33m,\u001b[0m \u001b[1;34m'rb'\u001b[0m\u001b[1;33m)\u001b[0m \u001b[1;32mas\u001b[0m \u001b[0mstream\u001b[0m\u001b[1;33m:\u001b[0m\u001b[1;33m\u001b[0m\u001b[1;33m\u001b[0m\u001b[0m\n\u001b[0m\u001b[0;32m     27\u001b[0m         \u001b[0mprint\u001b[0m\u001b[1;33m(\u001b[0m\u001b[0mhasher1\u001b[0m\u001b[1;33m.\u001b[0m\u001b[0mto_digest\u001b[0m\u001b[1;33m(\u001b[0m\u001b[0mstream\u001b[0m\u001b[1;33m)\u001b[0m\u001b[1;33m)\u001b[0m\u001b[1;33m\u001b[0m\u001b[1;33m\u001b[0m\u001b[0m\n\u001b[0;32m     28\u001b[0m     \u001b[0mhasher2\u001b[0m \u001b[1;33m=\u001b[0m \u001b[0mStreamHasher\u001b[0m\u001b[1;33m(\u001b[0m\u001b[1;34m'sha1'\u001b[0m\u001b[1;33m)\u001b[0m\u001b[1;33m\u001b[0m\u001b[1;33m\u001b[0m\u001b[0m\n",
      "\u001b[1;31mFileNotFoundError\u001b[0m: [Errno 2] No such file or directory: 'Python-3.7.1.tgz'"
     ]
    }
   ],
   "source": [
    "\"\"\"\n",
    "    例：可插拔的哈希算法\n",
    "\"\"\"\n",
    "\n",
    "class StreamHasher():\n",
    "    \"\"\"哈希摘要生成器（策略模式）\"\"\"\n",
    "    \n",
    "    def __init__(self, alg='md5', size=4096):\n",
    "        self.size = size\n",
    "        alg = alg.lower()\n",
    "        self.hasher = getattr(__import__('hashlib'), alg.lower())()\n",
    "        \n",
    "    def __call__(self, stream):\n",
    "        return self.to_digest(stream)\n",
    "    \n",
    "    def to_digest(self, stream):\n",
    "        \"\"\"生成十六进制形式的摘要\"\"\"\n",
    "        for buf in iter(lambda: stream.read(self.size), b''):\n",
    "            self.hasher.update(buf)\n",
    "        return self.hasher.hexdigest()\n",
    "    \n",
    "    \n",
    "def main():\n",
    "    \"\"\"主函数\"\"\"\n",
    "    hasher1 = StreamHasher()\n",
    "    with open('Python-3.7.1.tgz', 'rb') as stream:\n",
    "        print(hasher1.to_digest(stream))\n",
    "    hasher2 = StreamHasher('sha1')\n",
    "    with open('Python-3.7.1.tgz', 'rb') as stream:\n",
    "        print(hasher2(stream))\n",
    "        \n",
    "        \n",
    "if __name__ == '__main__':\n",
    "    main()"
   ]
  },
  {
   "cell_type": "markdown",
   "metadata": {},
   "source": [
    "- 迭代器和生成器\n",
    "    - 和迭代器相关的魔法函数(__iter__、__next__)\n",
    "    - 两种创建生成器方式(生成器表达式和yield关键字)"
   ]
  },
  {
   "cell_type": "code",
   "execution_count": 63,
   "metadata": {},
   "outputs": [
    {
     "name": "stdout",
     "output_type": "stream",
     "text": [
      "(1, 1)\n",
      "(1, 2)\n",
      "(2, 3)\n",
      "(3, 5)\n",
      "(5, 8)\n",
      "(8, 13)\n"
     ]
    }
   ],
   "source": [
    "def fib(num):\n",
    "    \"\"\"生成器\"\"\"\n",
    "    a, b = 0, 1\n",
    "    for _ in range(num):\n",
    "        a, b = b, a + b\n",
    "        yield a, b\n",
    "        \n",
    "for f in fib(6):\n",
    "    print(f)"
   ]
  },
  {
   "cell_type": "code",
   "execution_count": 3,
   "metadata": {},
   "outputs": [
    {
     "name": "stdout",
     "output_type": "stream",
     "text": [
      "1\n",
      "1\n",
      "2\n",
      "3\n",
      "5\n",
      "8\n"
     ]
    }
   ],
   "source": [
    "class Fib(object):\n",
    "    \"\"\"迭代器\"\"\"\n",
    "    \n",
    "    def __init__(self, num):\n",
    "        self.num = num\n",
    "        self.a, self.b = 0, 1\n",
    "        self.idx = 0\n",
    "        \n",
    "    def __iter__(self):\n",
    "        return self\n",
    "    \n",
    "    def __next__(self):\n",
    "        if self.idx < self.num:\n",
    "            self.a, self.b = self.b, self.a + self.b\n",
    "            self.idx += 1\n",
    "            return self.a\n",
    "        raise StopIteration()\n",
    "        \n",
    "for f in Fib(6):\n",
    "    print(f)"
   ]
  },
  {
   "cell_type": "code",
   "execution_count": null,
   "metadata": {},
   "outputs": [],
   "source": [
    "def fib():\n",
    "    a, b = 0, 1\n",
    "    while True:\n",
    "        a, b = b, a + b\n",
    "        yield a\n",
    "\n",
    "for f in fib():\n",
    "    if f < 8:\n",
    "        print(f)\n",
    "    else:\n",
    "        break"
   ]
  },
  {
   "cell_type": "code",
   "execution_count": 7,
   "metadata": {},
   "outputs": [
    {
     "name": "stdout",
     "output_type": "stream",
     "text": [
      "1\n",
      "1\n",
      "2\n",
      "3\n",
      "5\n",
      "8\n",
      "13\n"
     ]
    }
   ],
   "source": [
    "class Fib(object):\n",
    "    \"\"\"迭代器\"\"\"\n",
    "    \n",
    "    def __init__(self):\n",
    "        self.a, self.b = 0, 1\n",
    "        \n",
    "    def __iter__(self):\n",
    "        return self\n",
    "    \n",
    "    def __next__(self):   \n",
    "        self.a, self.b = self.b, self.a + self.b\n",
    "        return self.a\n",
    "        raise StopIteration()\n",
    "\n",
    "f = Fib()\n",
    "print(next(f))\n",
    "print(next(f))\n",
    "print(next(f))\n",
    "print(next(f))\n",
    "print(next(f))\n",
    "print(next(f))\n",
    "print(next(f))\n"
   ]
  },
  {
   "cell_type": "code",
   "execution_count": 7,
   "metadata": {},
   "outputs": [
    {
     "name": "stdout",
     "output_type": "stream",
     "text": [
      "res\\guido.jpg\n",
      "res\\guido\n",
      ".jpg\n",
      "guido\n",
      "res\\吉多.jpg\n",
      "res\\吉多\n",
      ".jpg\n",
      "吉多\n"
     ]
    }
   ],
   "source": [
    "import glob\n",
    "import os\n",
    "\n",
    "for infile in glob.glob('res/*.jpg'):\n",
    "    print(infile)\n",
    "    file, ext = os.path.splitext(infile)\n",
    "    print(file)\n",
    "    print(ext)\n",
    "    file = file[file.rfind('\\\\') + 1:]\n",
    "    print(file)"
   ]
  },
  {
   "cell_type": "code",
   "execution_count": 17,
   "metadata": {},
   "outputs": [
    {
     "name": "stdout",
     "output_type": "stream",
     "text": [
      "-1\n"
     ]
    }
   ],
   "source": [
    "a = 'bbaaaaabbbb'\n",
    "print(a.find('a', 7))"
   ]
  },
  {
   "cell_type": "code",
   "execution_count": null,
   "metadata": {},
   "outputs": [],
   "source": []
  },
  {
   "cell_type": "code",
   "execution_count": null,
   "metadata": {},
   "outputs": [],
   "source": []
  },
  {
   "cell_type": "code",
   "execution_count": null,
   "metadata": {},
   "outputs": [],
   "source": []
  },
  {
   "cell_type": "code",
   "execution_count": null,
   "metadata": {},
   "outputs": [],
   "source": []
  },
  {
   "cell_type": "code",
   "execution_count": null,
   "metadata": {},
   "outputs": [],
   "source": []
  },
  {
   "cell_type": "code",
   "execution_count": null,
   "metadata": {},
   "outputs": [],
   "source": []
  },
  {
   "cell_type": "code",
   "execution_count": null,
   "metadata": {},
   "outputs": [],
   "source": []
  },
  {
   "cell_type": "code",
   "execution_count": null,
   "metadata": {},
   "outputs": [],
   "source": []
  },
  {
   "cell_type": "code",
   "execution_count": null,
   "metadata": {},
   "outputs": [],
   "source": []
  },
  {
   "cell_type": "code",
   "execution_count": null,
   "metadata": {},
   "outputs": [],
   "source": []
  },
  {
   "cell_type": "code",
   "execution_count": null,
   "metadata": {},
   "outputs": [],
   "source": []
  },
  {
   "cell_type": "code",
   "execution_count": null,
   "metadata": {},
   "outputs": [],
   "source": []
  },
  {
   "cell_type": "code",
   "execution_count": null,
   "metadata": {},
   "outputs": [],
   "source": []
  },
  {
   "cell_type": "code",
   "execution_count": null,
   "metadata": {},
   "outputs": [],
   "source": []
  },
  {
   "cell_type": "code",
   "execution_count": null,
   "metadata": {},
   "outputs": [],
   "source": []
  },
  {
   "cell_type": "code",
   "execution_count": null,
   "metadata": {},
   "outputs": [],
   "source": []
  },
  {
   "cell_type": "code",
   "execution_count": null,
   "metadata": {},
   "outputs": [],
   "source": []
  },
  {
   "cell_type": "code",
   "execution_count": null,
   "metadata": {},
   "outputs": [],
   "source": []
  },
  {
   "cell_type": "code",
   "execution_count": null,
   "metadata": {},
   "outputs": [],
   "source": []
  },
  {
   "cell_type": "code",
   "execution_count": null,
   "metadata": {},
   "outputs": [],
   "source": []
  }
 ],
 "metadata": {
  "kernelspec": {
   "display_name": "Python [conda env:py100d37]",
   "language": "python",
   "name": "conda-env-py100d37-py"
  },
  "language_info": {
   "codemirror_mode": {
    "name": "ipython",
    "version": 3
   },
   "file_extension": ".py",
   "mimetype": "text/x-python",
   "name": "python",
   "nbconvert_exporter": "python",
   "pygments_lexer": "ipython3",
   "version": "3.7.5"
  }
 },
 "nbformat": 4,
 "nbformat_minor": 2
}
