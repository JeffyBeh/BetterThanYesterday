{
 "cells": [
  {
   "cell_type": "code",
   "execution_count": 2,
   "metadata": {},
   "outputs": [],
   "source": [
    "from PIL import Image\n",
    "'''\n",
    "    \n",
    "'''\n",
    "image = Image.open('./res/guido.jpg')\n",
    "image.format, image.mode = ('JPEG', 'RGB')\n",
    "image.show()"
   ]
  },
  {
   "cell_type": "code",
   "execution_count": 11,
   "metadata": {},
   "outputs": [],
   "source": [
    "from PIL import Image\n",
    "'''\n",
    "    裁剪\n",
    "    新建对象\n",
    "'''\n",
    "image = Image.open('./res/guido.jpg')\n",
    "rect = 80, 20, 310, 360\n",
    "# x, y, xheight, yheight\n",
    "image.crop(rect).show()"
   ]
  },
  {
   "cell_type": "code",
   "execution_count": 12,
   "metadata": {},
   "outputs": [],
   "source": [
    "from PIL import Image\n",
    "'''\n",
    "    生成缩略图\n",
    "    原对象\n",
    "'''\n",
    "image = Image.open('./res/guido.jpg')\n",
    "size = 128, 128\n",
    "image.thumbnail(size)\n",
    "image.show()"
   ]
  },
  {
   "cell_type": "code",
   "execution_count": 38,
   "metadata": {},
   "outputs": [],
   "source": [
    "from PIL import Image\n",
    "'''\n",
    "    缩放和粘贴\n",
    "'''\n",
    "image1 = Image.open('./res/guido.jpg')\n",
    "image2 = Image.open('./res/guido.jpg')\n",
    "rect = 80, 20, 310, 360\n",
    "guido_head = image2.crop(rect)\n",
    "width, height = guido_head.size\n",
    "image1.paste(guido_head, (80, 20))\n",
    "image1.show()"
   ]
  },
  {
   "cell_type": "code",
   "execution_count": null,
   "metadata": {},
   "outputs": [],
   "source": []
  },
  {
   "cell_type": "code",
   "execution_count": null,
   "metadata": {},
   "outputs": [],
   "source": []
  },
  {
   "cell_type": "code",
   "execution_count": null,
   "metadata": {},
   "outputs": [],
   "source": []
  },
  {
   "cell_type": "code",
   "execution_count": null,
   "metadata": {},
   "outputs": [],
   "source": []
  },
  {
   "cell_type": "code",
   "execution_count": null,
   "metadata": {},
   "outputs": [],
   "source": []
  }
 ],
 "metadata": {
  "kernelspec": {
   "display_name": "Python [conda env:py100d37]",
   "language": "python",
   "name": "conda-env-py100d37-py"
  },
  "language_info": {
   "codemirror_mode": {
    "name": "ipython",
    "version": 3
   },
   "file_extension": ".py",
   "mimetype": "text/x-python",
   "name": "python",
   "nbconvert_exporter": "python",
   "pygments_lexer": "ipython3",
   "version": "3.7.5"
  }
 },
 "nbformat": 4,
 "nbformat_minor": 2
}
