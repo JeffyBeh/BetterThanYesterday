{
 "cells": [
  {
   "cell_type": "code",
   "execution_count": 3,
   "metadata": {},
   "outputs": [
    {
     "name": "stdout",
     "output_type": "stream",
     "text": [
      "{'APPL': 191.88, 'GOOG': 1185.96, 'IBM': 149.34, 'ORCL': 166.89, 'ACN': 208.09}\n"
     ]
    }
   ],
   "source": [
    "\"\"\"\n",
    "    生成式（推导式）语法\n",
    "    可用用来生成列表、集合和字典\n",
    "\"\"\"\n",
    "prices = {\n",
    "    'APPL': 191.88,\n",
    "    'GOOG': 1185.96,\n",
    "    'IBM': 149.34,\n",
    "    'ORCL': 166.89,\n",
    "    'ACN': 208.09,\n",
    "    'FB': 48.44,\n",
    "    'SYMC': 21.29\n",
    "}\n",
    "prices2 = {key: value for key, value in prices.items() if value > 100}\n",
    "print(prices2)"
   ]
  },
  {
   "cell_type": "code",
   "execution_count": 9,
   "metadata": {},
   "outputs": [
    {
     "name": "stdout",
     "output_type": "stream",
     "text": [
      "[[None, 10, 30], [None, 10, 30], [None, 10, 30], [None, 10, 30], [None, 10, 30]]\n",
      "[[None, None, None], [None, 10, None], [None, None, None], [None, None, None], [None, None, None]]\n"
     ]
    }
   ],
   "source": [
    "\"\"\"\n",
    "    嵌套的列表（二维数组）\n",
    "\"\"\"\n",
    "\n",
    "names = ['GuanYu', 'ZhangFei', 'ZhaoYun', 'MaChao', 'HuangZhong']\n",
    "cources = ['Chinese', 'Math', 'English']\n",
    "# 录入五名学生的3门成绩\n",
    "# - 错误\n",
    "scores = [[None] * len(cources)] * len(names)\n",
    "# - 正确\n",
    "scores_1 = [[None] * len(cources) for _ in range(len(names))]\n",
    "scores[1][1] = 10\n",
    "scores[3][2] = 30\n",
    "print(scores)\n",
    "scores_1[1][1] = 10\n",
    "print(scores_1)"
   ]
  },
  {
   "cell_type": "code",
   "execution_count": 12,
   "metadata": {},
   "outputs": [
    {
     "ename": "NameError",
     "evalue": "name 'name' is not defined",
     "output_type": "error",
     "traceback": [
      "\u001b[1;31m---------------------------------------------------------------------------\u001b[0m",
      "\u001b[1;31mNameError\u001b[0m                                 Traceback (most recent call last)",
      "\u001b[1;32m<ipython-input-12-7abc3841c589>\u001b[0m in \u001b[0;36m<module>\u001b[1;34m\u001b[0m\n\u001b[0;32m      2\u001b[0m \u001b[0mcources\u001b[0m \u001b[1;33m=\u001b[0m \u001b[1;33m[\u001b[0m\u001b[1;34m'Chinese'\u001b[0m\u001b[1;33m,\u001b[0m \u001b[1;34m'Math'\u001b[0m\u001b[1;33m,\u001b[0m \u001b[1;34m'English'\u001b[0m\u001b[1;33m]\u001b[0m\u001b[1;33m\u001b[0m\u001b[1;33m\u001b[0m\u001b[0m\n\u001b[0;32m      3\u001b[0m \u001b[1;33m\u001b[0m\u001b[0m\n\u001b[1;32m----> 4\u001b[1;33m \u001b[0mscores\u001b[0m \u001b[1;33m=\u001b[0m \u001b[1;33m[\u001b[0m\u001b[1;33m[\u001b[0m\u001b[1;32mNone\u001b[0m\u001b[1;33m]\u001b[0m \u001b[1;33m*\u001b[0m \u001b[0mlen\u001b[0m\u001b[1;33m(\u001b[0m\u001b[0mcources\u001b[0m\u001b[1;33m)\u001b[0m \u001b[1;32mfor\u001b[0m \u001b[0m_\u001b[0m \u001b[1;32min\u001b[0m \u001b[0mrange\u001b[0m\u001b[1;33m(\u001b[0m\u001b[0mlen\u001b[0m\u001b[1;33m(\u001b[0m\u001b[0mname\u001b[0m\u001b[1;33m)\u001b[0m\u001b[1;33m)\u001b[0m\u001b[1;33m]\u001b[0m\u001b[1;33m\u001b[0m\u001b[1;33m\u001b[0m\u001b[0m\n\u001b[0m\u001b[0;32m      5\u001b[0m \u001b[0mprint\u001b[0m\u001b[1;33m(\u001b[0m\u001b[0mscores\u001b[0m\u001b[1;33m)\u001b[0m\u001b[1;33m\u001b[0m\u001b[1;33m\u001b[0m\u001b[0m\n",
      "\u001b[1;31mNameError\u001b[0m: name 'name' is not defined"
     ]
    }
   ],
   "source": [
    "names = ['GuanYu', 'ZhangFei', 'ZhaoYun', 'MaChao', 'HuangZhong']\n",
    "cources = ['Chinese', 'Math', 'English']\n",
    "\n",
    "scores = [[None] * len(cources) for _ in range(len(name))]\n",
    "print(scores)"
   ]
  },
  {
   "cell_type": "code",
   "execution_count": null,
   "metadata": {},
   "outputs": [],
   "source": []
  },
  {
   "cell_type": "code",
   "execution_count": null,
   "metadata": {},
   "outputs": [],
   "source": []
  },
  {
   "cell_type": "code",
   "execution_count": null,
   "metadata": {},
   "outputs": [],
   "source": []
  },
  {
   "cell_type": "code",
   "execution_count": null,
   "metadata": {},
   "outputs": [],
   "source": []
  },
  {
   "cell_type": "code",
   "execution_count": null,
   "metadata": {},
   "outputs": [],
   "source": []
  },
  {
   "cell_type": "code",
   "execution_count": null,
   "metadata": {},
   "outputs": [],
   "source": []
  },
  {
   "cell_type": "code",
   "execution_count": null,
   "metadata": {},
   "outputs": [],
   "source": []
  },
  {
   "cell_type": "code",
   "execution_count": null,
   "metadata": {},
   "outputs": [],
   "source": []
  }
 ],
 "metadata": {
  "kernelspec": {
   "display_name": "Python [conda env:py100d37]",
   "language": "python",
   "name": "conda-env-py100d37-py"
  },
  "language_info": {
   "codemirror_mode": {
    "name": "ipython",
    "version": 3
   },
   "file_extension": ".py",
   "mimetype": "text/x-python",
   "name": "python",
   "nbconvert_exporter": "python",
   "pygments_lexer": "ipython3",
   "version": "3.7.5"
  }
 },
 "nbformat": 4,
 "nbformat_minor": 2
}
