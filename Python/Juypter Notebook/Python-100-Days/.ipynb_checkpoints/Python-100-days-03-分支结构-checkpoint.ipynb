{
 "cells": [
  {
   "cell_type": "code",
   "execution_count": 4,
   "metadata": {},
   "outputs": [
    {
     "name": "stdout",
     "output_type": "stream",
     "text": [
      "Please input user_name:\n",
      "\n",
      "Please input pssword:\n",
      "\n",
      "FAILED!\n"
     ]
    }
   ],
   "source": [
    "'''\n",
    "    身份验证\n",
    "'''\n",
    "\n",
    "user_name = input('Please input user_name:\\n')\n",
    "password = input('Please input pssword:\\n')\n",
    "\n",
    "if user_name == 'admin' and password == 'password':\n",
    "    print('SUCCESS!')\n",
    "else:\n",
    "    print('FAILED!')\n"
   ]
  },
  {
   "cell_type": "markdown",
   "metadata": {},
   "source": [
    "$$f(x)=\\begin{cases} 3x-5&\\text{(x>1)}\\\\x+2&\\text{(-1}\\leq\\text{x}\\leq\\text{1)}\\\\5x+3&\\text{(x<-1)}\\end{cases}$$"
   ]
  },
  {
   "cell_type": "code",
   "execution_count": 7,
   "metadata": {},
   "outputs": [
    {
     "name": "stdout",
     "output_type": "stream",
     "text": [
      "x =1\n",
      "f(1.00) = 3.00\n"
     ]
    }
   ],
   "source": [
    "'''\n",
    "    分段函数求值\n",
    "     3x-5 (x>1)\n",
    "fx = x+2 (-1 <= x <= 1)\n",
    "     5x+3 (x<-1)\n",
    "'''\n",
    "\n",
    "x = float(input('x ='))\n",
    "\n",
    "if x > 1 :\n",
    "    y = 3 * x - 5\n",
    "elif x >= -1 and x <= 1 :\n",
    "    y = x + 2\n",
    "elif x < -1 :\n",
    "    y = 5 * x + 3\n",
    "    \n",
    "print('f(%.2f) = %.2f' % (x, y))"
   ]
  },
  {
   "cell_type": "markdown",
   "metadata": {},
   "source": [
    "### 练习\n",
    "#### 练习1：英制单位英寸与公制单位厘米互换\n",
    "> 1in = 2.54cm"
   ]
  },
  {
   "cell_type": "code",
   "execution_count": 14,
   "metadata": {},
   "outputs": [
    {
     "name": "stdout",
     "output_type": "stream",
     "text": [
      "Please input value: 2.54\n",
      "Please input unit: 厘米\n",
      "2.54厘米 = 1.00英寸\n"
     ]
    }
   ],
   "source": [
    "'''\n",
    "    英制单位英寸与公制单位厘米互换\n",
    "'''\n",
    "value = float(input(\"Please input value: \"))\n",
    "unit = input(\"Please input unit: \")\n",
    "\n",
    "if unit == '英寸' :\n",
    "    print('%.2f英寸 = %.2f厘米' % (value, value * 2.54))\n",
    "elif unit == '厘米' :\n",
    "    print('%.2f厘米 = %.2f英寸' % (value, value / 2.54))\n",
    "else :\n",
    "    print('ERROR!')"
   ]
  },
  {
   "cell_type": "markdown",
   "metadata": {},
   "source": [
    "#### 练习2：百分制转化为等级制成绩\n",
    ">要求：如果输入的成绩在90分以上（含90分）输出A；80分-90分（不含90分）输出B；70分-80分（不含80分）输出C；60分-70分（不含70分）输出D；60分以下输出E。"
   ]
  },
  {
   "cell_type": "code",
   "execution_count": 16,
   "metadata": {},
   "outputs": [
    {
     "name": "stdout",
     "output_type": "stream",
     "text": [
      "Please input score: 45\n",
      "You got Class E\n"
     ]
    }
   ],
   "source": [
    "'''\n",
    "    百分制转化为等级制成绩\n",
    "'''\n",
    "\n",
    "score = float(input('Please input score: '))\n",
    "\n",
    "if score >= 90:\n",
    "    grade = 'A'\n",
    "elif score >= 80:\n",
    "    grade = 'B'\n",
    "elif score >= 70:\n",
    "    grade = 'C'\n",
    "elif score >= 60:\n",
    "    grade = 'D'\n",
    "else:\n",
    "    grade = 'E'\n",
    "    \n",
    "print('You got Class', grade)"
   ]
  },
  {
   "cell_type": "markdown",
   "metadata": {},
   "source": [
    "#### 练习3：根据3边长度求三角形周长和面积"
   ]
  },
  {
   "cell_type": "code",
   "execution_count": 25,
   "metadata": {},
   "outputs": [
    {
     "name": "stdout",
     "output_type": "stream",
     "text": [
      "a =3\n",
      "b =4\n",
      "c =5\n",
      "primeter: 12.00\n",
      "area: 6.00\n"
     ]
    }
   ],
   "source": [
    "'''\n",
    "    根据3边长度求三角形的周长和面积\n",
    "'''\n",
    "\n",
    "a = float(input('a ='))\n",
    "b = float(input('b ='))\n",
    "c = float(input('c ='))\n",
    "\n",
    "if a + b > c and b + c > a and a + c > b:\n",
    "    primeter = a + b + c\n",
    "    p = (a + b + c) / 2\n",
    "    area = (p * (p - a) * (p - b) * (p - c)) ** 0.5\n",
    "else:\n",
    "    print('It is not a triangle!')\n",
    "print('primeter: %.2f' % primeter)\n",
    "print('area: %.2f' % area)"
   ]
  },
  {
   "cell_type": "code",
   "execution_count": null,
   "metadata": {},
   "outputs": [],
   "source": []
  }
 ],
 "metadata": {
  "kernelspec": {
   "display_name": "Python 3",
   "language": "python",
   "name": "python3"
  },
  "language_info": {
   "codemirror_mode": {
    "name": "ipython",
    "version": 3
   },
   "file_extension": ".py",
   "mimetype": "text/x-python",
   "name": "python",
   "nbconvert_exporter": "python",
   "pygments_lexer": "ipython3",
   "version": "3.7.1"
  }
 },
 "nbformat": 4,
 "nbformat_minor": 2
}
