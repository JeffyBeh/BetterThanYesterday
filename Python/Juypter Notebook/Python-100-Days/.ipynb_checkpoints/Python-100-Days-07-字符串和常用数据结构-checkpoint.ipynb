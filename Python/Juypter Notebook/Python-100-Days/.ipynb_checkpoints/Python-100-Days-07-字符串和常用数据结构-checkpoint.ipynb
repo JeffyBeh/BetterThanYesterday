{
 "cells": [
  {
   "cell_type": "code",
   "execution_count": 1,
   "metadata": {},
   "outputs": [
    {
     "name": "stdout",
     "output_type": "stream",
     "text": [
      "Hello World Hello World \n",
      "Hello\n",
      "World!\n",
      " "
     ]
    }
   ],
   "source": [
    "s1 = 'Hello World'\n",
    "s2 = \"Hello World\"\n",
    "# 多行使用三个引号\n",
    "s3 = '''\n",
    "Hello\n",
    "World!\n",
    "'''\n",
    "print(s1, s2, s3, end = ' ')"
   ]
  },
  {
   "cell_type": "code",
   "execution_count": 2,
   "metadata": {},
   "outputs": [
    {
     "name": "stdout",
     "output_type": "stream",
     "text": [
      "'Hello World' \n",
      " Hello World\n",
      "  "
     ]
    }
   ],
   "source": [
    "# \\ 转义字符\n",
    "s1 = '\\'Hello World\\''\n",
    "s2 = '\\n Hello World\\n'\n",
    "\n",
    "print(s1, s2, end = '  ')"
   ]
  },
  {
   "cell_type": "code",
   "execution_count": 6,
   "metadata": {},
   "outputs": [
    {
     "name": "stdout",
     "output_type": "stream",
     "text": [
      "abcde\n",
      "毕剑锋\n"
     ]
    }
   ],
   "source": [
    "# \\ 后可以使用八进制/十六进制/Unicode字符编码表示字符\n",
    "s1 = '\\141\\142\\143\\x64\\x65'\n",
    "s2 = '\\u6bd5\\u5251\\u950b'\n",
    "\n",
    "print(s1)\n",
    "print(s2)"
   ]
  },
  {
   "cell_type": "code",
   "execution_count": 7,
   "metadata": {},
   "outputs": [
    {
     "name": "stdout",
     "output_type": "stream",
     "text": [
      "\\n\\\\Hello World\\n\\\\\n"
     ]
    }
   ],
   "source": [
    "# 在字符串最前面加入 r 表示不使用转义\n",
    "s1 = r'\\n\\\\Hello World\\n\\\\'\n",
    "print(s1)"
   ]
  },
  {
   "cell_type": "markdown",
   "metadata": {},
   "source": [
    "`+`运算符来实现字符串的拼接  \n",
    "`*`运算符来重复一个字符串的内容  \n",
    "`in`和`not in`来判断一个字符串是否包含另外一个字符串（成员运算）  \n",
    "`[]`和`[:]`运算符从字符串取出某个字符或某些字符（切片运算）"
   ]
  },
  {
   "cell_type": "code",
   "execution_count": 10,
   "metadata": {},
   "outputs": [
    {
     "name": "stdout",
     "output_type": "stream",
     "text": [
      "字符串拼接 hellohellohello\n",
      "helloworld\n",
      "True\n",
      "False\n",
      "c\n",
      "cd1\n",
      "cd123456\n",
      "abcd1\n",
      "c135\n",
      "ac135\n",
      "654321dcba\n",
      "45\n"
     ]
    }
   ],
   "source": [
    "# * 重复n次字符串内容\n",
    "s1 = 'hello'\n",
    "print('字符串重复' ,  s1 * 3)\n",
    "\n",
    "# + 拼接字符串\n",
    "s2 = 'world'\n",
    "print(s1 + s2)\n",
    "\n",
    "# in / not in 判断包含\n",
    "print('ll' in s1)\n",
    "print('ll' not in s1)\n",
    "\n",
    "#[]/[:] 切片操作\n",
    "#[start:end:step]\n",
    "str1 = 'abcd123456'\n",
    "print(str1[2])\n",
    "print(str1[2:5])\n",
    "print(str1[2:])\n",
    "print(str1[:5])\n",
    "print(str1[2::2])\n",
    "print(str1[::2])\n",
    "print(str1[::-1])\n",
    "print(str1[-3:-1])\n",
    "\n"
   ]
  },
  {
   "cell_type": "code",
   "execution_count": 21,
   "metadata": {},
   "outputs": [
    {
     "name": "stdout",
     "output_type": "stream",
     "text": [
      "11\n",
      "Hello world\n",
      "Hello World\n",
      "HELLO WORLD\n",
      "7\n",
      "-1\n",
      "7\n",
      "False\n",
      "True\n",
      "False\n",
      "True\n",
      "*******************hello world********************\n",
      "***************************************hello world\n",
      "False\n",
      "False\n",
      "True\n",
      "  jackMa@123.com   \n",
      "jackMa@123.com\n"
     ]
    }
   ],
   "source": [
    "''' 字符串内置函数 '''\n",
    "s = 'hello world'\n",
    "\n",
    "# len获取字符串长度\n",
    "print(len(s))\n",
    "\n",
    "# 获得首字母大写的拷贝\n",
    "print(s.capitalize())\n",
    "\n",
    "# 获取每个单词首字母大写的拷贝\n",
    "print(s.title())\n",
    "\n",
    "# 获取所有字母大写的拷贝\n",
    "print(s.upper())\n",
    "\n",
    "# 获取子字符串所在的位置\n",
    "print(s.find('or'))\n",
    "print(s.find('shit'))\n",
    "\n",
    "# 与find类似，但找不到子字符串会抛出异常\n",
    "print(s.index('or'))\n",
    "#print(s.index('shit'))\n",
    "\n",
    "# 检查字符串是否以某字符串开头\n",
    "print(s.startswith('Hel'))\n",
    "print(s.startswith('hell'))\n",
    "\n",
    "# 检查字符串是否以某字符串结尾\n",
    "print(s.endswith('Ld'))\n",
    "print(s.endswith('ld'))\n",
    "\n",
    "# 将字符串以指定宽度居中，并在两侧填充指定字符\n",
    "print(s.center(50, '*'))\n",
    "\n",
    "# 将字符串以指定宽度靠右，并在左侧填充指定字符\n",
    "print(s.rjust(50, '*'))\n",
    "\n",
    "ss = 'abc12345'\n",
    "# 检查字符串是否由数字构成\n",
    "print(ss.isdigit())\n",
    "\n",
    "# 检查字符串是否由字母构成\n",
    "print(ss.isalpha())\n",
    "\n",
    "# 检查字符串是否由数字和字母构成\n",
    "print(ss.isalnum())\n",
    "\n",
    "sss = '  jackMa@123.com   '\n",
    "print(sss)\n",
    "# 获取字符串去除两侧空格后的拷贝\n",
    "print(sss.strip())"
   ]
  },
  {
   "cell_type": "code",
   "execution_count": 25,
   "metadata": {},
   "outputs": [
    {
     "name": "stdout",
     "output_type": "stream",
     "text": [
      "5 * 10 = 50\n",
      "5 * 10 = 50\n",
      "5 * 10 = 50\n"
     ]
    }
   ],
   "source": [
    "''' 格式化输出字符串 '''\n",
    "\n",
    "a, b = 5, 10\n",
    "# 方法一\n",
    "print(\"%d * %d = %d\" % (a, b, a * b))\n",
    "# 方法二\n",
    "print('{0} * {1} = {2}'.format(a, b, a * b))\n",
    "# 方法三: 3.6+\n",
    "print(f'{a} * {b} = {a * b}')"
   ]
  },
  {
   "cell_type": "markdown",
   "metadata": {},
   "source": [
    "### 列表"
   ]
  },
  {
   "cell_type": "code",
   "execution_count": 40,
   "metadata": {},
   "outputs": [
    {
     "name": "stdout",
     "output_type": "stream",
     "text": [
      "[1, 2, 3]\n",
      "['hello', 'world', 'hello', 'world', 'hello', 'world']\n",
      "6\n",
      "1\n",
      "5\n",
      "[0, 1, 2, 3, 4, 55]\n",
      "0 1 2 3 4 55 \n",
      "0 1 2 3 4 55 \n",
      "0 0   1 1   2 2   3 3   4 4   5 55   "
     ]
    }
   ],
   "source": [
    "''' \n",
    "    列表相关操作\n",
    "        1. 取值和遍历\n",
    "'''\n",
    "list1 = [1, 2, 3]\n",
    "print(list1)\n",
    "\n",
    "# * 表示列表元素重复\n",
    "list2 = ['hello', 'world'] * 3\n",
    "print(list2)\n",
    "\n",
    "# 计算列表长度（元素个数）\n",
    "print(len(list2))\n",
    "\n",
    "list3 = [0, 1, 2, 3, 4, 5]\n",
    "# 下标索引操作\n",
    "# 0为第一个 -1为最后一个\n",
    "print(list3[1])\n",
    "print(list3[-1])\n",
    "\n",
    "list3[5] = 55\n",
    "print(list3)\n",
    "\n",
    "# 通过循环下标遍历\n",
    "for index in range(len(list3)):\n",
    "    print(list3[index], end = ' ')\n",
    "    \n",
    "# for-each循环遍历\n",
    "print()\n",
    "for elem in list3:\n",
    "    print(elem, end = \" \")\n",
    "    \n",
    "# 通过enumerate函数处理列表获取key-value\n",
    "print()\n",
    "for index, elem in enumerate(list3):\n",
    "    print(index, elem, end = '   ')"
   ]
  },
  {
   "cell_type": "code",
   "execution_count": 51,
   "metadata": {},
   "outputs": [
    {
     "name": "stdout",
     "output_type": "stream",
     "text": [
      "[1, 3, 5, 7, 100, 200]\n",
      "[1, 22, 3, 5, 7, 100, 200]\n",
      "[1, 22, 3, 5, 7, 100, 200, 300, 500]\n",
      "[1, 22, 5, 7, 100, 200, 300, 500]\n",
      "[1, 22, 5, 7, 200, 300, 500]\n",
      "[1, 22, 5, 7, 200, 300]\n",
      "[1, 22, 5, 7, 200]\n",
      "[]\n"
     ]
    }
   ],
   "source": [
    "''' \n",
    "    列表相关操作\n",
    "        2. 增加和删除元素\n",
    "'''\n",
    "\n",
    "list1 = [1, 3, 5, 7, 100]\n",
    "\n",
    "# 末尾增加元素\n",
    "list1.append(200)\n",
    "print(list1)\n",
    "\n",
    "# 指定位置插入元素\n",
    "list1.insert(1, 22)\n",
    "print(list1)\n",
    "\n",
    "# 合并列表\n",
    "list1 += [300, 500]\n",
    "print(list1)\n",
    "\n",
    "# 通过成员运算符判断元素是否在列表中，如果在则删除\n",
    "if 3 in list1:\n",
    "    list1.remove(3)\n",
    "if 1234 in list1:\n",
    "    list1.remove(1234)\n",
    "print(list1)\n",
    "\n",
    "# 通过指定位置删除某元素\n",
    "list1.pop(4)\n",
    "print(list1)\n",
    "\n",
    "# 删除最后一个元素\n",
    "list1.pop()\n",
    "print(list1)\n",
    "list1.pop(len(list1)-1)\n",
    "print(list1)\n",
    "\n",
    "# 清空列表\n",
    "list1.clear()\n",
    "print(list1)"
   ]
  },
  {
   "cell_type": "code",
   "execution_count": 60,
   "metadata": {},
   "outputs": [
    {
     "name": "stdout",
     "output_type": "stream",
     "text": [
      "['strawberry', 'waxberry']\n",
      "['grape', 'apple', 'strawberry', 'waxberry', 'pitaya', 'pear', 'mango']\n",
      "['pitaya', 'pear']\n",
      "[]\n",
      "['mango', 'pear', 'pitaya', 'waxberry', 'strawberry', 'apple', 'grape']\n",
      "['pitaya', 'waxberry']\n"
     ]
    }
   ],
   "source": [
    "''' \n",
    "    列表相关操作\n",
    "        3. 切片 [start:end:step]\n",
    "'''\n",
    "\n",
    "fruits = ['grape', 'apple', 'strawberry', 'waxberry']\n",
    "fruits += ['pitaya', 'pear', 'mango']\n",
    "\n",
    "# 列表切片\n",
    "fruit1 = fruits[2:4]\n",
    "print(fruit1)\n",
    "\n",
    "# 通过完整切片获取列表\n",
    "fruit2 = fruits[:]\n",
    "print(fruit2)\n",
    "\n",
    "# 获取列表内容\n",
    "fruit3 = fruits[-3 : -1]\n",
    "print(fruit3)\n",
    "fruit4 = fruits[-3 : -5]\n",
    "print(fruit4)\n",
    "\n",
    "# 反向切片获取倒转后的列表的拷贝\n",
    "fruit5 = fruits[::-1]\n",
    "print(fruit5)\n",
    "fruit6 = fruits[-3 : -5 : -1]\n",
    "print(fruit6)"
   ]
  },
  {
   "cell_type": "code",
   "execution_count": 66,
   "metadata": {},
   "outputs": [
    {
     "name": "stdout",
     "output_type": "stream",
     "text": [
      "['orange', 'apple', 'zoo', 'internationalization', 'blueberry']\n",
      "['apple', 'blueberry', 'internationalization', 'orange', 'zoo']\n",
      "['zoo', 'orange', 'internationalization', 'blueberry', 'apple']\n",
      "['zoo', 'apple', 'orange', 'blueberry', 'internationalization']\n",
      "['zoo', 'orange', 'internationalization', 'blueberry', 'apple']\n"
     ]
    }
   ],
   "source": [
    "''' \n",
    "    列表相关操作\n",
    "        3. 排序\n",
    "'''\n",
    "\n",
    "list1 = ['orange', 'apple', 'zoo', 'internationalization', 'blueberry']\n",
    "list2 = sorted(list1)\n",
    "## sorted函数返回列表排序后的拷贝不会修改传入的列表\n",
    "# 函数的设计就应该像sorted函数一样尽可能不产生副作用\n",
    "print(list1)\n",
    "print(list2)\n",
    "\n",
    "# 逆序排序\n",
    "list3 = sorted(list1, reverse=True)\n",
    "print(list3)\n",
    "\n",
    "# 通过key关键字参数指定根据字符串长度排序而不是默认的字母表排序\n",
    "list4 = sorted(list1, key=len)\n",
    "print(list4)\n",
    "\n",
    "# 给列表对象发出排序信息直接在列表对象上进行排序\n",
    "list1.sort(reverse=True)\n",
    "print(list1)"
   ]
  },
  {
   "cell_type": "markdown",
   "metadata": {},
   "source": [
    "### 生成式和生成器"
   ]
  },
  {
   "cell_type": "code",
   "execution_count": 76,
   "metadata": {},
   "outputs": [
    {
     "name": "stdout",
     "output_type": "stream",
     "text": [
      "[1, 2, 3, 4, 5, 6, 7, 8, 9]\n",
      "['A1', 'A2', 'A3', 'A4', 'A5', 'A6', 'A7', 'B1', 'B2', 'B3', 'B4', 'B5', 'B6', 'B7', 'C1', 'C2', 'C3', 'C4', 'C5', 'C6', 'C7', 'D1', 'D2', 'D3', 'D4', 'D5', 'D6', 'D7', 'E1', 'E2', 'E3', 'E4', 'E5', 'E6', 'E7']\n",
      "[1, 4, 9, 16]\n",
      "96\n",
      "<generator object <genexpr> at 0x0000017EF4174A20>\n",
      "1 4 9 16 "
     ]
    }
   ],
   "source": [
    "'''\n",
    "    利用列表的生成式语法创建生成式\n",
    "'''\n",
    "import sys\n",
    "\n",
    "f = [x for x in range(1, 10)]\n",
    "print(f)\n",
    "\n",
    "f = [x + y for x in 'ABCDE' for y in '1234567']\n",
    "print(f)\n",
    "\n",
    "# 用列表的生成表达式语法创建列表容器\n",
    "# 用这种语法创建列表之后元素已经准备就绪，所以需要消耗较多的内存空间\n",
    "f = [x ** 2 for x in range(1, 5)]\n",
    "print(f)\n",
    "# 查看对象占用内存的字节数\n",
    "print(sys.getsizeof(f))\n",
    "\n",
    "# 下面代码创建的不是一个列表而是一个生成器对象\n",
    "# 通过生成器可以获取到数据但它不占用额外的空间存储数据\n",
    "# 每次需要数据的时候就通过内部的运算得到数据(需要花费额外的时间)\n",
    "f = (x ** 2 for x in range(1, 5)) # 相比生成式，生成器不占用存储数据的空间\n",
    "print(f)\n",
    "for val in f:\n",
    "    print(val, end=\" \")"
   ]
  },
  {
   "cell_type": "code",
   "execution_count": 82,
   "metadata": {},
   "outputs": [
    {
     "name": "stdout",
     "output_type": "stream",
     "text": [
      "1 1 2 3 5 8 13 21 34 55 89 144 "
     ]
    }
   ],
   "source": [
    "'''\n",
    "    通过yeild关键字将一个普通函数改造成生成器函数\n",
    "'''\n",
    "\n",
    "def fib(n):\n",
    "    a, b = 0, 1\n",
    "    for _ in range(n):\n",
    "        a, b = b, a+b\n",
    "        yield a\n",
    "    \n",
    "    \n",
    "def main():\n",
    "    for val in fib(12):\n",
    "        print(val, end = ' ')\n",
    "        \n",
    "        \n",
    "if __name__ == '__main__':\n",
    "    main()\n",
    "        "
   ]
  },
  {
   "cell_type": "markdown",
   "metadata": {},
   "source": [
    "### 元组"
   ]
  },
  {
   "cell_type": "code",
   "execution_count": 4,
   "metadata": {},
   "outputs": [
    {
     "name": "stdout",
     "output_type": "stream",
     "text": [
      "小xx\n",
      "四川成都\n",
      "小xx 12 True 四川成都 \n",
      "('王二', 22)\n",
      "['1', '2']\n",
      "['李云龙', '2']\n",
      "['apple', 'orage', 'banana']\n",
      "('apple', 'orage', 'banana')\n"
     ]
    }
   ],
   "source": [
    "'''\n",
    "    与列表相似\n",
    "    元组中的元素定义后不能变更\n",
    "'''\n",
    "\n",
    "# 定义元组\n",
    "t = ('小xx', 12, True, '四川成都')\n",
    "\n",
    "# 获取元组中的元素\n",
    "print(t[0])\n",
    "print(t[3])\n",
    "\n",
    "# 遍历元组\n",
    "for member in t:\n",
    "    print(member, end = ' ')\n",
    "print()\n",
    "# 重新赋值 -- 报错\n",
    "#t[0] = '王二'\n",
    "\n",
    "# 变量t引用新的元组后，原来的元组将被回收\n",
    "t = ('王二', 22)\n",
    "print(t)\n",
    "\n",
    "# 将元组转换为列表\n",
    "person = list(\"12\")\n",
    "print(person)\n",
    "\n",
    "# 列表元素变更\n",
    "person[0] = '李云龙'\n",
    "print(person)\n",
    "\n",
    "fruits_list = ['apple', 'orage', 'banana']\n",
    "fruits_tuple = tuple(fruits_list)\n",
    "print(fruits_list)\n",
    "print(fruits_tuple)"
   ]
  },
  {
   "cell_type": "markdown",
   "metadata": {},
   "source": [
    "### 集合"
   ]
  },
  {
   "cell_type": "code",
   "execution_count": 59,
   "metadata": {},
   "outputs": [
    {
     "name": "stdout",
     "output_type": "stream",
     "text": [
      "{1, 2, 3}\n",
      "Length =  3\n",
      "{1, 2, 3, 4, 5, 6, 7, 8, 9}\n",
      "{1, 2, 3}\n",
      "{9, 3, 5, 6}\n",
      "{1, 2, 3, 4, 5}\n",
      "{1, 2, 3, 4, 5, 6, 7, 8, 9, 11, 12}\n",
      "{1, 2, 3, 4, 6, 7, 8, 9, 11, 12}\n",
      "1\n",
      "{2, 3}\n",
      "{1, 2, 3}\n"
     ]
    }
   ],
   "source": [
    "'''\n",
    "    集合中不允许有重复的数据\n",
    "    可以进行交集/并集/差集运算\n",
    "'''\n",
    "# 创建集合\n",
    "set1 = {1, 2, 3, 3, 2}\n",
    "print(set1)\n",
    "print('Length = ', len(set1))\n",
    "\n",
    "# 创建集合的构造器语法\n",
    "set2 = set(range(1, 10))\n",
    "set3 = set((1, 2, 3, 3, 2, 1))\n",
    "print(set2)\n",
    "print(set3)\n",
    "\n",
    "# 创建集合的推导式语法（推导式也可以用于推导集合）\n",
    "set4 = {num for num in range(1, 10) if num % 3 == 0 or num % 5 == 0}\n",
    "print(set4)\n",
    "\n",
    "'''\n",
    "    集合增加/删除元素\n",
    "'''\n",
    "\n",
    "set1.add(4)\n",
    "set1.add(5)\n",
    "print(set1)\n",
    "\n",
    "set2.update([11, 12])\n",
    "print(set2)\n",
    "set2.discard(5)\n",
    "print(set2)\n",
    "\n",
    "# remove 不存在的元素会报错\n",
    "if 3 in set2:\n",
    "    set2.remove(4)\n",
    "    \n",
    "# 删除首个元素，不能删除指定元素\n",
    "print(set3.pop())\n",
    "print(set3)\n"
   ]
  },
  {
   "cell_type": "code",
   "execution_count": 67,
   "metadata": {},
   "outputs": [
    {
     "name": "stdout",
     "output_type": "stream",
     "text": [
      "{2, 4}\n",
      "{2, 4}\n",
      "{1, 2, 3, 4, 5}\n",
      "{1, 2, 3, 4, 5}\n",
      "{1, 3}\n",
      "{1, 3}\n",
      "{1, 3, 5}\n",
      "{1, 3, 5}\n"
     ]
    }
   ],
   "source": [
    "\n",
    "'''\n",
    "    交/并/差/对称差\n",
    "'''\n",
    "set1 = {1, 2, 3, 3, 4}\n",
    "set2 = {4, 5, 2}\n",
    "# 交集\n",
    "print(set1 & set2)\n",
    "print(set1.intersection(set2))\n",
    "\n",
    "# 并集\n",
    "print(set1 | set2)\n",
    "print(set1.union(set2))\n",
    "\n",
    "# 差集\n",
    "print(set1 - set2)\n",
    "print(set1.difference(set2))\n",
    "\n",
    "# 对称差\n",
    "print(set1 ^ set2)\n",
    "print(set1.symmetric_difference(set2))"
   ]
  },
  {
   "cell_type": "markdown",
   "metadata": {},
   "source": [
    "### 字典"
   ]
  },
  {
   "cell_type": "code",
   "execution_count": 108,
   "metadata": {},
   "outputs": [
    {
     "name": "stdout",
     "output_type": "stream",
     "text": [
      "{'小xx': 85, '王二': 98}\n",
      "{'one': 1, 'two': 2, 'three': 3}\n",
      "{'a': '1', 'b': '2', 'c': '3'}\n",
      "{'a': '1', 'b': '2', 'c': '3'}\n",
      "{'a': 1, 'b': 2, 'c': 3}\n",
      "{1: 'a', 2: 'b', 3: 'c'}\n",
      "{1: 1, 2: 2, 3: 3, 4: 4, 5: 5, 6: 6, 7: 7, 8: 8, 9: 9}\n",
      "98\n",
      "小xx:85 王二:98 \n",
      "{'小xx': 85, '王二': 98, '孙贼': 77, '朱格': 82}\n",
      "{'小xx': 85, '王二': 98, '孙贼': 77, '朱格': 82, '孟彼': 13, '宁淦超': 59}\n",
      "None\n",
      "60\n",
      "{'小xx': 85, '王二': 98, '孙贼': 77, '朱格': 82, '孟彼': 13, '宁淦超': 59}\n",
      "('宁淦超', 59)\n",
      "{'小xx': 85, '王二': 98, '孙贼': 77, '朱格': 82, '孟彼': 13}\n",
      "98\n",
      "{'小xx': 85, '孙贼': 77, '朱格': 82, '孟彼': 13}\n",
      "85\n",
      "{'孙贼': 77, '朱格': 82, '孟彼': 13}\n",
      "{}\n"
     ]
    }
   ],
   "source": [
    "'''\n",
    "    字典\n",
    "'''\n",
    "\n",
    "# 创建字典的字面量语法\n",
    "scores = {'小xx': 85, '王二': 98}\n",
    "print(scores)\n",
    "\n",
    "# 创建字典的构造器语法\n",
    "items1 = dict(one = 1, two = 2, three = 3)\n",
    "print(items1)\n",
    "\n",
    "# 通过zip函数将两个序列压缩成字典\n",
    "items2  = dict(zip(['a', 'b', 'c'], '123445'))\n",
    "print(items2)\n",
    "\n",
    "items21 = dict(zip('abcd', '123'))\n",
    "print(items21)\n",
    "\n",
    "items22 = dict(zip(('a', 'b', 'c'), [1, 2, 3]))\n",
    "print(items22)\n",
    "\n",
    "items23 = dict(zip({1, 2, 3, 3, 2}, ['a', 'b', 'c']))\n",
    "print(items23)\n",
    "\n",
    "# 创建字典的推导式语法\n",
    "items3 = {num : num for num in range(1, 10)}\n",
    "print(items3)\n",
    "\n",
    "'''\n",
    "    访问字典中的数据\n",
    "'''\n",
    "# 通过键可以获取自己对应的值\n",
    "print(scores['王二'])\n",
    "\n",
    "\n",
    "'''\n",
    "    字典遍历\n",
    "'''\n",
    "for key in scores:\n",
    "    print(f'{key}:{scores[key]}', end = ' ')\n",
    "print()\n",
    "\n",
    "# 更新字典中元素\n",
    "scores['孙贼'] = 77\n",
    "scores['朱格'] = 82\n",
    "print(scores)\n",
    "\n",
    "scores.update(孟彼=13, 宁淦超=59)\n",
    "print(scores)\n",
    "\n",
    "if '吴泽' in scores:\n",
    "    print(scores['吴泽'])\n",
    "\n",
    "# 通过get方法获取\n",
    "print(scores.get('吴泽'))\n",
    "# get设置默认值\n",
    "print(scores.get('吴泽', 60))\n",
    "\n",
    "print(scores)\n",
    "\n",
    "# 删除字典中的元素\n",
    "print(scores.popitem())\n",
    "print(scores)\n",
    "\n",
    "print(scores.pop('王二', 98))\n",
    "print(scores)\n",
    "\n",
    "print(scores.pop('小xx'))\n",
    "print(scores)\n",
    "\n",
    "# 清空字典\n",
    "scores.clear()\n",
    "print(scores)"
   ]
  },
  {
   "cell_type": "markdown",
   "metadata": {},
   "source": [
    "### 练习\n",
    "#### 练习1：在屏幕上显示跑马灯"
   ]
  },
  {
   "cell_type": "code",
   "execution_count": 109,
   "metadata": {},
   "outputs": [
    {
     "name": "stdout",
     "output_type": "stream",
     "text": [
      "你是我的玫瑰你是我的花\n",
      "是我的玫瑰你是我的花你\n",
      "我的玫瑰你是我的花你是\n",
      "的玫瑰你是我的花你是我\n",
      "玫瑰你是我的花你是我的\n",
      "瑰你是我的花你是我的玫\n",
      "你是我的花你是我的玫瑰\n",
      "是我的花你是我的玫瑰你\n",
      "我的花你是我的玫瑰你是\n",
      "的花你是我的玫瑰你是我\n",
      "花你是我的玫瑰你是我的\n",
      "你是我的玫瑰你是我的花\n",
      "是我的玫瑰你是我的花你\n",
      "我的玫瑰你是我的花你是\n",
      "的玫瑰你是我的花你是我\n",
      "玫瑰你是我的花你是我的\n",
      "瑰你是我的花你是我的玫\n",
      "你是我的花你是我的玫瑰\n",
      "是我的花你是我的玫瑰你\n",
      "我的花你是我的玫瑰你是\n",
      "的花你是我的玫瑰你是我\n",
      "花你是我的玫瑰你是我的\n",
      "你是我的玫瑰你是我的花\n",
      "是我的玫瑰你是我的花你\n",
      "我的玫瑰你是我的花你是\n",
      "的玫瑰你是我的花你是我\n",
      "玫瑰你是我的花你是我的\n",
      "瑰你是我的花你是我的玫\n",
      "你是我的花你是我的玫瑰\n",
      "是我的花你是我的玫瑰你\n",
      "我的花你是我的玫瑰你是\n",
      "的花你是我的玫瑰你是我\n",
      "花你是我的玫瑰你是我的\n",
      "你是我的玫瑰你是我的花\n",
      "是我的玫瑰你是我的花你\n",
      "我的玫瑰你是我的花你是\n",
      "的玫瑰你是我的花你是我\n",
      "玫瑰你是我的花你是我的\n",
      "瑰你是我的花你是我的玫\n",
      "你是我的花你是我的玫瑰\n",
      "是我的花你是我的玫瑰你\n",
      "我的花你是我的玫瑰你是\n",
      "的花你是我的玫瑰你是我\n",
      "花你是我的玫瑰你是我的\n",
      "你是我的玫瑰你是我的花\n",
      "是我的玫瑰你是我的花你\n",
      "我的玫瑰你是我的花你是\n",
      "的玫瑰你是我的花你是我\n",
      "玫瑰你是我的花你是我的\n",
      "瑰你是我的花你是我的玫\n",
      "你是我的花你是我的玫瑰\n"
     ]
    },
    {
     "ename": "KeyboardInterrupt",
     "evalue": "",
     "output_type": "error",
     "traceback": [
      "\u001b[1;31m---------------------------------------------------------------------------\u001b[0m",
      "\u001b[1;31mKeyboardInterrupt\u001b[0m                         Traceback (most recent call last)",
      "\u001b[1;32m<ipython-input-109-77a48dc07d58>\u001b[0m in \u001b[0;36m<module>\u001b[1;34m\u001b[0m\n\u001b[0;32m     18\u001b[0m \u001b[1;33m\u001b[0m\u001b[0m\n\u001b[0;32m     19\u001b[0m \u001b[1;32mif\u001b[0m \u001b[0m__name__\u001b[0m \u001b[1;33m==\u001b[0m \u001b[1;34m'__main__'\u001b[0m\u001b[1;33m:\u001b[0m\u001b[1;33m\u001b[0m\u001b[1;33m\u001b[0m\u001b[0m\n\u001b[1;32m---> 20\u001b[1;33m     \u001b[0mmain\u001b[0m\u001b[1;33m(\u001b[0m\u001b[1;33m)\u001b[0m\u001b[1;33m\u001b[0m\u001b[1;33m\u001b[0m\u001b[0m\n\u001b[0m",
      "\u001b[1;32m<ipython-input-109-77a48dc07d58>\u001b[0m in \u001b[0;36mmain\u001b[1;34m()\u001b[0m\n\u001b[0;32m     12\u001b[0m \u001b[1;33m\u001b[0m\u001b[0m\n\u001b[0;32m     13\u001b[0m         \u001b[0mprint\u001b[0m\u001b[1;33m(\u001b[0m\u001b[0mcontent\u001b[0m\u001b[1;33m)\u001b[0m\u001b[1;33m\u001b[0m\u001b[1;33m\u001b[0m\u001b[0m\n\u001b[1;32m---> 14\u001b[1;33m         \u001b[0mtime\u001b[0m\u001b[1;33m.\u001b[0m\u001b[0msleep\u001b[0m\u001b[1;33m(\u001b[0m\u001b[1;36m0.2\u001b[0m\u001b[1;33m)\u001b[0m\u001b[1;33m\u001b[0m\u001b[1;33m\u001b[0m\u001b[0m\n\u001b[0m\u001b[0;32m     15\u001b[0m \u001b[1;33m\u001b[0m\u001b[0m\n\u001b[0;32m     16\u001b[0m         \u001b[0mcontent\u001b[0m \u001b[1;33m=\u001b[0m \u001b[0mcontent\u001b[0m\u001b[1;33m[\u001b[0m\u001b[1;36m1\u001b[0m\u001b[1;33m:\u001b[0m\u001b[1;33m]\u001b[0m \u001b[1;33m+\u001b[0m \u001b[0mcontent\u001b[0m\u001b[1;33m[\u001b[0m\u001b[1;36m0\u001b[0m\u001b[1;33m]\u001b[0m\u001b[1;33m\u001b[0m\u001b[1;33m\u001b[0m\u001b[0m\n",
      "\u001b[1;31mKeyboardInterrupt\u001b[0m: "
     ]
    }
   ],
   "source": [
    "'''\n",
    "   练习1：跑马灯\n",
    "'''\n",
    "import os\n",
    "import time\n",
    "\n",
    "def main():\n",
    "    \n",
    "    content = \"你是我的玫瑰你是我的花\"\n",
    "    while True:\n",
    "        os.system('cls')\n",
    "        \n",
    "        print(content)\n",
    "        time.sleep(0.2)\n",
    "        \n",
    "        content = content[1:] + content[0]\n",
    "        \n",
    "        \n",
    "if __name__ == '__main__':\n",
    "    main()"
   ]
  },
  {
   "cell_type": "markdown",
   "metadata": {},
   "source": [
    "#### 练习2：设计一个函数，输出指定长度的验证码，验证码由数字和字母组成"
   ]
  },
  {
   "cell_type": "code",
   "execution_count": 8,
   "metadata": {},
   "outputs": [
    {
     "name": "stdout",
     "output_type": "stream",
     "text": [
      "ZTGk\n",
      "Please input verification code: ztgw\n",
      "Try again:ztgk\n",
      "SUCCESS!\n"
     ]
    }
   ],
   "source": [
    "'''\n",
    "    验证码\n",
    "'''\n",
    "import random\n",
    "\n",
    "def verification_code(code_len = 4):\n",
    "    code = ''\n",
    "    all_chars = '1234567890qwertyuiopasdfghjklzxcvbnmQWERTYUIOPASDFGHJKLZXCVBNM'\n",
    "    last_pos = len(all_chars)\n",
    "    for _ in range(4):\n",
    "        index = random.randint(0, last_pos)\n",
    "        code +=  all_chars[index]\n",
    "    print(code)\n",
    "    \n",
    "    return code\n",
    "\n",
    "    \n",
    "def justified(code = ''):\n",
    "    \n",
    "    justified_code = str(input('Please input verification code: '))\n",
    "    \n",
    "    while True:\n",
    "        if justified_code.lower() == code.lower():\n",
    "            print('SUCCESS!')\n",
    "            break\n",
    "        else:\n",
    "            justified_code = str(input('Try again:'))\n",
    "    \n",
    "    \n",
    "def main():\n",
    "    justified(verification_code(4))\n",
    "    \n",
    "    \n",
    "if __name__=='__main__':\n",
    "    main()"
   ]
  },
  {
   "cell_type": "markdown",
   "metadata": {},
   "source": [
    "#### 练习3：设计一个函数，返回指定文件的后缀名"
   ]
  },
  {
   "cell_type": "code",
   "execution_count": 15,
   "metadata": {},
   "outputs": [
    {
     "name": "stdout",
     "output_type": "stream",
     "text": [
      "py\n"
     ]
    }
   ],
   "source": [
    "def get_suffix(file_name):\n",
    "    pos_of_doc = file_name.rfind('.')\n",
    "    return file_name[pos_of_doc + 1:]\n",
    "\n",
    "def main():\n",
    "    print(get_suffix('filename.py'))\n",
    "    \n",
    "    \n",
    "if __name__=='__main__':\n",
    "    main()"
   ]
  },
  {
   "cell_type": "markdown",
   "metadata": {},
   "source": [
    "#### 练习4：返回一个列表中最大和第二大的元素"
   ]
  },
  {
   "cell_type": "code",
   "execution_count": 21,
   "metadata": {},
   "outputs": [
    {
     "name": "stdout",
     "output_type": "stream",
     "text": [
      "(192, 99)\n"
     ]
    }
   ],
   "source": [
    "def find_2max_elem(x):\n",
    "    max1, max2 = (x[0], x[1]) if x[0] > x[1] else (x[1], x[0])\n",
    "    for i in range(2, len(x)):\n",
    "        if x[i] > max1:\n",
    "            max2 = max1\n",
    "            max1 = x[i]\n",
    "        elif x[i] < max1 and x[i] > max2:\n",
    "            max2 = x[i]\n",
    "    return max1, max2\n",
    "    \n",
    "    \n",
    "def main():\n",
    "    x = [10, 53, 12, 3, 56, 99, 192]\n",
    "    print(find_2max_elem(x))\n",
    "    \n",
    "    \n",
    "if __name__=='__main__':\n",
    "    main()"
   ]
  },
  {
   "cell_type": "markdown",
   "metadata": {},
   "source": [
    "#### 练习5：计算给定日期是当年的第多少天"
   ]
  },
  {
   "cell_type": "code",
   "execution_count": 26,
   "metadata": {},
   "outputs": [
    {
     "name": "stdout",
     "output_type": "stream",
     "text": [
      "355\n"
     ]
    }
   ],
   "source": [
    "def days_count(yy, mm, dd):\n",
    "    \n",
    "    days = [\n",
    "            [31, 28, 31, 30, 31, 30, 31, 31, 30, 31, 30, 31], \n",
    "            [31, 29, 31, 30, 31, 30, 31, 31, 30, 31, 30, 31]\n",
    "           ]\n",
    "    \n",
    "    sum_days = 0\n",
    "    \n",
    "    if not is_leap_year(yy):\n",
    "        for mon in range(mm - 1):\n",
    "            sum_days += days[0][mon]\n",
    "    else:\n",
    "        for mon in range(mm - 1):\n",
    "            sum_days += days[1][mon]\n",
    "            \n",
    "    return sum_days + dd\n",
    "\n",
    "\n",
    "def is_leap_year(yy):\n",
    "    if (yy % 4 == 0 and yy % 100 != 0) or (yy % 100 == 0 and yy % 400 != 0):\n",
    "        return True\n",
    "    return False\n",
    "\n",
    "\n",
    "def main():\n",
    "    print(days_count(2019, 12, 21))\n",
    "    \n",
    "\n",
    "if __name__=='__main__':\n",
    "    main()"
   ]
  },
  {
   "cell_type": "code",
   "execution_count": 30,
   "metadata": {},
   "outputs": [
    {
     "name": "stdout",
     "output_type": "stream",
     "text": [
      "237\n",
      "69\n",
      "355\n"
     ]
    }
   ],
   "source": [
    "'''\n",
    "    参考\n",
    "'''\n",
    "\n",
    "def is_leap_year(year):\n",
    "    \n",
    "    return year % 4 == 0 and year % 100 != 0 or year % 400 == 0\n",
    "\n",
    "\n",
    "def which_day(year, month, date):\n",
    "    '''\n",
    "        计算传入的日期是这一年的第几天\n",
    "        :param year: 年\n",
    "        :param month: 月\n",
    "        :param date: 日\n",
    "        :return: 第几天\n",
    "    '''\n",
    "    \n",
    "    days_of_month = [\n",
    "            [31, 28, 31, 30, 31, 30, 31, 31, 30, 31, 30, 31], \n",
    "            [31, 29, 31, 30, 31, 30, 31, 31, 30, 31, 30, 31]\n",
    "    ][is_leap_year(year)]\n",
    "    \n",
    "    total = 0\n",
    "    \n",
    "    for index in range(month - 1):\n",
    "        total += days_of_month[index]\n",
    "    \n",
    "    return total + date\n",
    "\n",
    "def main():\n",
    "    \n",
    "    print(which_day(1995, 8, 25))\n",
    "    print(which_day(1995, 3, 10))\n",
    "    print(which_day(2019, 12, 21))\n",
    "    \n",
    "\n",
    "if __name__=='__main__':\n",
    "    main()"
   ]
  },
  {
   "cell_type": "markdown",
   "metadata": {},
   "source": [
    "#### 练习6: 打印杨辉三角"
   ]
  },
  {
   "cell_type": "code",
   "execution_count": 35,
   "metadata": {},
   "outputs": [
    {
     "name": "stdout",
     "output_type": "stream",
     "text": [
      "[1]\n",
      "[1, 1]\n",
      "[1, 2, 1]\n",
      "[1, 3, 3, 1]\n",
      "[1, 4, 6, 4, 1]\n",
      "[1, 5, 10, 10, 5, 1]\n",
      "[1, 6, 15, 20, 15, 6, 1]\n",
      "[1, 7, 21, 35, 35, 21, 7, 1]\n",
      "[1, 8, 28, 56, 70, 56, 28, 8, 1]\n",
      "[1, 9, 36, 84, 126, 126, 84, 36, 9, 1]\n"
     ]
    }
   ],
   "source": [
    "def yanghui_triangle(n):\n",
    "    \n",
    "    print([1])\n",
    "    row_1 = [1, 1]\n",
    "    print(row_1)\n",
    "    \n",
    "    for i in range(3, n+1):\n",
    "        row_2 = [1]\n",
    "        \n",
    "        for j in range(i-2):\n",
    "            row_2.append(row_1[j] + row_1[j+1]) \n",
    "            \n",
    "        row_2.append(1)\n",
    "        print(row_2)\n",
    "        row_1 = row_2\n",
    "        \n",
    "        \n",
    "def main():\n",
    "    yanghui_triangle(10)\n",
    "    \n",
    "\n",
    "if __name__=='__main__':\n",
    "    main()\n",
    "            \n",
    "            \n",
    "        \n"
   ]
  },
  {
   "cell_type": "code",
   "execution_count": 36,
   "metadata": {},
   "outputs": [
    {
     "name": "stdout",
     "output_type": "stream",
     "text": [
      "Number of rows: 10\n",
      "1\t\n",
      "1\t1\t\n",
      "1\t2\t1\t\n",
      "1\t3\t3\t1\t\n",
      "1\t4\t6\t4\t1\t\n",
      "1\t5\t10\t10\t5\t1\t\n",
      "1\t6\t15\t20\t15\t6\t1\t\n",
      "1\t7\t21\t35\t35\t21\t7\t1\t\n",
      "1\t8\t28\t56\t70\t56\t28\t8\t1\t\n",
      "1\t9\t36\t84\t126\t126\t84\t36\t9\t1\t\n"
     ]
    }
   ],
   "source": [
    "'''\n",
    "    参考\n",
    "'''\n",
    "\n",
    "def main():\n",
    "    num = int(input('Number of rows: '))\n",
    "    yh = [[]] * num\n",
    "    \n",
    "    for row in range(len(yh)):\n",
    "        yh[row] = [None] * (row + 1)\n",
    "        for col in range(len(yh[row])):\n",
    "            if col == 0 or col == row:\n",
    "                yh[row][col] = 1\n",
    "            else:\n",
    "                yh[row][col] = yh[row -1][col] + yh[row - 1][col -1]\n",
    "            print(yh[row][col], end = '\\t')\n",
    "        print()\n",
    "        \n",
    "        \n",
    "if __name__=='__main__':\n",
    "    main()"
   ]
  },
  {
   "cell_type": "markdown",
   "metadata": {},
   "source": [
    "#### 综合案例\n",
    "- 案例1：双色球选号"
   ]
  },
  {
   "cell_type": "code",
   "execution_count": 59,
   "metadata": {},
   "outputs": [
    {
     "name": "stdout",
     "output_type": "stream",
     "text": [
      "机选几注：10\n",
      " 1  3  4 18 21 29 | 11 \n",
      " 5 13 18 24 26 29 |  5 \n",
      " 4 10 22 27 29 30 | 10 \n",
      " 8 14 26 29 31 32 |  7 \n",
      " 6 15 16 21 27 29 |  5 \n",
      " 4  6  7 14 16 24 |  1 \n",
      " 2  4  8 11 15 20 |  7 \n",
      " 9 17 25 26 27 33 |  3 \n",
      " 1 14 16 25 26 32 | 12 \n",
      " 9 18 20 22 28 31 |  3 \n"
     ]
    }
   ],
   "source": [
    "'''\n",
    "    参考\n",
    "    双色球投注区分为红色球号码区和蓝色球号码区，\n",
    "    红色球号码区由1-33共三十三个号码组成，\n",
    "    蓝色球号码区由1-16共十六个号码组成。\n",
    "    投注时选择6个红色球号码和1个蓝色球号码组成一注进行单式投注，每注金额人民币2元。\n",
    "'''\n",
    "\n",
    "from random import randrange, randint, sample\n",
    "\n",
    "def display(balls):\n",
    "    '''\n",
    "        输出列表中的双色球号码\n",
    "    '''\n",
    "    '''\n",
    "        enumerate 将可遍历数据对象组合为一个所以序列\n",
    "        >>>seasons = ['Spring', 'Summer', 'Fall', 'Winter']\n",
    "        >>> list(enumerate(seasons))\n",
    "            [(0, 'Spring'), (1, 'Summer'), (2, 'Fall'), (3, 'Winter')]\n",
    "        >>> list(enumerate(seasons, start=1))       # 下标从 1 开始\n",
    "            [(1, 'Spring'), (2, 'Summer'), (3, 'Fall'), (4, 'Winter')]\n",
    "    '''\n",
    "    for index, ball in enumerate(balls):\n",
    "        if index == len(balls) - 1:\n",
    "            print('|', end = ' ')\n",
    "        print('%2d' % ball, end = ' ')\n",
    "    print()\n",
    "              \n",
    "def random_select():\n",
    "    '''\n",
    "        随机选择一组号码\n",
    "    '''\n",
    "    red_balls = [x for x in range(1, 34)]\n",
    "    selected_balls = []\n",
    "    '''\n",
    "        sample[seq, num] 从序列seq中获取num个元素生成新下列表（不重复）\n",
    "    '''\n",
    "    selected_balls = sample(red_balls, 6)\n",
    "    # 排序\n",
    "    selected_balls.sort()\n",
    "    selected_balls.append(randint(1, 16))\n",
    "    \n",
    "    return selected_balls\n",
    "  \n",
    "def main():\n",
    "    n = int(input('机选几注：'))\n",
    "    for _ in range(n):\n",
    "        display(random_select())\n",
    "        \n",
    "if __name__ == '__main__':\n",
    "    main()"
   ]
  },
  {
   "cell_type": "markdown",
   "metadata": {},
   "source": [
    "- 综合案例2：约瑟夫环\n",
    "> 《幸运的基督徒》\n",
    "有15个基督徒和15个非基督徒在海上遇险，为了能让一部分人活下来不得不将其中15个人扔到海里面去，有个人想了个办法就是大家围成一个圈，由某个人开始从1报数，报到9的人就扔到海里面，他后面的人接着从1开始报数，报到9的人继续扔到海里面，直到扔掉15个人。由于上帝的保佑，15个基督徒都幸免于难，问这些人最开始是怎么站的，哪些位置是基督徒哪些位置是非基督徒。\n",
    "\"\"\""
   ]
  },
  {
   "cell_type": "code",
   "execution_count": 92,
   "metadata": {},
   "outputs": [
    {
     "name": "stdout",
     "output_type": "stream",
     "text": [
      "[True, True, True, True, False, False, False, False, False, True, True, False, True, True, True, False, True, False, False, True, True, False, False, False, True, False, False, True, True, False]\n"
     ]
    }
   ],
   "source": [
    "'''\n",
    "    约瑟夫环\n",
    "'''\n",
    "\n",
    "def main():\n",
    "#     persons = [True] * 30\n",
    "#     start, counter = 0, 0\n",
    "#     for _ in range(30):\n",
    "#         while persons[start]:\n",
    "#             counter += 1\n",
    "        \n",
    "#             if counter == 9:\n",
    "#                 start += counter - 1\n",
    "#                 start %= 30\n",
    "#                 persons[start] = False\n",
    "#                 counter = 0\n",
    "#         start += 1\n",
    "#         start %= 30\n",
    "#     print(persons)\n",
    "    persons = [True] * 30\n",
    "    counter, index, number = 0, 0, 0\n",
    "    \n",
    "    while number < 15:\n",
    "        if persons[index]:\n",
    "            counter += 1\n",
    "            \n",
    "            if counter == 9:\n",
    "                persons[index] = False\n",
    "                number += 1\n",
    "                counter = 0\n",
    "        index += 1\n",
    "        index %= 30\n",
    "    print(persons)\n",
    "    \n",
    "if __name__=='__main__':\n",
    "    main()"
   ]
  },
  {
   "cell_type": "markdown",
   "metadata": {},
   "source": [
    "#### 综合案例3：井字棋游戏"
   ]
  },
  {
   "cell_type": "code",
   "execution_count": 3,
   "metadata": {},
   "outputs": [
    {
     "name": "stdout",
     "output_type": "stream",
     "text": [
      "轮到x, 请下棋：TR\n",
      "  |   | x\n",
      "--+--+--\n",
      "  |   |  \n",
      "--+--+--\n",
      "  |   |  \n",
      "轮到o, 请下棋：TM\n",
      "  | o | x\n",
      "--+--+--\n",
      "  |   |  \n",
      "--+--+--\n",
      "  |   |  \n",
      "轮到x, 请下棋：MM\n",
      "  | o | x\n",
      "--+--+--\n",
      "  | x |  \n",
      "--+--+--\n",
      "  |   |  \n",
      "轮到o, 请下棋：BM\n",
      "  | o | x\n",
      "--+--+--\n",
      "  | x |  \n",
      "--+--+--\n",
      "  | o |  \n",
      "轮到x, 请下棋：BL\n",
      "  | o | x\n",
      "--+--+--\n",
      "  | x |  \n",
      "--+--+--\n",
      "x | o |  \n",
      "轮到o, 请下棋：SD\n"
     ]
    },
    {
     "ename": "KeyError",
     "evalue": "'SD'",
     "output_type": "error",
     "traceback": [
      "\u001b[1;31m---------------------------------------------------------------------------\u001b[0m",
      "\u001b[1;31mKeyError\u001b[0m                                  Traceback (most recent call last)",
      "\u001b[1;32m<ipython-input-3-010197c0b7d1>\u001b[0m in \u001b[0;36m<module>\u001b[1;34m\u001b[0m\n\u001b[0;32m     31\u001b[0m \u001b[1;33m\u001b[0m\u001b[0m\n\u001b[0;32m     32\u001b[0m \u001b[1;32mif\u001b[0m \u001b[0m__name__\u001b[0m\u001b[1;33m==\u001b[0m\u001b[1;34m'__main__'\u001b[0m\u001b[1;33m:\u001b[0m\u001b[1;33m\u001b[0m\u001b[1;33m\u001b[0m\u001b[0m\n\u001b[1;32m---> 33\u001b[1;33m     \u001b[0mmain\u001b[0m\u001b[1;33m(\u001b[0m\u001b[1;33m)\u001b[0m\u001b[1;33m\u001b[0m\u001b[1;33m\u001b[0m\u001b[0m\n\u001b[0m",
      "\u001b[1;32m<ipython-input-3-010197c0b7d1>\u001b[0m in \u001b[0;36mmain\u001b[1;34m()\u001b[0m\n\u001b[0;32m     17\u001b[0m     \u001b[1;32mwhile\u001b[0m \u001b[0mstep\u001b[0m \u001b[1;33m<\u001b[0m \u001b[1;36m9\u001b[0m\u001b[1;33m:\u001b[0m\u001b[1;33m\u001b[0m\u001b[1;33m\u001b[0m\u001b[0m\n\u001b[0;32m     18\u001b[0m         \u001b[0mpos\u001b[0m \u001b[1;33m=\u001b[0m \u001b[0mstr\u001b[0m\u001b[1;33m(\u001b[0m\u001b[0minput\u001b[0m\u001b[1;33m(\u001b[0m\u001b[1;34m'轮到%s, 请下棋：'\u001b[0m \u001b[1;33m%\u001b[0m \u001b[0mturn\u001b[0m\u001b[1;33m)\u001b[0m\u001b[1;33m)\u001b[0m\u001b[1;33m\u001b[0m\u001b[1;33m\u001b[0m\u001b[0m\n\u001b[1;32m---> 19\u001b[1;33m         \u001b[1;32mif\u001b[0m \u001b[0mcur_board\u001b[0m\u001b[1;33m[\u001b[0m\u001b[0mpos\u001b[0m\u001b[1;33m]\u001b[0m \u001b[1;33m==\u001b[0m \u001b[1;34m' '\u001b[0m\u001b[1;33m:\u001b[0m\u001b[1;33m\u001b[0m\u001b[1;33m\u001b[0m\u001b[0m\n\u001b[0m\u001b[0;32m     20\u001b[0m             \u001b[0mcur_board\u001b[0m\u001b[1;33m[\u001b[0m\u001b[0mpos\u001b[0m\u001b[1;33m]\u001b[0m \u001b[1;33m=\u001b[0m \u001b[0mturn\u001b[0m\u001b[1;33m\u001b[0m\u001b[1;33m\u001b[0m\u001b[0m\n\u001b[0;32m     21\u001b[0m             \u001b[1;32mif\u001b[0m \u001b[0mturn\u001b[0m \u001b[1;33m==\u001b[0m \u001b[1;34m'x'\u001b[0m\u001b[1;33m:\u001b[0m\u001b[1;33m\u001b[0m\u001b[1;33m\u001b[0m\u001b[0m\n",
      "\u001b[1;31mKeyError\u001b[0m: 'SD'"
     ]
    }
   ],
   "source": [
    "def print_board(board):\n",
    "    print(board['TL'] + '|' + board['TM'] + '|' + board['TR'])\n",
    "    print('--+--+--')\n",
    "    print(board['ML'] + '|' + board['MM'] + '|' + board['MR'])\n",
    "    print('--+--+--')\n",
    "    print(board['BL'] + '|' + board['BM'] + '|' + board['BR'])\n",
    "    \n",
    "def main():\n",
    "    init_board = {\n",
    "        'TL':' ', 'TM':' ', 'TR':' ',\n",
    "        'ML':' ', 'MM':' ', 'MR':' ',\n",
    "        'BL':' ', 'BM':' ', 'BR':' '\n",
    "    }\n",
    "    turn = 'x'\n",
    "    step = 0\n",
    "    cur_board = init_board.copy()\n",
    "    while step < 9:    \n",
    "        pos = str(input('轮到%s, 请下棋：' % turn))\n",
    "        if cur_board[pos] == ' ':\n",
    "            cur_board[pos] = turn\n",
    "            if turn == 'x':\n",
    "                turn = 'o'\n",
    "            else:\n",
    "                turn = 'x'\n",
    "        elif cur_board != ' ':\n",
    "            print('该位置已经下子，请重新下：')\n",
    "            continue\n",
    "        step += 1\n",
    "        print_board(cur_board)\n",
    "    \n",
    "    \n",
    "if __name__=='__main__':\n",
    "    main()"
   ]
  },
  {
   "cell_type": "code",
   "execution_count": 4,
   "metadata": {},
   "outputs": [
    {
     "name": "stdout",
     "output_type": "stream",
     "text": [
      " | | \n",
      "-+-+-\n",
      " | | \n",
      "-+-+-\n",
      " | | \n",
      "轮到x走棋, 请输入位置: TR\n",
      " | |x\n",
      "-+-+-\n",
      " | | \n",
      "-+-+-\n",
      " | | \n",
      "轮到o走棋, 请输入位置: sd\n"
     ]
    },
    {
     "ename": "KeyError",
     "evalue": "'sd'",
     "output_type": "error",
     "traceback": [
      "\u001b[1;31m---------------------------------------------------------------------------\u001b[0m",
      "\u001b[1;31mKeyError\u001b[0m                                  Traceback (most recent call last)",
      "\u001b[1;32m<ipython-input-4-18e06893be06>\u001b[0m in \u001b[0;36m<module>\u001b[1;34m\u001b[0m\n\u001b[0;32m     40\u001b[0m \u001b[1;33m\u001b[0m\u001b[0m\n\u001b[0;32m     41\u001b[0m \u001b[1;32mif\u001b[0m \u001b[0m__name__\u001b[0m \u001b[1;33m==\u001b[0m \u001b[1;34m'__main__'\u001b[0m\u001b[1;33m:\u001b[0m\u001b[1;33m\u001b[0m\u001b[1;33m\u001b[0m\u001b[0m\n\u001b[1;32m---> 42\u001b[1;33m     \u001b[0mmain\u001b[0m\u001b[1;33m(\u001b[0m\u001b[1;33m)\u001b[0m\u001b[1;33m\u001b[0m\u001b[1;33m\u001b[0m\u001b[0m\n\u001b[0m",
      "\u001b[1;32m<ipython-input-4-18e06893be06>\u001b[0m in \u001b[0;36mmain\u001b[1;34m()\u001b[0m\n\u001b[0;32m     26\u001b[0m         \u001b[1;32mwhile\u001b[0m \u001b[0mcounter\u001b[0m \u001b[1;33m<\u001b[0m \u001b[1;36m9\u001b[0m\u001b[1;33m:\u001b[0m\u001b[1;33m\u001b[0m\u001b[1;33m\u001b[0m\u001b[0m\n\u001b[0;32m     27\u001b[0m             \u001b[0mmove\u001b[0m \u001b[1;33m=\u001b[0m \u001b[0minput\u001b[0m\u001b[1;33m(\u001b[0m\u001b[1;34m'轮到%s走棋, 请输入位置: '\u001b[0m \u001b[1;33m%\u001b[0m \u001b[0mturn\u001b[0m\u001b[1;33m)\u001b[0m\u001b[1;33m\u001b[0m\u001b[1;33m\u001b[0m\u001b[0m\n\u001b[1;32m---> 28\u001b[1;33m             \u001b[1;32mif\u001b[0m \u001b[0mcurr_board\u001b[0m\u001b[1;33m[\u001b[0m\u001b[0mmove\u001b[0m\u001b[1;33m]\u001b[0m \u001b[1;33m==\u001b[0m \u001b[1;34m' '\u001b[0m\u001b[1;33m:\u001b[0m\u001b[1;33m\u001b[0m\u001b[1;33m\u001b[0m\u001b[0m\n\u001b[0m\u001b[0;32m     29\u001b[0m                 \u001b[0mcounter\u001b[0m \u001b[1;33m+=\u001b[0m \u001b[1;36m1\u001b[0m\u001b[1;33m\u001b[0m\u001b[1;33m\u001b[0m\u001b[0m\n\u001b[0;32m     30\u001b[0m                 \u001b[0mcurr_board\u001b[0m\u001b[1;33m[\u001b[0m\u001b[0mmove\u001b[0m\u001b[1;33m]\u001b[0m \u001b[1;33m=\u001b[0m \u001b[0mturn\u001b[0m\u001b[1;33m\u001b[0m\u001b[1;33m\u001b[0m\u001b[0m\n",
      "\u001b[1;31mKeyError\u001b[0m: 'sd'"
     ]
    }
   ],
   "source": [
    "import os\n",
    "\n",
    "\n",
    "def print_board(board):\n",
    "    print(board['TL'] + '|' + board['TM'] + '|' + board['TR'])\n",
    "    print('-+-+-')\n",
    "    print(board['ML'] + '|' + board['MM'] + '|' + board['MR'])\n",
    "    print('-+-+-')\n",
    "    print(board['BL'] + '|' + board['BM'] + '|' + board['BR'])\n",
    "\n",
    "\n",
    "def main():\n",
    "    init_board = {\n",
    "        'TL': ' ', 'TM': ' ', 'TR': ' ',\n",
    "        'ML': ' ', 'MM': ' ', 'MR': ' ',\n",
    "        'BL': ' ', 'BM': ' ', 'BR': ' '\n",
    "    }\n",
    "    begin = True\n",
    "    while begin:\n",
    "        curr_board = init_board.copy()\n",
    "        begin = False\n",
    "        turn = 'x'\n",
    "        counter = 0\n",
    "        os.system('clear')\n",
    "        print_board(curr_board)\n",
    "        while counter < 9:\n",
    "            move = input('轮到%s走棋, 请输入位置: ' % turn)\n",
    "            if curr_board[move] == ' ':\n",
    "                counter += 1\n",
    "                curr_board[move] = turn\n",
    "                if turn == 'x':\n",
    "                    turn = 'o'\n",
    "                else:\n",
    "                    turn = 'x'\n",
    "            os.system('clear')\n",
    "            print_board(curr_board)\n",
    "        choice = input('再玩一局?(yes|no)')\n",
    "        begin = choice == 'yes'\n",
    "\n",
    "\n",
    "if __name__ == '__main__':\n",
    "    main()"
   ]
  },
  {
   "cell_type": "code",
   "execution_count": null,
   "metadata": {},
   "outputs": [],
   "source": []
  },
  {
   "cell_type": "code",
   "execution_count": null,
   "metadata": {},
   "outputs": [],
   "source": []
  },
  {
   "cell_type": "code",
   "execution_count": null,
   "metadata": {},
   "outputs": [],
   "source": []
  }
 ],
 "metadata": {
  "kernelspec": {
   "display_name": "Python 3",
   "language": "python",
   "name": "python3"
  }
 },
 "nbformat": 4,
 "nbformat_minor": 2
}
