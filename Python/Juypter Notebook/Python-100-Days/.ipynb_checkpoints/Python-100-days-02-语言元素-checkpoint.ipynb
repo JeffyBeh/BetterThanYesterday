{
 "cells": [
  {
   "cell_type": "code",
   "execution_count": null,
   "metadata": {},
   "outputs": [],
   "source": [
    "a = 100\n",
    "b = 2.45\n",
    "c = 'hello'\n",
    "d = 2 + 3j\n",
    "e = True\n",
    "print(type(a), type(b), type(c), type(d), type(e))"
   ]
  },
  {
   "cell_type": "code",
   "execution_count": 3,
   "metadata": {},
   "outputs": [
    {
     "name": "stdout",
     "output_type": "stream",
     "text": [
      "444\n",
      "-198\n",
      "39483\n",
      "0.38317757009345793\n",
      "0\n",
      "123\n",
      "72367033806371673149109894141163778628811792657571658906010558390395870363798401744095280686155507736404921657070284961721828960592977909542637098897697223102622628566787654091327825453991595140205701412961364188732408936197890553699715836951569999800431957769217006743321026257517932764164662319487914962533302741368207211189494615326552790667720411285474162636765168907211924134973374304496019635376665858559941735703924836467756917247995469583487467791524582153744522107597865277798136080074161485280424274076931083994487111719562249702540362855712911132265966235754355353516703339043001506118520760359577737869472018617942120590873170710805078696371738906375721785723\n"
     ]
    }
   ],
   "source": [
    "'''\n",
    "    变量保存数据并运算\n",
    "'''\n",
    "\n",
    "a = 123\n",
    "b = 321\n",
    "\n",
    "print(a + b)\n",
    "print(a - b)\n",
    "print(a * b)\n",
    "print(a / b)\n",
    "print(a // b)\n",
    "print(a % b)\n",
    "print(a ** b)"
   ]
  },
  {
   "cell_type": "code",
   "execution_count": null,
   "metadata": {},
   "outputs": [],
   "source": [
    "'''\n",
    "    变量类型转化\n",
    "'''\n",
    "\n",
    "# int() 整型\n",
    "a = \"123\"\n",
    "b = int(a)\n",
    "print(b)\n",
    "print(type(b))\n",
    "\n",
    "# float() 浮点型\n",
    "c = \"1.23\"\n",
    "d = float(c)\n",
    "print(d)\n",
    "print(type(d))\n",
    "\n",
    "# str() 整型转化为字符串\n",
    "e = 123\n",
    "f = str(e)\n",
    "print(f)\n",
    "print(type(f))\n",
    "\n",
    "# chr() ASCII码转化为对应字符\n",
    "g = 65\n",
    "h = chr(g)\n",
    "print(h)\n",
    "print(type(h))\n",
    "\n",
    "# ord() 字符转化为对应ASCII码\n",
    "i = 'A'\n",
    "j = ord(i)\n",
    "print(j)\n",
    "print(type(j))"
   ]
  },
  {
   "cell_type": "code",
   "execution_count": 2,
   "metadata": {},
   "outputs": [
    {
     "name": "stdout",
     "output_type": "stream",
     "text": [
      "a = 11\n",
      "b = 12\n",
      "11 + 12 = 23\n",
      "11 - 12 = -1\n"
     ]
    }
   ],
   "source": [
    "\"\"\"\n",
    "使用input()函数获取键盘输入(字符串)\n",
    "使用int()函数将输入的字符串转换成整数\n",
    "使用print()函数输出带占位符的字符串\n",
    "\"\"\"\n",
    "\n",
    "a = int(input('a = '))\n",
    "b = int(input('b = '))\n",
    "\n",
    "print('%d + %d = %d' % (a, b, a + b))\n",
    "print('%d - %d = %d' % (a, b, a - b))"
   ]
  },
  {
   "cell_type": "code",
   "execution_count": 7,
   "metadata": {},
   "outputs": [
    {
     "name": "stdout",
     "output_type": "stream",
     "text": [
      "40\n"
     ]
    }
   ],
   "source": [
    "'''\n",
    "    赋值运算符和符合运算符\n",
    "'''\n",
    "\n",
    "a = 2\n",
    "b = 3\n",
    "\n",
    "a += b\n",
    "a *= a + b\n",
    "\n",
    "print(a)"
   ]
  },
  {
   "cell_type": "code",
   "execution_count": 11,
   "metadata": {},
   "outputs": [
    {
     "name": "stdout",
     "output_type": "stream",
     "text": [
      "flag0 = True\n",
      "flag1 = True\n",
      "flag2 = False\n",
      "flag3 = False\n",
      "flag4 = False\n",
      "flag5 = False\n"
     ]
    }
   ],
   "source": [
    "'''\n",
    "    关系运算符/逻辑运算符/身份运算符\n",
    "'''\n",
    "\n",
    "flag0 = 1 == 1\n",
    "flag1 = 3 > 2\n",
    "flag2 = 2 < 1\n",
    "flag3 = flag1 and flag2\n",
    "flag4 = flag2 or flag3\n",
    "flag5 = not(1 != 2)\n",
    "\n",
    "print('flag0 =', flag0)\n",
    "print('flag1 =', flag1)\n",
    "print('flag2 =', flag2)\n",
    "print('flag3 =', flag3)\n",
    "print('flag4 =', flag4)\n",
    "print('flag5 =', flag5)"
   ]
  },
  {
   "cell_type": "markdown",
   "metadata": {},
   "source": [
    "### 练习1\n",
    "#### 练习1：华氏度转摄氏度\n",
    "> 华氏度转摄氏度公式：$C = (F - 32) \\div 1.8$"
   ]
  },
  {
   "cell_type": "code",
   "execution_count": 24,
   "metadata": {},
   "outputs": [
    {
     "name": "stdout",
     "output_type": "stream",
     "text": [
      "华氏度：98.6\n",
      "摄氏度： 36.99999999999999\n"
     ]
    }
   ],
   "source": [
    "'''\n",
    "    华氏度转设置度\n",
    "'''\n",
    "a = float(input('华氏度：'))\n",
    "b = (a - 32) / 1.8\n",
    "print('摄氏度：', b)"
   ]
  },
  {
   "cell_type": "markdown",
   "metadata": {},
   "source": [
    "### 练习2\n",
    "#### 练习2： 输入⚪的半径，计算⚪的周长和面积"
   ]
  },
  {
   "cell_type": "code",
   "execution_count": 27,
   "metadata": {},
   "outputs": [
    {
     "name": "stdout",
     "output_type": "stream",
     "text": [
      "圆的半径为：4\n",
      "周长为： 25.132741228718345\n",
      "面积为： 50.26548245743669\n"
     ]
    }
   ],
   "source": [
    "'''\n",
    "    输入圆的半径，计算圆的周长和面积\n",
    "'''\n",
    "import math\n",
    "\n",
    "radius = float(input('圆的半径为：'))\n",
    "\n",
    "primeter = 2 * math.pi * radius\n",
    "area = math.pi * radius ** 2\n",
    "\n",
    "print('周长为：', primeter)\n",
    "print('面积为：', area)"
   ]
  },
  {
   "cell_type": "markdown",
   "metadata": {},
   "source": [
    "### 练习3\n",
    "#### 练习3：判断是否为闰年"
   ]
  },
  {
   "cell_type": "code",
   "execution_count": 29,
   "metadata": {},
   "outputs": [
    {
     "name": "stdout",
     "output_type": "stream",
     "text": [
      "Please input year: 2000\n",
      "True\n"
     ]
    }
   ],
   "source": [
    "'''\n",
    "    判断是否为闰年\n",
    "'''\n",
    "\n",
    "year = int(input('Please input year: '))\n",
    "\n",
    "# 如果代码太长写成一行不便于阅读 可以使用\\对代码进行折行\n",
    "is_leap = ((year % 4 == 0 and year % 100 != 0) \\\n",
    "          or (year % 100 == 0 and year % 400 == 0))\n",
    "\n",
    "print(is_leap)"
   ]
  },
  {
   "cell_type": "code",
   "execution_count": null,
   "metadata": {},
   "outputs": [],
   "source": []
  },
  {
   "cell_type": "code",
   "execution_count": null,
   "metadata": {},
   "outputs": [],
   "source": []
  },
  {
   "cell_type": "code",
   "execution_count": null,
   "metadata": {},
   "outputs": [],
   "source": []
  },
  {
   "cell_type": "code",
   "execution_count": null,
   "metadata": {},
   "outputs": [],
   "source": []
  },
  {
   "cell_type": "code",
   "execution_count": null,
   "metadata": {},
   "outputs": [],
   "source": []
  },
  {
   "cell_type": "code",
   "execution_count": null,
   "metadata": {},
   "outputs": [],
   "source": []
  }
 ],
 "metadata": {
  "kernelspec": {
   "display_name": "Python 3",
   "language": "python",
   "name": "python3"
  },
  "language_info": {
   "codemirror_mode": {
    "name": "ipython",
    "version": 3
   },
   "file_extension": ".py",
   "mimetype": "text/x-python",
   "name": "python",
   "nbconvert_exporter": "python",
   "pygments_lexer": "ipython3",
   "version": "3.7.1"
  }
 },
 "nbformat": 4,
 "nbformat_minor": 2
}
