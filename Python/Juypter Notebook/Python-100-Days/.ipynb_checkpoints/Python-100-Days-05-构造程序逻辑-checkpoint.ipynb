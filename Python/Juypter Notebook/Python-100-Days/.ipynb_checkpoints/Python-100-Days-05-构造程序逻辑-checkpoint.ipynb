{
 "cells": [
  {
   "cell_type": "markdown",
   "metadata": {},
   "source": [
    "### 经典的例子\n",
    "1. 构造水仙花数\n",
    ">说明：水仙花数也被称为超完全数字不变数、自恋数、自幂数、阿姆斯特朗数，它是一个3位数，该数字每个位上数字的立方之和正好等于它本身，例如：$1^3 + 5^3+ 3^3=153$"
   ]
  },
  {
   "cell_type": "code",
   "execution_count": 12,
   "metadata": {
    "scrolled": true
   },
   "outputs": [
    {
     "name": "stdout",
     "output_type": "stream",
     "text": [
      "153\n",
      "370\n",
      "371\n",
      "407\n"
     ]
    }
   ],
   "source": [
    "'''\n",
    " 《构造水仙花数》\n",
    "'''\n",
    "# 方法一\n",
    "\n",
    "for i in range(1, 10):\n",
    "    for j in range(0,10):\n",
    "        for k in range(0,10):\n",
    "            if i * 100 + j * 10 + k == i ** 3 + j ** 3 + k ** 3:\n",
    "                print(i * 100 + j * 10 + k)"
   ]
  },
  {
   "cell_type": "code",
   "execution_count": 8,
   "metadata": {},
   "outputs": [
    {
     "name": "stdout",
     "output_type": "stream",
     "text": [
      "153\n",
      "370\n",
      "371\n",
      "407\n"
     ]
    }
   ],
   "source": [
    "# 方法二\n",
    "'''\n",
    " 《构造水仙花数》\n",
    "'''\n",
    "for num in range(100, 1000):\n",
    "    low = num % 10\n",
    "    mid = num // 10 % 10\n",
    "    high = num // 100\n",
    "    if low ** 3 + mid ** 3 + high ** 3 == num:\n",
    "        print(num)"
   ]
  },
  {
   "cell_type": "markdown",
   "metadata": {},
   "source": [
    "#### 1.1 将12345反转为54321(正整数反转)"
   ]
  },
  {
   "cell_type": "code",
   "execution_count": 16,
   "metadata": {},
   "outputs": [
    {
     "name": "stdout",
     "output_type": "stream",
     "text": [
      "请输入数字：987654321\n",
      "123456789\n"
     ]
    }
   ],
   "source": [
    "'''\n",
    "    《正整数反转》\n",
    "'''\n",
    "num = int(input(\"请输入数字：\"))\n",
    "\n",
    "reverse = 0\n",
    "while num > 0:\n",
    "    temp = num % 10\n",
    "    reverse = reverse * 10 + temp\n",
    "    num //= 10\n",
    "print(reverse)\n"
   ]
  },
  {
   "cell_type": "markdown",
   "metadata": {},
   "source": [
    "#### 2.百钱百鸡问题\n",
    "> 说明：百钱百鸡是我国古代数学家张丘建在《算经》一书中提出的数学问题：鸡翁一值钱五，鸡母一值钱三，鸡雏三值钱一。百钱买百鸡，问鸡翁、鸡母、鸡雏各几何？翻译成现代文是：公鸡5元一只，母鸡3元一只，小鸡1元三只，用100块钱买一百只鸡，问公鸡、母鸡、小鸡各有多少只？"
   ]
  },
  {
   "cell_type": "code",
   "execution_count": 28,
   "metadata": {},
   "outputs": [
    {
     "name": "stdout",
     "output_type": "stream",
     "text": [
      "0 25 75\n",
      "4 18 78\n",
      "8 11 81\n",
      "12 4 84\n",
      "\n",
      "0 25 75\n",
      "4 18 78\n",
      "8 11 81\n",
      "12 4 84\n"
     ]
    }
   ],
   "source": [
    "'''\n",
    "    《百钱百鸡》问题\n",
    "'''\n",
    "#方法一：\n",
    "for x in range(0, 20):\n",
    "    for y in range(0, 33):\n",
    "        for z in range(0, 100):\n",
    "            if 5 * x + 3 * y + z / 3 == 100 and x + y + z == 100:\n",
    "                print(x, y, z)\n",
    "   \n",
    "\n",
    "print()\n",
    "#方法二：\n",
    "for x in range(0, 20):\n",
    "    for y in range(0, 33):\n",
    "        z = 100 - x - y\n",
    "        if x * 5 + y * 3 + z / 3 == 100:\n",
    "            print(x, y, z)"
   ]
  },
  {
   "cell_type": "markdown",
   "metadata": {},
   "source": [
    "#### 3. CRAPS赌博游戏。\n",
    "> 说明：CRAPS又称花旗骰，是美国拉斯维加斯非常受欢迎的一种的桌上赌博游戏。该游戏使用两粒骰子，玩家通过摇两粒骰子获得点数进行游戏。简单的规则是：玩家第一次摇骰子如果摇出了7点或11点，玩家胜；玩家第一次如果摇出2点、3点或12点，庄家胜；其他点数玩家继续摇骰子，如果玩家摇出了7点，庄家胜；如果玩家摇出了第一次摇的点数，玩家胜；其他点数，玩家继续要骰子，直到分出胜负。"
   ]
  },
  {
   "cell_type": "code",
   "execution_count": null,
   "metadata": {},
   "outputs": [
    {
     "name": "stdout",
     "output_type": "stream",
     "text": [
      "来，让老子看看你箱子里带了多少钱：12345\n",
      "小子，下注吧：2\n",
      "来来来，买定离手咯：6\n",
      "惨咯，庄家赢！\n"
     ]
    }
   ],
   "source": [
    "'''\n",
    "    玩家通过输入总金额及每次所下赌注，知道玩家输完所有或者玩家不再下注(0)，游戏结束\n",
    "    \n",
    "'''\n",
    "from random import randint\n",
    "\n",
    "sum_money = int(input(\"来，让老子看看你箱子里带了多少钱：\"))\n",
    "\n",
    "while sum_money > 0:\n",
    "    debt = int(input(\"小子，下注吧：\"))\n",
    "    if debt > sum_money:\n",
    "        print(\"你tmd虎谁呢，你哪里有那么多钱，重新下：\")\n",
    "    elif debt == 0:\n",
    "        print(\"小子！这就不玩了啊！怂蛋！\")\n",
    "        break\n",
    "    \n",
    "    firstNum = randint(1, 6) + randint(1, 6) \n",
    "    print(\"来来来，买定离手咯：%d\" % firstNum)\n",
    "    \n",
    "    if firstNum == 7 or firstNum == 11:\n",
    "        print('小子，运气不错哦，上来就上来赢了！')\n",
    "        sum_money += debt\n",
    "        continue\n",
    "    elif firstNum == 2 or firstNum == 3 or firstNum == 12:\n",
    "        sum_money -= debt\n",
    "        print('惨咯，庄家赢！')\n",
    "        continue\n",
    "    else:\n",
    "        \n",
    "        number = randint(1, 6) + randint(1, 6)\n",
    "        print(\"来来来，买定离手咯：%d\" % number)\n",
    "        if number == firstNum:\n",
    "            sum_money += debt\n",
    "            print('小子运气不错啊！')\n",
    "            continue\n",
    "        elif number == 7:\n",
    "            sum_money -= debt\n",
    "            print('惨咯，庄家赢！')\n",
    "            continue\n",
    "    "
   ]
  },
  {
   "cell_type": "code",
   "execution_count": null,
   "metadata": {},
   "outputs": [],
   "source": []
  },
  {
   "cell_type": "code",
   "execution_count": null,
   "metadata": {},
   "outputs": [],
   "source": []
  },
  {
   "cell_type": "code",
   "execution_count": null,
   "metadata": {},
   "outputs": [],
   "source": []
  }
 ],
 "metadata": {
  "kernelspec": {
   "display_name": "Python 3",
   "language": "python",
   "name": "python3"
  },
  "language_info": {
   "codemirror_mode": {
    "name": "ipython",
    "version": 3
   },
   "file_extension": ".py",
   "mimetype": "text/x-python",
   "name": "python",
   "nbconvert_exporter": "python",
   "pygments_lexer": "ipython3",
   "version": "3.7.1"
  }
 },
 "nbformat": 4,
 "nbformat_minor": 2
}
