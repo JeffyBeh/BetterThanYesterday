{
 "cells": [
  {
   "cell_type": "markdown",
   "metadata": {},
   "source": [
    "- range(start, end, step)"
   ]
  },
  {
   "cell_type": "code",
   "execution_count": 2,
   "metadata": {},
   "outputs": [
    {
     "name": "stdout",
     "output_type": "stream",
     "text": [
      "5050\n"
     ]
    }
   ],
   "source": [
    "'''\n",
    "    for-in 1-100求和\n",
    "'''\n",
    "\n",
    "sum = 0\n",
    "for i in range(101):\n",
    "    sum += i\n",
    "print(sum)"
   ]
  },
  {
   "cell_type": "code",
   "execution_count": 4,
   "metadata": {},
   "outputs": [
    {
     "name": "stdout",
     "output_type": "stream",
     "text": [
      "2550\n",
      "2550\n"
     ]
    }
   ],
   "source": [
    "'''\n",
    "    计算1-100偶数和\n",
    "'''\n",
    "# 方法1\n",
    "sum = 0\n",
    "for i in range(2, 101, 2):\n",
    "    sum += i\n",
    "print(sum)\n",
    "\n",
    "# 方法2\n",
    "sum1 = 0\n",
    "\n",
    "for i in range(101):\n",
    "    if i % 2 == 0:\n",
    "        sum1 += i\n",
    "print(sum1)"
   ]
  },
  {
   "cell_type": "code",
   "execution_count": 1,
   "metadata": {},
   "outputs": [
    {
     "name": "stdout",
     "output_type": "stream",
     "text": [
      "请输入要猜测是数字: 50\n",
      "猜大了！\n",
      "请输入要猜测是数字: 25\n",
      "猜小了\n",
      "请输入要猜测是数字: 40\n",
      "猜小了\n",
      "请输入要猜测是数字: 45\n",
      "猜大了！\n",
      "请输入要猜测是数字: 43\n",
      "猜大了！\n",
      "请输入要猜测是数字: 42\n",
      "猜对了\n",
      "你一共猜了6次\n"
     ]
    }
   ],
   "source": [
    "'''\n",
    "    猜数字游戏\n",
    "    机器随机产生0-100之间的任意整数\n",
    "    机器根据人输入的数字判断：猜大了/猜小了/猜对了\n",
    "'''\n",
    "\n",
    "import random\n",
    "\n",
    "answer = random.randint(1, 100)\n",
    "\n",
    "counter = 0\n",
    "\n",
    "while True:\n",
    "    counter += 1\n",
    "    number = int(input(\"请输入要猜测是数字: \"))\n",
    "    \n",
    "    if number > answer:\n",
    "        print('猜大了！')\n",
    "    elif number < answer:\n",
    "        print('猜小了')\n",
    "    elif number ==  answer:\n",
    "        print('猜对了')\n",
    "        break\n",
    "\n",
    "print('你一共猜了%d次' % counter)\n",
    "if counter > 7:\n",
    "    print('智商明显不够用啊！')"
   ]
  },
  {
   "cell_type": "code",
   "execution_count": 11,
   "metadata": {},
   "outputs": [
    {
     "name": "stdout",
     "output_type": "stream",
     "text": [
      "1 * 1 = 1   \n",
      "1 * 2 = 2   2 * 2 = 4   \n",
      "1 * 3 = 3   2 * 3 = 6   3 * 3 = 9   \n",
      "1 * 4 = 4   2 * 4 = 8   3 * 4 = 12   4 * 4 = 16   \n",
      "1 * 5 = 5   2 * 5 = 10   3 * 5 = 15   4 * 5 = 20   5 * 5 = 25   \n",
      "1 * 6 = 6   2 * 6 = 12   3 * 6 = 18   4 * 6 = 24   5 * 6 = 30   6 * 6 = 36   \n",
      "1 * 7 = 7   2 * 7 = 14   3 * 7 = 21   4 * 7 = 28   5 * 7 = 35   6 * 7 = 42   7 * 7 = 49   \n",
      "1 * 8 = 8   2 * 8 = 16   3 * 8 = 24   4 * 8 = 32   5 * 8 = 40   6 * 8 = 48   7 * 8 = 56   8 * 8 = 64   \n",
      "1 * 9 = 9   2 * 9 = 18   3 * 9 = 27   4 * 9 = 36   5 * 9 = 45   6 * 9 = 54   7 * 9 = 63   8 * 9 = 72   9 * 9 = 81   \n"
     ]
    }
   ],
   "source": [
    "'''\n",
    "    输出九九乘法表\n",
    "'''\n",
    "\n",
    "for i in range(1, 10):\n",
    "    for j in range(1, i + 1):\n",
    "         print('%d * %d = %d' % (j, i, i * j), end = '   ')\n",
    "    print()\n",
    "#         print(j, '*', i, '=', i * j)\n",
    "       "
   ]
  },
  {
   "cell_type": "markdown",
   "metadata": {},
   "source": [
    "### 练习\n",
    "#### 练习1：输入一个数判断是否为素数\n",
    "> tips：素数指的是只能被1和自身整除的大于1的整数。"
   ]
  },
  {
   "cell_type": "code",
   "execution_count": 15,
   "metadata": {},
   "outputs": [
    {
     "name": "stdout",
     "output_type": "stream",
     "text": [
      "Please input an integer：10\n",
      "10 is not a prime\n"
     ]
    }
   ],
   "source": [
    "'''\n",
    "    输入一个数判断是否为素数\n",
    "'''\n",
    "\n",
    "number = int(input('Please input an integer：'))\n",
    "\n",
    "is_prime = True\n",
    "\n",
    "for i in range(2, int(number ** 0.5)):\n",
    "    if number % i == 0:\n",
    "        is_prime = False\n",
    "        break\n",
    "        \n",
    "if is_prime == True:\n",
    "    print('%d is a prime' % number)\n",
    "else:\n",
    "    print('%d is not a prime' % number)\n"
   ]
  },
  {
   "cell_type": "markdown",
   "metadata": {},
   "source": [
    "#### 练习2：输入两个数求最大公约数和最小公倍数"
   ]
  },
  {
   "cell_type": "code",
   "execution_count": 1,
   "metadata": {},
   "outputs": [
    {
     "name": "stdout",
     "output_type": "stream",
     "text": [
      "x = 44\n",
      "y = 12\n",
      "辗转相除法最大公约数为： 4\n",
      "枚举法最大公约数为： 4\n",
      "更相减损法最大公约数为： 4\n",
      "stein算法最大公约数为:  4.0\n",
      "最小公倍数为： 528.0\n"
     ]
    }
   ],
   "source": [
    "'''\n",
    "    输入一个数求最大公约数和最小公倍数\n",
    "    \n",
    "'''\n",
    "\n",
    "a = int(input('x = '))\n",
    "b = int(input('y = '))\n",
    "\n",
    "if b > a:\n",
    "    a, b = b, a\n",
    "''' \n",
    "    辗转相除法求最大公约数\n",
    "        设两数为a,b设其中a 做被除数,b做除数，temp为余数\n",
    "        ① 大数放a中、小数放b中；\n",
    "        ② 求a/b的余数；temp=a%b\n",
    "        ③ 若temp=0则b为最大公约数；\n",
    "        ④ 如果temp!=0则把b的值给a、temp的值给b；\n",
    "        ⑤ 返回第二步；\n",
    "'''\n",
    "\n",
    "x, y = a, b\n",
    "while True:\n",
    "    temp = x % y\n",
    "    if temp == 0:\n",
    "        print('辗转相除法最大公约数为：', y)\n",
    "        break\n",
    "    elif temp > y:\n",
    "        x, y = temp, y\n",
    "    else:\n",
    "        x, y = y, temp\n",
    "\n",
    "'''\n",
    "    枚举法求最大公约数\n",
    "        ① 比较两个数的大小\n",
    "        ② 把较小的数从大到小列举\n",
    "        ③ 在2过程中找到可以同时被a,b整除的数，则这个数为最大公约数\n",
    "'''\n",
    "\n",
    "x, y = a, b\n",
    "for i in range(y, 1, -1):\n",
    "    if y % i == 0 and x % i == 0:\n",
    "        print('枚举法最大公约数为：', i)\n",
    "        break\n",
    "        \n",
    "'''\n",
    "    更相减损法：\n",
    "        ① 任意给定两个正整数；判断它们是否都是偶数。若是，则用2约简；若不是则执行第二步。\n",
    "        ② 以较大的数减较小的数，接着把所得的差与较小的数比较，并以大数减小数。继续这个操作，直到所得的减数和差相等为止。\n",
    "        ③ 第一步中约掉的若干个2与第二步中等数的乘积就是所求的最大公约数。\n",
    "'''\n",
    "\n",
    "x, y = a, b\n",
    "\n",
    "if x == y:\n",
    "    print('更相减损法最大公约数为：', x)\n",
    "else:\n",
    "    while True:\n",
    "        temp = x - y\n",
    "        if temp == y:\n",
    "            print('更相减损法最大公约数为：', temp)\n",
    "            break\n",
    "        elif temp > y:\n",
    "            x, y = temp, y\n",
    "        elif temp < y:\n",
    "            x, y = y, temp\n",
    "\n",
    "'''\n",
    "    Stein算法\n",
    "        ① a = 0, b为最大公约数\n",
    "        ② b = 0, a为最大公约数\n",
    "        ③ a、b均为偶数: a = a / 2, b = b / 2\n",
    "        ④ a为奇数, b为偶数: a = a, b = b / 2\n",
    "        ⑤ a为偶数, b为奇数: a = a / 2, b = b\n",
    "        ⑥ a、b均为奇数: a = |a - b| / 2, b = |a + b| / 2\n",
    "'''\n",
    "\n",
    "x, y = a, b\n",
    "count = 1\n",
    "gcd = 0\n",
    "    \n",
    "while True:\n",
    "    \n",
    "    if x == y:\n",
    "        gcd = x\n",
    "        print('stein算法最大公约数为: ', gcd * count)\n",
    "        break\n",
    "    elif x == 0:\n",
    "        gcd = y\n",
    "        print('stein算法最大公约数为: ', gcd)\n",
    "        break\n",
    "    elif y == 0:\n",
    "        gcd = x\n",
    "        print('stein算法最大公约数为: ', gcd)\n",
    "        break\n",
    "        \n",
    "    if x % 2 == 0 and y % 2 == 0:\n",
    "        x /= 2\n",
    "        y /= 2\n",
    "        count *= 2\n",
    "        \n",
    "    elif x % 2 == 0 and y % 2 != 0:\n",
    "        x /= 2\n",
    "        \n",
    "    elif x % 2 != 0 and y % 2 == 0:\n",
    "        y /= 2 \n",
    "        \n",
    "    elif x % 2 != 0 and y % 2 != 0:\n",
    "        temp = min(x, y)\n",
    "        x = abs(x - y) / 2\n",
    "        y = temp\n",
    "'''\n",
    "    最小公倍数：(a, b) [a, b] = ab, 即最大公约数 * 最小公倍数 = 两数之积\n",
    "'''\n",
    "x, y = a, b\n",
    "print('最小公倍数为：', x * y / gcd)"
   ]
  },
  {
   "cell_type": "markdown",
   "metadata": {},
   "source": [
    "#### 练习3：输入如下三角形\n",
    "```\n",
    "*\n",
    "**\n",
    "***\n",
    "****\n",
    "*****\n",
    "```\n",
    "```\n",
    "    *\n",
    "   **\n",
    "  ***\n",
    " ****\n",
    "*****\n",
    "```\n",
    "```\n",
    "    *\n",
    "   ***\n",
    "  *****\n",
    " *******\n",
    "*********\n",
    "```"
   ]
  },
  {
   "cell_type": "code",
   "execution_count": 21,
   "metadata": {},
   "outputs": [
    {
     "name": "stdout",
     "output_type": "stream",
     "text": [
      "输入行数：5\n",
      "*\n",
      "**\n",
      "***\n",
      "****\n",
      "*****\n",
      "     *\n",
      "    **\n",
      "   ***\n",
      "  ****\n",
      " *****\n",
      "     *\n",
      "    ***\n",
      "   *****\n",
      "  *******\n",
      " *********\n"
     ]
    }
   ],
   "source": [
    "x = int(input('输入行数：'))\n",
    "\n",
    "for i in range(1, x + 1):\n",
    "    print(\"*\" * i)\n",
    "    \n",
    "for i in range(1, x + 1):\n",
    "    print(\" \" * (x - i), '*' * i)\n",
    "\n",
    "for i in range(1, x + 1):\n",
    "    print(\" \" * (x - i), '*' * (2 * i -1))\n"
   ]
  },
  {
   "cell_type": "code",
   "execution_count": null,
   "metadata": {},
   "outputs": [],
   "source": []
  },
  {
   "cell_type": "code",
   "execution_count": null,
   "metadata": {},
   "outputs": [],
   "source": []
  },
  {
   "cell_type": "code",
   "execution_count": null,
   "metadata": {},
   "outputs": [],
   "source": []
  },
  {
   "cell_type": "code",
   "execution_count": null,
   "metadata": {},
   "outputs": [],
   "source": []
  },
  {
   "cell_type": "code",
   "execution_count": null,
   "metadata": {},
   "outputs": [],
   "source": []
  }
 ],
 "metadata": {
  "kernelspec": {
   "display_name": "Python 3",
   "language": "python",
   "name": "python3"
  },
  "language_info": {
   "codemirror_mode": {
    "name": "ipython",
    "version": 3
   },
   "file_extension": ".py",
   "mimetype": "text/x-python",
   "name": "python",
   "nbconvert_exporter": "python",
   "pygments_lexer": "ipython3",
   "version": "3.7.1"
  }
 },
 "nbformat": 4,
 "nbformat_minor": 2
}
