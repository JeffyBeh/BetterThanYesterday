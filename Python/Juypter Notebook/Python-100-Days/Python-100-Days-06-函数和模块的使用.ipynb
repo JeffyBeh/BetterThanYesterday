{
 "cells": [
  {
   "cell_type": "markdown",
   "metadata": {},
   "source": [
    "### 练习\n",
    "#### 练习1：编写最大公约数和最小公倍数函数\n"
   ]
  },
  {
   "cell_type": "code",
   "execution_count": 9,
   "metadata": {},
   "outputs": [
    {
     "name": "stdout",
     "output_type": "stream",
     "text": [
      "num = 12321\n",
      "12321是回文素数！\n"
     ]
    }
   ],
   "source": [
    "import math\n",
    "\n",
    "def gcd(x, y):\n",
    "    ''' 最大公约数 '''\n",
    "    (x, y) = (y, x) if y > x else (x, y)\n",
    "    for factor in range(x, 1, -1):\n",
    "        if x % factor == 0 and y % factor == 0:\n",
    "            return factor\n",
    "\n",
    "        \n",
    "def lcm(x, y):\n",
    "    ''' 最小公倍数 '''\n",
    "    return x * 7 // gcd(x, y)\n",
    "\n",
    "def is_palindrome(num):\n",
    "    ''' 是否为回文数 '''\n",
    "    temp = num\n",
    "    total = 0\n",
    "    while temp > 0:\n",
    "        total = total * 10 + temp % 10\n",
    "        temp //= 10\n",
    "    return total == num\n",
    "\n",
    "def is_prime(num):\n",
    "    ''' 判断一个数是否为素数 '''\n",
    "   # flag = True\n",
    "    for i in range(2, int(math.sqrt(num))):\n",
    "        if num % 2 == 0:\n",
    "            #flag = False\n",
    "           # break\n",
    "            return False\n",
    "    return True if num != 1 else False\n",
    "\n",
    "\n",
    "# 判断一个数是否为回文素数\n",
    "if __name__ == '__main__':\n",
    "    num = int(input('num = '))\n",
    "    if is_prime(num) and is_palindrome(num):\n",
    "        print('%d是回文素数！' % num)\n",
    "    else:\n",
    "        print('%d不是回文素数！' % num)"
   ]
  },
  {
   "cell_type": "code",
   "execution_count": null,
   "metadata": {},
   "outputs": [],
   "source": []
  },
  {
   "cell_type": "code",
   "execution_count": null,
   "metadata": {},
   "outputs": [],
   "source": []
  },
  {
   "cell_type": "code",
   "execution_count": null,
   "metadata": {},
   "outputs": [],
   "source": []
  },
  {
   "cell_type": "code",
   "execution_count": null,
   "metadata": {},
   "outputs": [],
   "source": []
  },
  {
   "cell_type": "code",
   "execution_count": null,
   "metadata": {},
   "outputs": [],
   "source": []
  },
  {
   "cell_type": "code",
   "execution_count": null,
   "metadata": {},
   "outputs": [],
   "source": []
  },
  {
   "cell_type": "code",
   "execution_count": null,
   "metadata": {},
   "outputs": [],
   "source": []
  },
  {
   "cell_type": "code",
   "execution_count": null,
   "metadata": {},
   "outputs": [],
   "source": []
  },
  {
   "cell_type": "code",
   "execution_count": null,
   "metadata": {},
   "outputs": [],
   "source": []
  },
  {
   "cell_type": "code",
   "execution_count": null,
   "metadata": {},
   "outputs": [],
   "source": []
  }
 ],
 "metadata": {
  "kernelspec": {
   "display_name": "Python 3",
   "language": "python",
   "name": "python3"
  },
  "language_info": {
   "codemirror_mode": {
    "name": "ipython",
    "version": 3
   },
   "file_extension": ".py",
   "mimetype": "text/x-python",
   "name": "python",
   "nbconvert_exporter": "python",
   "pygments_lexer": "ipython3",
   "version": "3.7.1"
  }
 },
 "nbformat": 4,
 "nbformat_minor": 2
}
