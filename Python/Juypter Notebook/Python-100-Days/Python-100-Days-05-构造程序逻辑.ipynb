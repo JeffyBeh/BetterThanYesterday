{
 "cells": [
  {
   "cell_type": "markdown",
   "metadata": {},
   "source": [
    "### 经典的例子\n",
    "1. 构造水仙花数\n",
    ">说明：水仙花数也被称为超完全数字不变数、自恋数、自幂数、阿姆斯特朗数，它是一个3位数，该数字每个位上数字的立方之和正好等于它本身，例如：$1^3 + 5^3+ 3^3=153$"
   ]
  },
  {
   "cell_type": "code",
   "execution_count": 12,
   "metadata": {
    "scrolled": true
   },
   "outputs": [
    {
     "name": "stdout",
     "output_type": "stream",
     "text": [
      "153\n",
      "370\n",
      "371\n",
      "407\n"
     ]
    }
   ],
   "source": [
    "'''\n",
    " 《构造水仙花数》\n",
    "'''\n",
    "# 方法一\n",
    "\n",
    "for i in range(1, 10):\n",
    "    for j in range(0,10):\n",
    "        for k in range(0,10):\n",
    "            if i * 100 + j * 10 + k == i ** 3 + j ** 3 + k ** 3:\n",
    "                print(i * 100 + j * 10 + k)"
   ]
  },
  {
   "cell_type": "code",
   "execution_count": 8,
   "metadata": {},
   "outputs": [
    {
     "name": "stdout",
     "output_type": "stream",
     "text": [
      "153\n",
      "370\n",
      "371\n",
      "407\n"
     ]
    }
   ],
   "source": [
    "# 方法二\n",
    "'''\n",
    " 《构造水仙花数》\n",
    "'''\n",
    "for num in range(100, 1000):\n",
    "    low = num % 10\n",
    "    mid = num // 10 % 10\n",
    "    high = num // 100\n",
    "    if low ** 3 + mid ** 3 + high ** 3 == num:\n",
    "        print(num)"
   ]
  },
  {
   "cell_type": "markdown",
   "metadata": {},
   "source": [
    "#### 1.1 将12345反转为54321(正整数反转)"
   ]
  },
  {
   "cell_type": "code",
   "execution_count": 16,
   "metadata": {},
   "outputs": [
    {
     "name": "stdout",
     "output_type": "stream",
     "text": [
      "请输入数字：987654321\n",
      "123456789\n"
     ]
    }
   ],
   "source": [
    "'''\n",
    "    《正整数反转》\n",
    "'''\n",
    "num = int(input(\"请输入数字：\"))\n",
    "\n",
    "reverse = 0\n",
    "while num > 0:\n",
    "    temp = num % 10\n",
    "    reverse = reverse * 10 + temp\n",
    "    num //= 10\n",
    "print(reverse)\n"
   ]
  },
  {
   "cell_type": "markdown",
   "metadata": {},
   "source": [
    "#### 2.百钱百鸡问题\n",
    "> 说明：百钱百鸡是我国古代数学家张丘建在《算经》一书中提出的数学问题：鸡翁一值钱五，鸡母一值钱三，鸡雏三值钱一。百钱买百鸡，问鸡翁、鸡母、鸡雏各几何？翻译成现代文是：公鸡5元一只，母鸡3元一只，小鸡1元三只，用100块钱买一百只鸡，问公鸡、母鸡、小鸡各有多少只？"
   ]
  },
  {
   "cell_type": "code",
   "execution_count": 28,
   "metadata": {},
   "outputs": [
    {
     "name": "stdout",
     "output_type": "stream",
     "text": [
      "0 25 75\n",
      "4 18 78\n",
      "8 11 81\n",
      "12 4 84\n",
      "\n",
      "0 25 75\n",
      "4 18 78\n",
      "8 11 81\n",
      "12 4 84\n"
     ]
    }
   ],
   "source": [
    "'''\n",
    "    《百钱百鸡》问题\n",
    "'''\n",
    "#方法一：\n",
    "for x in range(0, 20):\n",
    "    for y in range(0, 33):\n",
    "        for z in range(0, 100):\n",
    "            if 5 * x + 3 * y + z / 3 == 100 and x + y + z == 100:\n",
    "                print(x, y, z)\n",
    "   \n",
    "\n",
    "print()\n",
    "#方法二：\n",
    "for x in range(0, 20):\n",
    "    for y in range(0, 33):\n",
    "        z = 100 - x - y\n",
    "        if x * 5 + y * 3 + z / 3 == 100:\n",
    "            print(x, y, z)"
   ]
  },
  {
   "cell_type": "markdown",
   "metadata": {},
   "source": [
    "#### 3. CRAPS赌博游戏。\n",
    "> 说明：CRAPS又称花旗骰，是美国拉斯维加斯非常受欢迎的一种的桌上赌博游戏。该游戏使用两粒骰子，玩家通过摇两粒骰子获得点数进行游戏。简单的规则是：玩家第一次摇骰子如果摇出了7点或11点，玩家胜；玩家第一次如果摇出2点、3点或12点，庄家胜；其他点数玩家继续摇骰子，如果玩家摇出了7点，庄家胜；如果玩家摇出了第一次摇的点数，玩家胜；其他点数，玩家继续要骰子，直到分出胜负。"
   ]
  },
  {
   "cell_type": "code",
   "execution_count": 1,
   "metadata": {},
   "outputs": [
    {
     "name": "stdout",
     "output_type": "stream",
     "text": [
      "来，让老子看看你箱子里带了多少钱：2000000\n",
      "小子，下注吧：2000000\n",
      "来来来，买定离手咯：5\n",
      "再来：9\n",
      "再来：4\n",
      "再来：10\n",
      "再来：4\n",
      "再来：8\n",
      "再来：10\n",
      "再来：8\n",
      "再来：6\n",
      "再来：2\n",
      "再来：4\n",
      "再来：5\n",
      "小子运气不错啊！\n",
      "小子，你还有4000000块钱！\n",
      "小子，下注吧：4000000\n",
      "来来来，买定离手咯：8\n",
      "再来：3\n",
      "再来：11\n",
      "再来：6\n",
      "再来：3\n",
      "再来：4\n",
      "再来：4\n",
      "再来：7\n",
      "惨咯，庄家赢！\n",
      "小子，你还有0块钱！\n",
      "没钱还想玩，滚蛋吧你！\n"
     ]
    }
   ],
   "source": [
    "'''\n",
    "    玩家通过输入总金额及每次所下赌注，知道玩家输完所有或者玩家不再下注(0)，游戏结束\n",
    "    \n",
    "'''\n",
    "from random import randint\n",
    "\n",
    "sum_money = int(input(\"来，让老子看看你箱子里带了多少钱：\"))\n",
    "\n",
    "while sum_money >= 0:\n",
    "    if sum_money == 0:\n",
    "        print('没钱还想玩，滚蛋吧你！')\n",
    "        break\n",
    "    debt = int(input(\"小子，下注吧：\"))\n",
    "    if debt > sum_money:\n",
    "        debt = int(input(\"你tmd虎谁呢，你哪里有那么多钱，重新下：\"))\n",
    "    elif debt == 0:\n",
    "        print(\"小子！这就不玩了啊！怂蛋！\")\n",
    "        print(\"看看你还有多少钱：%d\" % sum_money)\n",
    "        break\n",
    "    \n",
    "    firstNum = randint(1, 6) + randint(1, 6) \n",
    "    print(\"来来来，买定离手咯：%d\" % firstNum)\n",
    "    \n",
    "    if firstNum == 7 or firstNum == 11:\n",
    "        sum_money += debt\n",
    "        print('小子，运气不错哦，上来就上来赢了！')\n",
    "        print('小子，你还有%d块钱！' % sum_money)\n",
    "        continue\n",
    "    elif firstNum == 2 or firstNum == 3 or firstNum == 12:\n",
    "        sum_money -= debt\n",
    "        print('惨咯，庄家赢！')\n",
    "        print('小子，你还有%d块钱！' % sum_money)\n",
    "        continue\n",
    "    else:\n",
    "        need_goes_on = True\n",
    "        while need_goes_on:\n",
    "            number = randint(1, 6) + randint(1, 6)\n",
    "            print(\"再来：%d\" % number)\n",
    "            if number == firstNum:\n",
    "                sum_money += debt\n",
    "                print('小子运气不错啊！')\n",
    "                print('小子，你还有%d块钱！' % sum_money)\n",
    "                break\n",
    "            elif number == 7:\n",
    "                sum_money -= debt\n",
    "                print('惨咯，庄家赢！')\n",
    "                print('小子，你还有%d块钱！' % sum_money)\n",
    "                break\n",
    "    "
   ]
  },
  {
   "cell_type": "markdown",
   "metadata": {},
   "source": [
    "#### 4. 生成斐波那契数列前n位\n",
    ">说明：斐波那契数列（Fibonacci sequence），又称黄金分割数列，是意大利数学家莱昂纳多·斐波那契（Leonardoda Fibonacci）在《计算之书》中提出一个在理想假设条件下兔子成长率的问题而引入的数列，所以这个数列也被戏称为\"兔子数列\"。斐波那契数列的特点是数列的前两个数都是1，从第三个数开始，每个数都是它前面两个数的和，形如：1, 1, 2, 3, 5, 8, 13, 21, 34, 55, 89, 144, ...。斐波那契数列在现代物理、准晶体结构、化学等领域都有直接的应用。"
   ]
  },
  {
   "cell_type": "code",
   "execution_count": 37,
   "metadata": {},
   "outputs": [
    {
     "name": "stdout",
     "output_type": "stream",
     "text": [
      "多少位：10\n",
      "1 1 2 3 5 8 13 21 34 55 \n",
      "1 1 2 3 5 8 13 21 34 55 "
     ]
    }
   ],
   "source": [
    "'''\n",
    "    《斐波那契数列》前n位\n",
    "'''\n",
    "\n",
    "# 方法一：递归\n",
    "n = int(input('多少位：'))\n",
    "\n",
    "def fibonacci(n):\n",
    "    if n == 1 or n == 2:\n",
    "        return 1\n",
    "    if n > 2:\n",
    "        return fibonacci(n - 2) + fibonacci(n - 1)\n",
    "\n",
    "for i in range(1, n + 1):\n",
    "    print(fibonacci(i), end = ' ')\n",
    "\n",
    "#方法二：非递归\n",
    "print()\n",
    "a, b = 1, 1\n",
    "for i in range(1, n + 1):\n",
    "    if i == 1:\n",
    "        print(a, end = ' ')\n",
    "    if i == 2:\n",
    "        print(b, end = ' ')\n",
    "    if i > 2:\n",
    "        a, b = b, a + b\n",
    "        print(b, end = ' ')\n",
    "        "
   ]
  },
  {
   "cell_type": "markdown",
   "metadata": {},
   "source": [
    "#### 5. 找出10000以内的完美数。\n",
    "> 说明：完美数又称为完全数或完备数，它的所有的真因子（即除了自身以外的因子）的和（即因子函数）恰好等于它本身。例如：6（$6=1+2+3$）和28（$28=1+2+4+7+14$）就是完美数。完美数有很多神奇的特性，有兴趣的可以自行了解。"
   ]
  },
  {
   "cell_type": "code",
   "execution_count": 11,
   "metadata": {},
   "outputs": [
    {
     "name": "stdout",
     "output_type": "stream",
     "text": [
      "6 28 496 8128 \n",
      "1 6 28 496 8128 "
     ]
    }
   ],
   "source": [
    "'''\n",
    "    10000以内的完美数\n",
    "'''\n",
    "\n",
    "sum = 0\n",
    "for i in range(1, 10000):\n",
    "    for j in range(1, i):\n",
    "        if i % j == 0:\n",
    "            sum += j\n",
    "    if sum == i:\n",
    "        print(sum, end = ' ')\n",
    "    sum = 0\n",
    "    \n",
    "\"\"\"\n",
    "找出1~9999之间的所有完美数\n",
    "完美数是除自身外其他所有因子的和正好等于这个数本身的数\n",
    "例如: 6 = 1 + 2 + 3, 28 = 1 + 2 + 4 + 7 + 14\n",
    "\n",
    "Version: 0.1\n",
    "Author: 骆昊\n",
    "Date: 2018-03-02\n",
    "\"\"\"\n",
    "import math\n",
    "print()\n",
    "for num in range(1, 10000):\n",
    "    result = 0\n",
    "    for factor in range(1, int(math.sqrt(num)) + 1):\n",
    "        if num % factor == 0:\n",
    "            result += factor\n",
    "            if factor > 1 and num // factor != factor:\n",
    "                result += num // factor\n",
    "    if result == num:  \n",
    "        print(num, end=' ')\n"
   ]
  },
  {
   "cell_type": "markdown",
   "metadata": {},
   "source": [
    "#### 6. 输出100以内所有的素数。\n",
    "> 素数指的是只能被1和自身整除的正整数（不包括1）"
   ]
  },
  {
   "cell_type": "code",
   "execution_count": 13,
   "metadata": {},
   "outputs": [
    {
     "name": "stdout",
     "output_type": "stream",
     "text": [
      "2 3 5 7 11 13 17 19 23 29 31 37 41 43 47 53 59 61 67 71 73 79 83 89 97 \n",
      "2 3 5 7 11 13 17 19 23 29 31 37 41 43 47 53 59 61 67 71 73 79 83 89 97 "
     ]
    }
   ],
   "source": [
    "'''\n",
    "    100以内素数\n",
    "'''\n",
    "\n",
    "\n",
    "for i in range(2, 100):\n",
    "    flag = True\n",
    "    for j in range(2, i):\n",
    "        if i % j == 0:\n",
    "            flag = False\n",
    "            break\n",
    "    if flag == False:\n",
    "        continue\n",
    "    print(i, end = ' ')\n",
    "print()\n",
    "\n",
    "\n",
    "\"\"\"\n",
    "输出2~99之间的素数\n",
    "\n",
    "Version: 0.1\n",
    "Author: 骆昊\n",
    "Date: 2018-03-02\n",
    "\"\"\"\n",
    "\n",
    "import math\n",
    "\n",
    "for num in range(2, 100):\n",
    "    is_prime = True\n",
    "    for factor in range(2, int(math.sqrt(num)) + 1):\n",
    "        if num % factor == 0:\n",
    "            is_prime = False\n",
    "            break\n",
    "    if is_prime:\n",
    "        print(num, end=' ')"
   ]
  },
  {
   "cell_type": "code",
   "execution_count": null,
   "metadata": {},
   "outputs": [],
   "source": []
  },
  {
   "cell_type": "code",
   "execution_count": null,
   "metadata": {},
   "outputs": [],
   "source": []
  },
  {
   "cell_type": "code",
   "execution_count": null,
   "metadata": {},
   "outputs": [],
   "source": []
  },
  {
   "cell_type": "code",
   "execution_count": null,
   "metadata": {},
   "outputs": [],
   "source": []
  }
 ],
 "metadata": {
  "kernelspec": {
   "display_name": "Python 3",
   "language": "python",
   "name": "python3"
  },
  "language_info": {
   "codemirror_mode": {
    "name": "ipython",
    "version": 3
   },
   "file_extension": ".py",
   "mimetype": "text/x-python",
   "name": "python",
   "nbconvert_exporter": "python",
   "pygments_lexer": "ipython3",
   "version": "3.7.1"
  }
 },
 "nbformat": 4,
 "nbformat_minor": 2
}
